{
  "nbformat": 4,
  "nbformat_minor": 0,
  "metadata": {
    "colab": {
      "name": "FinalProject_NNDL.ipynb",
      "provenance": [],
      "collapsed_sections": [
        "r4mD0HK6cC1L",
        "AxFbHXkrcQg4",
        "9N6CMW3JcUSB",
        "SRW33EwudVtB",
        "6VuRGVRDvzfd",
        "Z5iHdURTHMgc",
        "LUxD3W14QI00",
        "4FNHubYcHdJt",
        "5J9h3vgHxOrE",
        "uBQzkDjNX-g_",
        "dQVpwJ6ajSHc"
      ],
      "machine_shape": "hm",
      "include_colab_link": true
    },
    "kernelspec": {
      "name": "python3",
      "display_name": "Python 3"
    },
    "language_info": {
      "name": "python"
    },
    "accelerator": "GPU"
  },
  "cells": [
    {
      "cell_type": "markdown",
      "metadata": {
        "id": "view-in-github",
        "colab_type": "text"
      },
      "source": [
        "<a href=\"https://colab.research.google.com/github/xjseabrum/nndl_final_project/blob/main/FinalProject_NNDL.ipynb\" target=\"_parent\"><img src=\"https://colab.research.google.com/assets/colab-badge.svg\" alt=\"Open In Colab\"/></a>"
      ]
    },
    {
      "cell_type": "markdown",
      "source": [
        "# Setup and Import Statements"
      ],
      "metadata": {
        "id": "r4mD0HK6cC1L"
      }
    },
    {
      "cell_type": "code",
      "execution_count": null,
      "metadata": {
        "colab": {
          "base_uri": "https://localhost:8080/"
        },
        "id": "MvM9LAHEhdEL",
        "outputId": "b4d0a7c1-97d8-4053-d53f-89f9f2c91866"
      },
      "outputs": [
        {
          "output_type": "stream",
          "name": "stdout",
          "text": [
            "Mounted at /content/gdrive\n"
          ]
        }
      ],
      "source": [
        "from google.colab import drive\n",
        "drive.mount('/content/gdrive')"
      ]
    },
    {
      "cell_type": "code",
      "source": [
        "import os as os\n",
        "os.chdir(\"/content/gdrive/MyDrive/NNDL Final Project\")"
      ],
      "metadata": {
        "id": "CFecJtzMht-Z"
      },
      "execution_count": null,
      "outputs": []
    },
    {
      "cell_type": "code",
      "source": [
        "!pip3 install -r requirements.txt"
      ],
      "metadata": {
        "colab": {
          "base_uri": "https://localhost:8080/"
        },
        "id": "H2VKOObWi_dI",
        "outputId": "bef452a9-e5fd-4a02-984e-19fc6f484101"
      },
      "execution_count": null,
      "outputs": [
        {
          "output_type": "stream",
          "name": "stdout",
          "text": [
            "Requirement already satisfied: pandas in /usr/local/lib/python3.7/dist-packages (from -r requirements.txt (line 2)) (1.3.5)\n",
            "Requirement already satisfied: nltk in /usr/local/lib/python3.7/dist-packages (from -r requirements.txt (line 3)) (3.2.5)\n",
            "Requirement already satisfied: gensim in /usr/local/lib/python3.7/dist-packages (from -r requirements.txt (line 4)) (3.6.0)\n",
            "Collecting pickle5\n",
            "  Downloading pickle5-0.0.12-cp37-cp37m-manylinux_2_5_x86_64.manylinux1_x86_64.whl (256 kB)\n",
            "\u001b[?25l\r\u001b[K     |█▎                              | 10 kB 31.5 MB/s eta 0:00:01\r\u001b[K     |██▋                             | 20 kB 17.4 MB/s eta 0:00:01\r\u001b[K     |███▉                            | 30 kB 9.9 MB/s eta 0:00:01\r\u001b[K     |█████▏                          | 40 kB 8.2 MB/s eta 0:00:01\r\u001b[K     |██████▍                         | 51 kB 4.4 MB/s eta 0:00:01\r\u001b[K     |███████▊                        | 61 kB 5.2 MB/s eta 0:00:01\r\u001b[K     |█████████                       | 71 kB 5.4 MB/s eta 0:00:01\r\u001b[K     |██████████▎                     | 81 kB 5.7 MB/s eta 0:00:01\r\u001b[K     |███████████▌                    | 92 kB 6.4 MB/s eta 0:00:01\r\u001b[K     |████████████▉                   | 102 kB 5.1 MB/s eta 0:00:01\r\u001b[K     |██████████████                  | 112 kB 5.1 MB/s eta 0:00:01\r\u001b[K     |███████████████▍                | 122 kB 5.1 MB/s eta 0:00:01\r\u001b[K     |████████████████▋               | 133 kB 5.1 MB/s eta 0:00:01\r\u001b[K     |██████████████████              | 143 kB 5.1 MB/s eta 0:00:01\r\u001b[K     |███████████████████▏            | 153 kB 5.1 MB/s eta 0:00:01\r\u001b[K     |████████████████████▌           | 163 kB 5.1 MB/s eta 0:00:01\r\u001b[K     |█████████████████████▊          | 174 kB 5.1 MB/s eta 0:00:01\r\u001b[K     |███████████████████████         | 184 kB 5.1 MB/s eta 0:00:01\r\u001b[K     |████████████████████████▎       | 194 kB 5.1 MB/s eta 0:00:01\r\u001b[K     |█████████████████████████▋      | 204 kB 5.1 MB/s eta 0:00:01\r\u001b[K     |██████████████████████████▉     | 215 kB 5.1 MB/s eta 0:00:01\r\u001b[K     |████████████████████████████▏   | 225 kB 5.1 MB/s eta 0:00:01\r\u001b[K     |█████████████████████████████▍  | 235 kB 5.1 MB/s eta 0:00:01\r\u001b[K     |██████████████████████████████▊ | 245 kB 5.1 MB/s eta 0:00:01\r\u001b[K     |████████████████████████████████| 256 kB 5.1 MB/s eta 0:00:01\r\u001b[K     |████████████████████████████████| 256 kB 5.1 MB/s \n",
            "\u001b[?25hRequirement already satisfied: numpy>=1.17.3 in /usr/local/lib/python3.7/dist-packages (from pandas->-r requirements.txt (line 2)) (1.21.6)\n",
            "Requirement already satisfied: pytz>=2017.3 in /usr/local/lib/python3.7/dist-packages (from pandas->-r requirements.txt (line 2)) (2022.1)\n",
            "Requirement already satisfied: python-dateutil>=2.7.3 in /usr/local/lib/python3.7/dist-packages (from pandas->-r requirements.txt (line 2)) (2.8.2)\n",
            "Requirement already satisfied: six>=1.5 in /usr/local/lib/python3.7/dist-packages (from python-dateutil>=2.7.3->pandas->-r requirements.txt (line 2)) (1.15.0)\n",
            "Requirement already satisfied: smart-open>=1.2.1 in /usr/local/lib/python3.7/dist-packages (from gensim->-r requirements.txt (line 4)) (6.0.0)\n",
            "Requirement already satisfied: scipy>=0.18.1 in /usr/local/lib/python3.7/dist-packages (from gensim->-r requirements.txt (line 4)) (1.4.1)\n",
            "Installing collected packages: pickle5\n",
            "Successfully installed pickle5-0.0.12\n"
          ]
        }
      ]
    },
    {
      "cell_type": "code",
      "source": [
        "import json\n",
        "import math\n",
        "import pandas as pd\n",
        "import datetime\n",
        "import h5py\n",
        "# Using the TweetTokenizer as Twitch chat is spammy and is not formal.\n",
        "# Also catches text emojis like :) , <3 , and D:\n",
        "from nltk.tokenize import TweetTokenizer\n",
        "import pickle5 as pickle\n",
        "from gensim.models import Word2Vec\n",
        "import numpy as np\n",
        "import tensorflow as tf\n",
        "from tensorflow import keras\n",
        "from tensorflow.keras import layers\n",
        "from tensorflow.keras.preprocessing.text import Tokenizer\n",
        "from tensorflow.keras.preprocessing.sequence import pad_sequences\n",
        "from tensorflow.keras.models import load_model\n",
        "from sklearn.metrics import confusion_matrix, ConfusionMatrixDisplay\n",
        "from sklearn.model_selection import train_test_split\n",
        "from sklearn import metrics\n",
        "from keras.callbacks import ModelCheckpoint, EarlyStopping\n",
        "from tensorflow.keras.layers import Bidirectional\n",
        "from tensorflow.keras.layers import LSTM\n",
        "from keras.layers import GRU\n",
        "from keras.layers import TextVectorization\n",
        "from keras.layers import Embedding\n",
        "from keras.initializers import Constant\n",
        "from keras import layers, Input, Model\n",
        "import matplotlib.pyplot as plt"
      ],
      "metadata": {
        "id": "TVSUbfSisPsO"
      },
      "execution_count": null,
      "outputs": []
    },
    {
      "cell_type": "markdown",
      "source": [
        "# Helper Functions and Class Declarations"
      ],
      "metadata": {
        "id": "AHgwUksVcIu2"
      }
    },
    {
      "cell_type": "markdown",
      "source": [
        "## Helper Functions"
      ],
      "metadata": {
        "id": "AxFbHXkrcQg4"
      }
    },
    {
      "cell_type": "code",
      "source": [
        "# For making sure all the words in the\n",
        "# list are lowercase before performing training with w2v\n",
        "def lowercase_words(sentence_list):\n",
        "    sent_list = list(sentence_list)\n",
        "    sents = []\n",
        "    sentences = range(len(sent_list))\n",
        "    for sent in sentences:\n",
        "        row = sentence_list[sent]\n",
        "        # Removing empty string characters as they're... empty.\n",
        "        lowercase = [x.lower() if x != \"\\U000e0000\" else \"\" for x in row]\n",
        "        while (\"\" in lowercase):\n",
        "            lowercase.remove(\"\")\n",
        "        sents.append(lowercase)\n",
        "    return sents"
      ],
      "metadata": {
        "id": "RQRjhNa5cR9U"
      },
      "execution_count": null,
      "outputs": []
    },
    {
      "cell_type": "code",
      "source": [
        "# For manually setting the labels for values\n",
        "def set_labels(value):\n",
        "    if value < 0 :\n",
        "        return \"negative\"\n",
        "    if value > 0:\n",
        "        return \"positive\"\n",
        "    return \"neutral\""
      ],
      "metadata": {
        "id": "keU8Dzu8vuDt"
      },
      "execution_count": null,
      "outputs": []
    },
    {
      "cell_type": "code",
      "source": [
        "# For saving an object to file provided that that filename\n",
        "# doesn't already exist\n",
        "def save_to_file(filename, item):\n",
        "    if os.path.exists(filename):\n",
        "        print(f\"{filename} already exists in the path.  WILL NOT OVERWRITE!\")\n",
        "    else:\n",
        "        print(f\"Saving {filename} to the path...\")\n",
        "        with open(filename, 'wb') as f:\n",
        "            pickle.dump(item, f, protocol=pickle.HIGHEST_PROTOCOL)\n",
        "        print(f\"Saved {filename}!\")"
      ],
      "metadata": {
        "id": "7zQhqNT5cTIR"
      },
      "execution_count": null,
      "outputs": []
    },
    {
      "cell_type": "code",
      "source": [
        "# For loading in a pickled file\n",
        "def load_pickle_file(filename):\n",
        "    return pickle.load(open(filename, \"rb\"))"
      ],
      "metadata": {
        "id": "90iPwKj6BB4i"
      },
      "execution_count": null,
      "outputs": []
    },
    {
      "cell_type": "code",
      "source": [
        "# For implementing checkpointing\n",
        "def set_up_checkpoint(checkpoint_name):\n",
        "  return ModelCheckpoint(checkpoint_name, \n",
        "                         monitor = \"val_acc\",\n",
        "                         mode = 'max',\n",
        "                         save_best_only = True,\n",
        "                         save_weights_only = True, \n",
        "                         verbose = 1)"
      ],
      "metadata": {
        "id": "9sDPLiPheqKr"
      },
      "execution_count": null,
      "outputs": []
    },
    {
      "cell_type": "code",
      "source": [
        "# For providing the argmax class amongst the predictions\n",
        "def output_prediction(prediction_list):\n",
        "    predictions = []\n",
        "    rows = range(len(prediction_list))\n",
        "    for row in rows:\n",
        "        query = prediction_list[row]\n",
        "        arg_max_idx = np.argmax(query)\n",
        "        predictions.append(arg_max_idx)\n",
        "    return np.array(predictions)"
      ],
      "metadata": {
        "id": "UEk3EUXqmK_N"
      },
      "execution_count": null,
      "outputs": []
    },
    {
      "cell_type": "code",
      "source": [
        "# For printing out the prec-recall-f1 scores and accuracy\n",
        "def output_prediction_results(pred_list, name_list, test_vec):\n",
        "    assert isinstance(pred_list, list), \"The pred_list should be a list.\"\n",
        "    assert isinstance(name_list, list), \"The name_list should be a list.\"\n",
        "    assert (len(pred_list) == len(name_list)), \"The length of the two lists is not the same.\"\n",
        "    for item in range(len(pred_list)):\n",
        "        print(\"=\"*65)\n",
        "        print(name_list[item] + \" results:\\n\")\n",
        "        print(metrics.classification_report(test_vec, pred_list[item], digits = 3))\n",
        "        print(\"\\nConfusion Matrix:\")\n",
        "        conf_mat = confusion_matrix(test_vec, pred_list[item])\n",
        "        conf_mat_perc = confusion_matrix(test_vec, pred_list[item], \n",
        "                                         normalize = 'true')\n",
        "        print(conf_mat)\n",
        "        disp_cnt = ConfusionMatrixDisplay(confusion_matrix = conf_mat)\n",
        "        disp_cnt.plot()\n",
        "        disp_cnt.ax_.set_title(f\"{name_list[item]} Count Conf. Mat.\")\n",
        "        disp_per = ConfusionMatrixDisplay(confusion_matrix = conf_mat_perc)\n",
        "        disp_per.plot()\n",
        "        disp_per.ax_.set_title(f\"{name_list[item]} Row (True) Percent Conf. Mat.\")"
      ],
      "metadata": {
        "id": "PADs1-vOosz7"
      },
      "execution_count": null,
      "outputs": []
    },
    {
      "cell_type": "markdown",
      "source": [
        ""
      ],
      "metadata": {
        "id": "oVX20WDuor4b"
      }
    },
    {
      "cell_type": "markdown",
      "source": [
        "## Classes"
      ],
      "metadata": {
        "id": "9N6CMW3JcUSB"
      }
    },
    {
      "cell_type": "code",
      "source": [
        "# This class takes in a json filepath\n",
        "# and outputs a pandas dataframe if \n",
        "# get_pandas(json_filepath) is called\n",
        "\n",
        "# message.is_action seems to capture when a user does a ! command in chat\n",
        "# useful to use as a filter for subsetting.\n",
        "\n",
        "# message.user_notice_params.msg-id captures when a user subscribes or when \n",
        "# a user uses a bits badge tier notification. Useful for subsetting\n",
        "\n",
        "# The subset cutoffs in __subset_frame\n",
        "# are based on looking at the .describe() stats of\n",
        "# the chats and taking the average across them.  \n",
        "# Also, we know we want chats that contain\n",
        "# at least 3 tokens anyway for embedding purposes.\n",
        "# Chats over 20 tokens are likely mega-spam or bot messages\n",
        "# such as X subscribed for Y-months etc.\n",
        "# The subset isn't perfect, but should get at the core of it all.\n",
        "\n",
        "class PreProcessTwitchJSON:\n",
        "    def __init__(self):\n",
        "        self.pandas_output = None\n",
        "        self.suppress = False\n",
        "        self.encoder = 'utf-8'\n",
        "        self.tokenizer = TweetTokenizer()\n",
        "        self.json_filepath = None\n",
        "        self.filename = None\n",
        "        self.min_token = 3\n",
        "        self.max_token = 20\n",
        "        self.min_ratio = 0.65\n",
        "        #Do we want to keep some of these columns as features in our model>\n",
        "        #maybe time has some influence\n",
        "        self.drop_columns = [\"_id\", \"created_at\", \"updated_at\", \"content_type\", \n",
        "                             \"content_id\", \"source\", \"state\", \"more_replies\", \n",
        "                             \"commenter.display_name\", \"commenter._id\", \n",
        "                             \"commenter.bio\", \"commenter.created_at\", \n",
        "                             \"commenter.updated_at\", \"commenter.logo\", \n",
        "                             \"message.bits_spent\", \"message.user_badges\", \n",
        "                             \"message.user_color\"]\n",
        "    \n",
        "    def __read_json_output_df(self):\n",
        "        with open(self.json_filepath, 'r', encoding = self.encoder) as f:\n",
        "            json_data = json.loads(f.read())\n",
        "        output_data = pd.json_normalize(json_data, record_path = ['comments'])\n",
        "        self.pandas_output = output_data\n",
        "    \n",
        "    def __create_timestamp(self):\n",
        "        stamp = [str(datetime.timedelta(seconds = math.floor(x))) for x in \n",
        "                 self.pandas_output.content_offset_seconds]\n",
        "        self.pandas_output[\"stream_timestamp\"] = stamp\n",
        "    \n",
        "    def __chat_tokenize(self):\n",
        "        chat_iterator = iter(self.pandas_output[\"message.body\"])\n",
        "        tokens = []\n",
        "        token_length = []\n",
        "        unique_tokens = []\n",
        "        unique_length = []\n",
        "        for chat in chat_iterator:\n",
        "            tokenized_chat = self.tokenizer.tokenize(chat)\n",
        "            tokens.append(tokenized_chat)\n",
        "            token_length.append(len(tokenized_chat))\n",
        "            unique_tokens.append(list(set(tokenized_chat)))\n",
        "            unique_length.append(len(set(tokenized_chat)))\n",
        "        self.pandas_output[\"chat_tokens\"] = tokens\n",
        "        self.pandas_output[\"chat_length\"] = token_length\n",
        "        self.pandas_output[\"unique_tokens\"] = unique_tokens\n",
        "        self.pandas_output[\"unique_length\"] = unique_length\n",
        "        self.pandas_output[\"unique_ratio\"] = self.pandas_output[\"unique_length\"] / self.pandas_output[\"chat_length\"]\n",
        "    \n",
        "    def __set_filepath(self, filepath):\n",
        "        self.json_filepath = filepath\n",
        "    \n",
        "    def __clean_columns(self):\n",
        "        self.pandas_output = self.pandas_output.drop(columns = self.drop_columns)\n",
        "    \n",
        "    def __subset_frame(self):\n",
        "        self.pandas_output = self.pandas_output[(self.pandas_output[\"chat_length\"] >= self.min_token) & \n",
        "                                                (self.pandas_output[\"unique_ratio\"] >= self.min_ratio) & \n",
        "                                                (self.pandas_output[\"chat_length\"] <= self.max_token) &\n",
        "                                                (self.pandas_output[\"message.is_action\"] == False) & \n",
        "                                                (self.pandas_output[\"message.user_notice_params.msg-id\"].isna())]\n",
        "        self.pandas_output = self.pandas_output.drop(columns = [\"message.is_action\",\n",
        "                                                                \"message.user_notice_params.msg-id\"])\n",
        "\n",
        "    def __get_info(self):\n",
        "        if not self.suppress:\n",
        "            print(\"=\"*65)\n",
        "            print(\"Dataframe information:\\n\" + \"=\"*65)\n",
        "            self.pandas_output.info()\n",
        "        print(\"=\"*65)\n",
        "        print(\"{} chat(s) processed from the {} JSON file.\".format(\n",
        "                                       len(self.pandas_output), self.filename))\n",
        "        print(\"=\"*65)\n",
        "    \n",
        "    def get_pandas(self, json_filepath, suppress = True, subset = False):\n",
        "        self.suppress = suppress\n",
        "        self.filename = json_filepath.split(\".\")[0]\n",
        "        self.__set_filepath(json_filepath)\n",
        "        self.__read_json_output_df()\n",
        "        self.__create_timestamp()\n",
        "        self.__chat_tokenize()\n",
        "        self.__clean_columns()\n",
        "        if subset == True:\n",
        "            self.__subset_frame()\n",
        "        self.__get_info()\n",
        "        return self.pandas_output"
      ],
      "metadata": {
        "id": "x-OCdsOYjRRy"
      },
      "execution_count": null,
      "outputs": []
    },
    {
      "cell_type": "markdown",
      "source": [
        "# Preprocess the Twitch JSON Data"
      ],
      "metadata": {
        "id": "SRW33EwudVtB"
      }
    },
    {
      "cell_type": "code",
      "source": [
        "# Create the class object\n",
        "preproc = PreProcessTwitchJSON()"
      ],
      "metadata": {
        "id": "ibXhtLPcsYKh"
      },
      "execution_count": null,
      "outputs": []
    },
    {
      "cell_type": "code",
      "source": [
        "# Bring in the data from different streamers\n",
        "xqc = preproc.get_pandas(\"chatlogs/xQcOW.json\")\n",
        "mizkif = preproc.get_pandas(\"chatlogs/Mizkif.json\")\n",
        "emiru = preproc.get_pandas(\"chatlogs/Emiru.json\")\n",
        "fuslie = preproc.get_pandas(\"chatlogs/fuslie.json\")\n",
        "sykkuno = preproc.get_pandas(\"chatlogs/Sykkuno.json\")\n",
        "qt = preproc.get_pandas(\"chatlogs/QTCinderella.json\")"
      ],
      "metadata": {
        "colab": {
          "base_uri": "https://localhost:8080/"
        },
        "id": "WnUZ5k8IsU8x",
        "outputId": "f5bb8cd3-9ff1-43d7-9a03-f5b0306328c7"
      },
      "execution_count": null,
      "outputs": [
        {
          "output_type": "stream",
          "name": "stdout",
          "text": [
            "=================================================================\n",
            "332740 chat(s) processed in the chatlogs/xQcOW JSON file.\n",
            "=================================================================\n",
            "=================================================================\n",
            "269699 chat(s) processed in the chatlogs/Mizkif JSON file.\n",
            "=================================================================\n",
            "=================================================================\n",
            "114954 chat(s) processed in the chatlogs/Emiru JSON file.\n",
            "=================================================================\n",
            "=================================================================\n",
            "67945 chat(s) processed in the chatlogs/fuslie JSON file.\n",
            "=================================================================\n",
            "=================================================================\n",
            "39664 chat(s) processed in the chatlogs/QTCinderella JSON file.\n",
            "=================================================================\n",
            "=================================================================\n",
            "61239 chat(s) processed in the chatlogs/Sykkuno JSON file.\n",
            "=================================================================\n"
          ]
        }
      ]
    },
    {
      "cell_type": "code",
      "source": [
        "xqc2 = preproc.get_pandas(\"chatlogs/xQcOW.json\", subset = True)\n",
        "mizkif2 = preproc.get_pandas(\"chatlogs/Mizkif.json\", subset = True)\n",
        "emiru2 = preproc.get_pandas(\"chatlogs/Emiru.json\", subset = True)\n",
        "fuslie2 = preproc.get_pandas(\"chatlogs/fuslie.json\", subset = True)\n",
        "sykkuno2 = preproc.get_pandas(\"chatlogs/Sykkuno.json\", subset = True)\n",
        "qt2 = preproc.get_pandas(\"chatlogs/QTCinderella.json\", subset = True)"
      ],
      "metadata": {
        "colab": {
          "base_uri": "https://localhost:8080/"
        },
        "id": "BrvWBFqM6_i1",
        "outputId": "a722d20a-8f07-4c20-bda8-ea7af53df3ba"
      },
      "execution_count": null,
      "outputs": [
        {
          "output_type": "stream",
          "name": "stdout",
          "text": [
            "=================================================================\n",
            "93959 chat(s) processed from the chatlogs/xQcOW JSON file.\n",
            "=================================================================\n",
            "=================================================================\n",
            "70324 chat(s) processed from the chatlogs/Mizkif JSON file.\n",
            "=================================================================\n",
            "=================================================================\n",
            "24603 chat(s) processed from the chatlogs/Emiru JSON file.\n",
            "=================================================================\n",
            "=================================================================\n",
            "21645 chat(s) processed from the chatlogs/fuslie JSON file.\n",
            "=================================================================\n",
            "=================================================================\n",
            "19147 chat(s) processed from the chatlogs/Sykkuno JSON file.\n",
            "=================================================================\n",
            "=================================================================\n",
            "14702 chat(s) processed from the chatlogs/QTCinderella JSON file.\n",
            "=================================================================\n"
          ]
        }
      ]
    },
    {
      "cell_type": "code",
      "source": [
        "# Pickle the subset dataframes\n",
        "xqc2.to_pickle(\"xqc_subset.pkl\")\n",
        "mizkif2.to_pickle(\"mizkif_subset.pkl\")\n",
        "emiru2.to_pickle(\"emiru_subset.pkl\")\n",
        "fuslie2.to_pickle(\"fuslie_subset.pkl\")\n",
        "sykkuno2.to_pickle(\"sykkuno_subset.pkl\")\n",
        "qt2.to_pickle(\"qt_subset.pkl\")"
      ],
      "metadata": {
        "id": "hZC5_KdMgBiu"
      },
      "execution_count": null,
      "outputs": []
    },
    {
      "cell_type": "code",
      "source": [
        "# Conjoin the dataframes\n",
        "conjoined = pd.concat([xqc2, mizkif2, emiru2, fuslie2, sykkuno2, qt2], \n",
        "                      ignore_index = True)\n",
        "conjoined"
      ],
      "metadata": {
        "colab": {
          "base_uri": "https://localhost:8080/",
          "height": 800
        },
        "id": "hq0BNNQNgqww",
        "outputId": "fc01de37-098c-4b41-880a-2d3c859669be"
      },
      "execution_count": null,
      "outputs": [
        {
          "output_type": "execute_result",
          "data": {
            "text/plain": [
              "       channel_id  content_offset_seconds commenter.name commenter.type  \\\n",
              "0        71092938                  11.687   steeltalonsx           user   \n",
              "1        71092938                  11.863    appleairpod           user   \n",
              "2        71092938                  12.436         skubru           user   \n",
              "3        71092938                  12.636     xl_sxca_lx           user   \n",
              "4        71092938                  15.645       bhobrain           user   \n",
              "...           ...                     ...            ...            ...   \n",
              "244375  247808909               24064.357   shaynanegins           user   \n",
              "244376  247808909               24064.381        cj_dr20           user   \n",
              "244377  247808909               24065.024      mowmoogly           user   \n",
              "244378  247808909               24078.463      ahmedaces           user   \n",
              "244379  247808909               24081.403        divapjm           user   \n",
              "\n",
              "                        message.body  \\\n",
              "0                        told u guys   \n",
              "1                          PagMan 󠀀󠀀   \n",
              "2                 actually live PogU   \n",
              "3                  wtdf is happening   \n",
              "4                        POG U LIVER   \n",
              "...                              ...   \n",
              "244375             ty for the strim!   \n",
              "244376           good stream qtcLove   \n",
              "244377         bye everyone peepoBye   \n",
              "244378  why is peepoBye bttv and 7tv   \n",
              "244379                     have a gn   \n",
              "\n",
              "                                        message.fragments  \\\n",
              "0             [{'text': 'told u guys', 'emoticon': None}]   \n",
              "1               [{'text': 'PagMan 󠀀󠀀', 'emoticon': None}]   \n",
              "2       [{'text': 'actually live PogU', 'emoticon': No...   \n",
              "3       [{'text': 'wtdf is happening', 'emoticon': None}]   \n",
              "4             [{'text': 'POG U LIVER', 'emoticon': None}]   \n",
              "...                                                   ...   \n",
              "244375  [{'text': 'ty for the strim!', 'emoticon': None}]   \n",
              "244376  [{'text': 'good stream ', 'emoticon': None}, {...   \n",
              "244377  [{'text': 'bye everyone peepoBye', 'emoticon':...   \n",
              "244378  [{'text': 'why is peepoBye bttv and 7tv', 'emo...   \n",
              "244379          [{'text': 'have a gn', 'emoticon': None}]   \n",
              "\n",
              "                                     message.emoticons stream_timestamp  \\\n",
              "0                                                 None          0:00:11   \n",
              "1                                                 None          0:00:11   \n",
              "2                                                 None          0:00:12   \n",
              "3                                                 None          0:00:12   \n",
              "4                                                 None          0:00:15   \n",
              "...                                                ...              ...   \n",
              "244375                                            None          6:41:04   \n",
              "244376  [{'_id': '302080676', 'begin': 12, 'end': 18}]          6:41:04   \n",
              "244377                                            None          6:41:05   \n",
              "244378                                            None          6:41:18   \n",
              "244379                                            None          6:41:21   \n",
              "\n",
              "                                chat_tokens  chat_length  \\\n",
              "0                           [told, u, guys]            3   \n",
              "1                            [PagMan, 󠀀, 󠀀]            3   \n",
              "2                    [actually, live, PogU]            3   \n",
              "3                     [wtdf, is, happening]            3   \n",
              "4                           [POG, U, LIVER]            3   \n",
              "...                                     ...          ...   \n",
              "244375             [ty, for, the, strim, !]            5   \n",
              "244376              [good, stream, qtcLove]            3   \n",
              "244377            [bye, everyone, peepoBye]            3   \n",
              "244378  [why, is, peepoBye, bttv, and, 7tv]            6   \n",
              "244379                        [have, a, gn]            3   \n",
              "\n",
              "                              unique_tokens  unique_length  unique_ratio  \n",
              "0                           [u, told, guys]              3      1.000000  \n",
              "1                               [PagMan, 󠀀]              2      0.666667  \n",
              "2                    [PogU, actually, live]              3      1.000000  \n",
              "3                     [wtdf, happening, is]              3      1.000000  \n",
              "4                           [LIVER, U, POG]              3      1.000000  \n",
              "...                                     ...            ...           ...  \n",
              "244375             [for, the, ty, strim, !]              5      1.000000  \n",
              "244376              [qtcLove, good, stream]              3      1.000000  \n",
              "244377            [peepoBye, bye, everyone]              3      1.000000  \n",
              "244378  [7tv, and, peepoBye, why, bttv, is]              6      1.000000  \n",
              "244379                        [have, gn, a]              3      1.000000  \n",
              "\n",
              "[244380 rows x 13 columns]"
            ],
            "text/html": [
              "\n",
              "  <div id=\"df-c84b4928-766a-47f4-8620-62615a3f45f6\">\n",
              "    <div class=\"colab-df-container\">\n",
              "      <div>\n",
              "<style scoped>\n",
              "    .dataframe tbody tr th:only-of-type {\n",
              "        vertical-align: middle;\n",
              "    }\n",
              "\n",
              "    .dataframe tbody tr th {\n",
              "        vertical-align: top;\n",
              "    }\n",
              "\n",
              "    .dataframe thead th {\n",
              "        text-align: right;\n",
              "    }\n",
              "</style>\n",
              "<table border=\"1\" class=\"dataframe\">\n",
              "  <thead>\n",
              "    <tr style=\"text-align: right;\">\n",
              "      <th></th>\n",
              "      <th>channel_id</th>\n",
              "      <th>content_offset_seconds</th>\n",
              "      <th>commenter.name</th>\n",
              "      <th>commenter.type</th>\n",
              "      <th>message.body</th>\n",
              "      <th>message.fragments</th>\n",
              "      <th>message.emoticons</th>\n",
              "      <th>stream_timestamp</th>\n",
              "      <th>chat_tokens</th>\n",
              "      <th>chat_length</th>\n",
              "      <th>unique_tokens</th>\n",
              "      <th>unique_length</th>\n",
              "      <th>unique_ratio</th>\n",
              "    </tr>\n",
              "  </thead>\n",
              "  <tbody>\n",
              "    <tr>\n",
              "      <th>0</th>\n",
              "      <td>71092938</td>\n",
              "      <td>11.687</td>\n",
              "      <td>steeltalonsx</td>\n",
              "      <td>user</td>\n",
              "      <td>told u guys</td>\n",
              "      <td>[{'text': 'told u guys', 'emoticon': None}]</td>\n",
              "      <td>None</td>\n",
              "      <td>0:00:11</td>\n",
              "      <td>[told, u, guys]</td>\n",
              "      <td>3</td>\n",
              "      <td>[u, told, guys]</td>\n",
              "      <td>3</td>\n",
              "      <td>1.000000</td>\n",
              "    </tr>\n",
              "    <tr>\n",
              "      <th>1</th>\n",
              "      <td>71092938</td>\n",
              "      <td>11.863</td>\n",
              "      <td>appleairpod</td>\n",
              "      <td>user</td>\n",
              "      <td>PagMan 󠀀󠀀</td>\n",
              "      <td>[{'text': 'PagMan 󠀀󠀀', 'emoticon': None}]</td>\n",
              "      <td>None</td>\n",
              "      <td>0:00:11</td>\n",
              "      <td>[PagMan, 󠀀, 󠀀]</td>\n",
              "      <td>3</td>\n",
              "      <td>[PagMan, 󠀀]</td>\n",
              "      <td>2</td>\n",
              "      <td>0.666667</td>\n",
              "    </tr>\n",
              "    <tr>\n",
              "      <th>2</th>\n",
              "      <td>71092938</td>\n",
              "      <td>12.436</td>\n",
              "      <td>skubru</td>\n",
              "      <td>user</td>\n",
              "      <td>actually live PogU</td>\n",
              "      <td>[{'text': 'actually live PogU', 'emoticon': No...</td>\n",
              "      <td>None</td>\n",
              "      <td>0:00:12</td>\n",
              "      <td>[actually, live, PogU]</td>\n",
              "      <td>3</td>\n",
              "      <td>[PogU, actually, live]</td>\n",
              "      <td>3</td>\n",
              "      <td>1.000000</td>\n",
              "    </tr>\n",
              "    <tr>\n",
              "      <th>3</th>\n",
              "      <td>71092938</td>\n",
              "      <td>12.636</td>\n",
              "      <td>xl_sxca_lx</td>\n",
              "      <td>user</td>\n",
              "      <td>wtdf is happening</td>\n",
              "      <td>[{'text': 'wtdf is happening', 'emoticon': None}]</td>\n",
              "      <td>None</td>\n",
              "      <td>0:00:12</td>\n",
              "      <td>[wtdf, is, happening]</td>\n",
              "      <td>3</td>\n",
              "      <td>[wtdf, happening, is]</td>\n",
              "      <td>3</td>\n",
              "      <td>1.000000</td>\n",
              "    </tr>\n",
              "    <tr>\n",
              "      <th>4</th>\n",
              "      <td>71092938</td>\n",
              "      <td>15.645</td>\n",
              "      <td>bhobrain</td>\n",
              "      <td>user</td>\n",
              "      <td>POG U LIVER</td>\n",
              "      <td>[{'text': 'POG U LIVER', 'emoticon': None}]</td>\n",
              "      <td>None</td>\n",
              "      <td>0:00:15</td>\n",
              "      <td>[POG, U, LIVER]</td>\n",
              "      <td>3</td>\n",
              "      <td>[LIVER, U, POG]</td>\n",
              "      <td>3</td>\n",
              "      <td>1.000000</td>\n",
              "    </tr>\n",
              "    <tr>\n",
              "      <th>...</th>\n",
              "      <td>...</td>\n",
              "      <td>...</td>\n",
              "      <td>...</td>\n",
              "      <td>...</td>\n",
              "      <td>...</td>\n",
              "      <td>...</td>\n",
              "      <td>...</td>\n",
              "      <td>...</td>\n",
              "      <td>...</td>\n",
              "      <td>...</td>\n",
              "      <td>...</td>\n",
              "      <td>...</td>\n",
              "      <td>...</td>\n",
              "    </tr>\n",
              "    <tr>\n",
              "      <th>244375</th>\n",
              "      <td>247808909</td>\n",
              "      <td>24064.357</td>\n",
              "      <td>shaynanegins</td>\n",
              "      <td>user</td>\n",
              "      <td>ty for the strim!</td>\n",
              "      <td>[{'text': 'ty for the strim!', 'emoticon': None}]</td>\n",
              "      <td>None</td>\n",
              "      <td>6:41:04</td>\n",
              "      <td>[ty, for, the, strim, !]</td>\n",
              "      <td>5</td>\n",
              "      <td>[for, the, ty, strim, !]</td>\n",
              "      <td>5</td>\n",
              "      <td>1.000000</td>\n",
              "    </tr>\n",
              "    <tr>\n",
              "      <th>244376</th>\n",
              "      <td>247808909</td>\n",
              "      <td>24064.381</td>\n",
              "      <td>cj_dr20</td>\n",
              "      <td>user</td>\n",
              "      <td>good stream qtcLove</td>\n",
              "      <td>[{'text': 'good stream ', 'emoticon': None}, {...</td>\n",
              "      <td>[{'_id': '302080676', 'begin': 12, 'end': 18}]</td>\n",
              "      <td>6:41:04</td>\n",
              "      <td>[good, stream, qtcLove]</td>\n",
              "      <td>3</td>\n",
              "      <td>[qtcLove, good, stream]</td>\n",
              "      <td>3</td>\n",
              "      <td>1.000000</td>\n",
              "    </tr>\n",
              "    <tr>\n",
              "      <th>244377</th>\n",
              "      <td>247808909</td>\n",
              "      <td>24065.024</td>\n",
              "      <td>mowmoogly</td>\n",
              "      <td>user</td>\n",
              "      <td>bye everyone peepoBye</td>\n",
              "      <td>[{'text': 'bye everyone peepoBye', 'emoticon':...</td>\n",
              "      <td>None</td>\n",
              "      <td>6:41:05</td>\n",
              "      <td>[bye, everyone, peepoBye]</td>\n",
              "      <td>3</td>\n",
              "      <td>[peepoBye, bye, everyone]</td>\n",
              "      <td>3</td>\n",
              "      <td>1.000000</td>\n",
              "    </tr>\n",
              "    <tr>\n",
              "      <th>244378</th>\n",
              "      <td>247808909</td>\n",
              "      <td>24078.463</td>\n",
              "      <td>ahmedaces</td>\n",
              "      <td>user</td>\n",
              "      <td>why is peepoBye bttv and 7tv</td>\n",
              "      <td>[{'text': 'why is peepoBye bttv and 7tv', 'emo...</td>\n",
              "      <td>None</td>\n",
              "      <td>6:41:18</td>\n",
              "      <td>[why, is, peepoBye, bttv, and, 7tv]</td>\n",
              "      <td>6</td>\n",
              "      <td>[7tv, and, peepoBye, why, bttv, is]</td>\n",
              "      <td>6</td>\n",
              "      <td>1.000000</td>\n",
              "    </tr>\n",
              "    <tr>\n",
              "      <th>244379</th>\n",
              "      <td>247808909</td>\n",
              "      <td>24081.403</td>\n",
              "      <td>divapjm</td>\n",
              "      <td>user</td>\n",
              "      <td>have a gn</td>\n",
              "      <td>[{'text': 'have a gn', 'emoticon': None}]</td>\n",
              "      <td>None</td>\n",
              "      <td>6:41:21</td>\n",
              "      <td>[have, a, gn]</td>\n",
              "      <td>3</td>\n",
              "      <td>[have, gn, a]</td>\n",
              "      <td>3</td>\n",
              "      <td>1.000000</td>\n",
              "    </tr>\n",
              "  </tbody>\n",
              "</table>\n",
              "<p>244380 rows × 13 columns</p>\n",
              "</div>\n",
              "      <button class=\"colab-df-convert\" onclick=\"convertToInteractive('df-c84b4928-766a-47f4-8620-62615a3f45f6')\"\n",
              "              title=\"Convert this dataframe to an interactive table.\"\n",
              "              style=\"display:none;\">\n",
              "        \n",
              "  <svg xmlns=\"http://www.w3.org/2000/svg\" height=\"24px\"viewBox=\"0 0 24 24\"\n",
              "       width=\"24px\">\n",
              "    <path d=\"M0 0h24v24H0V0z\" fill=\"none\"/>\n",
              "    <path d=\"M18.56 5.44l.94 2.06.94-2.06 2.06-.94-2.06-.94-.94-2.06-.94 2.06-2.06.94zm-11 1L8.5 8.5l.94-2.06 2.06-.94-2.06-.94L8.5 2.5l-.94 2.06-2.06.94zm10 10l.94 2.06.94-2.06 2.06-.94-2.06-.94-.94-2.06-.94 2.06-2.06.94z\"/><path d=\"M17.41 7.96l-1.37-1.37c-.4-.4-.92-.59-1.43-.59-.52 0-1.04.2-1.43.59L10.3 9.45l-7.72 7.72c-.78.78-.78 2.05 0 2.83L4 21.41c.39.39.9.59 1.41.59.51 0 1.02-.2 1.41-.59l7.78-7.78 2.81-2.81c.8-.78.8-2.07 0-2.86zM5.41 20L4 18.59l7.72-7.72 1.47 1.35L5.41 20z\"/>\n",
              "  </svg>\n",
              "      </button>\n",
              "      \n",
              "  <style>\n",
              "    .colab-df-container {\n",
              "      display:flex;\n",
              "      flex-wrap:wrap;\n",
              "      gap: 12px;\n",
              "    }\n",
              "\n",
              "    .colab-df-convert {\n",
              "      background-color: #E8F0FE;\n",
              "      border: none;\n",
              "      border-radius: 50%;\n",
              "      cursor: pointer;\n",
              "      display: none;\n",
              "      fill: #1967D2;\n",
              "      height: 32px;\n",
              "      padding: 0 0 0 0;\n",
              "      width: 32px;\n",
              "    }\n",
              "\n",
              "    .colab-df-convert:hover {\n",
              "      background-color: #E2EBFA;\n",
              "      box-shadow: 0px 1px 2px rgba(60, 64, 67, 0.3), 0px 1px 3px 1px rgba(60, 64, 67, 0.15);\n",
              "      fill: #174EA6;\n",
              "    }\n",
              "\n",
              "    [theme=dark] .colab-df-convert {\n",
              "      background-color: #3B4455;\n",
              "      fill: #D2E3FC;\n",
              "    }\n",
              "\n",
              "    [theme=dark] .colab-df-convert:hover {\n",
              "      background-color: #434B5C;\n",
              "      box-shadow: 0px 1px 3px 1px rgba(0, 0, 0, 0.15);\n",
              "      filter: drop-shadow(0px 1px 2px rgba(0, 0, 0, 0.3));\n",
              "      fill: #FFFFFF;\n",
              "    }\n",
              "  </style>\n",
              "\n",
              "      <script>\n",
              "        const buttonEl =\n",
              "          document.querySelector('#df-c84b4928-766a-47f4-8620-62615a3f45f6 button.colab-df-convert');\n",
              "        buttonEl.style.display =\n",
              "          google.colab.kernel.accessAllowed ? 'block' : 'none';\n",
              "\n",
              "        async function convertToInteractive(key) {\n",
              "          const element = document.querySelector('#df-c84b4928-766a-47f4-8620-62615a3f45f6');\n",
              "          const dataTable =\n",
              "            await google.colab.kernel.invokeFunction('convertToInteractive',\n",
              "                                                     [key], {});\n",
              "          if (!dataTable) return;\n",
              "\n",
              "          const docLinkHtml = 'Like what you see? Visit the ' +\n",
              "            '<a target=\"_blank\" href=https://colab.research.google.com/notebooks/data_table.ipynb>data table notebook</a>'\n",
              "            + ' to learn more about interactive tables.';\n",
              "          element.innerHTML = '';\n",
              "          dataTable['output_type'] = 'display_data';\n",
              "          await google.colab.output.renderOutput(dataTable, element);\n",
              "          const docLink = document.createElement('div');\n",
              "          docLink.innerHTML = docLinkHtml;\n",
              "          element.appendChild(docLink);\n",
              "        }\n",
              "      </script>\n",
              "    </div>\n",
              "  </div>\n",
              "  "
            ]
          },
          "metadata": {},
          "execution_count": 12
        }
      ]
    },
    {
      "cell_type": "code",
      "source": [
        "# Save the conjoined frame\n",
        "if os.path.exists(\"conjoined_subset.pkl\") == False:\n",
        "    conjoined.to_pickle(\"conjoined_subset.pkl\")"
      ],
      "metadata": {
        "id": "0ouK1TlAg9OV"
      },
      "execution_count": null,
      "outputs": []
    },
    {
      "cell_type": "markdown",
      "source": [
        "# Load in the pre-saved Twitch dataframe"
      ],
      "metadata": {
        "id": "6VuRGVRDvzfd"
      }
    },
    {
      "cell_type": "code",
      "source": [
        "# Load in the conjoined dataset\n",
        "conjoined = pd.read_pickle(\"conjoined_subset.pkl\")"
      ],
      "metadata": {
        "id": "KLLRlNtorJwl"
      },
      "execution_count": null,
      "outputs": []
    },
    {
      "cell_type": "markdown",
      "source": [
        "# Word2Vec embeddings"
      ],
      "metadata": {
        "id": "CU-CPKXybbQW"
      }
    },
    {
      "cell_type": "code",
      "source": [
        "sentences =  conjoined.loc[:,\"chat_tokens\"]\n",
        "sents = lowercase_words(sentences)"
      ],
      "metadata": {
        "id": "PQCJ16ouh5hO"
      },
      "execution_count": null,
      "outputs": []
    },
    {
      "cell_type": "code",
      "source": [
        "len(sents)"
      ],
      "metadata": {
        "colab": {
          "base_uri": "https://localhost:8080/"
        },
        "id": "kDyFDVmkjR6I",
        "outputId": "9e272597-eac7-4f5e-a517-c73ca7211e8e"
      },
      "execution_count": null,
      "outputs": [
        {
          "output_type": "execute_result",
          "data": {
            "text/plain": [
              "244380"
            ]
          },
          "metadata": {},
          "execution_count": 178
        }
      ]
    },
    {
      "cell_type": "code",
      "source": [
        "sentences[0:10]"
      ],
      "metadata": {
        "colab": {
          "base_uri": "https://localhost:8080/"
        },
        "id": "hcx5vPKPd3EE",
        "outputId": "459dc1da-1b30-4581-afad-19d6925b8374"
      },
      "execution_count": null,
      "outputs": [
        {
          "output_type": "execute_result",
          "data": {
            "text/plain": [
              "0           [told, u, guys]\n",
              "1            [PagMan, 󠀀, 󠀀]\n",
              "2    [actually, live, PogU]\n",
              "3     [wtdf, is, happening]\n",
              "4           [POG, U, LIVER]\n",
              "5          [pog, you, live]\n",
              "6           [PogU, REAL, 󠀀]\n",
              "7           [MR, COW, PogU]\n",
              "8      [PogU, not, retired]\n",
              "9           [PogU, REAL, 󠀀]\n",
              "Name: chat_tokens, dtype: object"
            ]
          },
          "metadata": {},
          "execution_count": 17
        }
      ]
    },
    {
      "cell_type": "code",
      "source": [
        "# Loading in the extra embeddings\n",
        "# these were generated with the \"ExtraTwitchMessages.py\"\n",
        "# code in the folder.\n",
        "# Takes 14s to load in\n",
        "extra_messages = load_pickle_file(\"extra_twitch_messages.pkl\")"
      ],
      "metadata": {
        "id": "Xo9VTJ4DAxVD"
      },
      "execution_count": null,
      "outputs": []
    },
    {
      "cell_type": "code",
      "source": [
        "len(extra_messages)"
      ],
      "metadata": {
        "colab": {
          "base_uri": "https://localhost:8080/"
        },
        "id": "Ait5Nz46MzfB",
        "outputId": "6ccbf209-ebe4-4081-f381-db4182e8328b"
      },
      "execution_count": null,
      "outputs": [
        {
          "output_type": "execute_result",
          "data": {
            "text/plain": [
              "5841389"
            ]
          },
          "metadata": {},
          "execution_count": 180
        }
      ]
    },
    {
      "cell_type": "code",
      "source": [
        "sents_extra = sents + extra_messages"
      ],
      "metadata": {
        "id": "Ft9pkCXcBs03"
      },
      "execution_count": null,
      "outputs": []
    },
    {
      "cell_type": "code",
      "source": [
        "sentarr = np.array(sents, dtype = \"object\")\n",
        "sentarr_extra = np.array(sents_extra, dtype = \"object\")"
      ],
      "metadata": {
        "id": "oGiB3By-kPRK"
      },
      "execution_count": null,
      "outputs": []
    },
    {
      "cell_type": "code",
      "source": [
        "# train model\n",
        "w2v_embeddings = Word2Vec(sentarr, min_count = 6, size = 200)\n",
        "\n",
        "# twitch embeddings take roughly 3 min to train additionally\n",
        "# because the twitch_embeddings corpus is so large\n",
        "# we can be more aggresive with the min_count value\n",
        "twitch_embeddings = Word2Vec(sentarr_extra, min_count = 15, size = 200)\n",
        "\n",
        "# summarize the loaded models\n",
        "print(w2v_embeddings)\n",
        "print(twitch_embeddings)"
      ],
      "metadata": {
        "colab": {
          "base_uri": "https://localhost:8080/"
        },
        "id": "As-0TQ9vkUXo",
        "outputId": "d1ec574e-f7d3-498a-ff5d-634a029ea35f"
      },
      "execution_count": null,
      "outputs": [
        {
          "output_type": "stream",
          "name": "stdout",
          "text": [
            "Word2Vec(vocab=9524, size=200, alpha=0.025)\n",
            "Word2Vec(vocab=54451, size=200, alpha=0.025)\n"
          ]
        }
      ]
    },
    {
      "cell_type": "code",
      "source": [
        "w2v_embeddings.wv.most_similar(positive=\"lol\", topn = 20)"
      ],
      "metadata": {
        "colab": {
          "base_uri": "https://localhost:8080/"
        },
        "id": "uMx7FuOUl1xl",
        "outputId": "569788de-823a-4894-968a-fb629618d80c"
      },
      "execution_count": null,
      "outputs": [
        {
          "output_type": "execute_result",
          "data": {
            "text/plain": [
              "[('lmao', 0.909743070602417),\n",
              " ('kekw', 0.8178013563156128),\n",
              " ('literally', 0.7755635380744934),\n",
              " ('probably', 0.7564040422439575),\n",
              " ('yep', 0.7445864677429199),\n",
              " ('because', 0.7294270992279053),\n",
              " ('most', 0.7215163111686707),\n",
              " ('by', 0.7148621082305908),\n",
              " ('lulw', 0.7088608145713806),\n",
              " ('tho', 0.6857784390449524),\n",
              " ('cause', 0.6663498878479004),\n",
              " ('bc', 0.6599993705749512),\n",
              " ('though', 0.6574540138244629),\n",
              " ('failfish', 0.6570232510566711),\n",
              " ('even', 0.6426588296890259),\n",
              " ('without', 0.638812780380249),\n",
              " ('also', 0.635379433631897),\n",
              " ('when', 0.6306459307670593),\n",
              " ('from', 0.6285984516143799),\n",
              " ('and', 0.6260555386543274)]"
            ]
          },
          "metadata": {},
          "execution_count": 22
        }
      ]
    },
    {
      "cell_type": "code",
      "source": [
        "twitch_embeddings.wv.most_similar(positive=\"lol\", topn = 20)"
      ],
      "metadata": {
        "colab": {
          "base_uri": "https://localhost:8080/"
        },
        "id": "0cfvtYzcDF7v",
        "outputId": "18913094-6ca9-4be2-c292-3c06629ea9ac"
      },
      "execution_count": null,
      "outputs": [
        {
          "output_type": "execute_result",
          "data": {
            "text/plain": [
              "[('lmao', 0.8908963799476624),\n",
              " ('lul', 0.7165015339851379),\n",
              " ('lmfao', 0.6708642244338989),\n",
              " ('lulw', 0.6602413654327393),\n",
              " ('haha', 0.6508798599243164),\n",
              " ('xd', 0.6468310356140137),\n",
              " ('but', 0.6133180260658264),\n",
              " ('and', 0.6004449725151062),\n",
              " ('rofl', 0.5744327306747437),\n",
              " ('hahaha', 0.5576643943786621),\n",
              " ('tho', 0.5313534736633301),\n",
              " ('though', 0.5209619998931885),\n",
              " ('kappa', 0.5193719863891602),\n",
              " ('that', 0.5108391642570496),\n",
              " ('kekw', 0.5047675967216492),\n",
              " ('because', 0.4990473985671997),\n",
              " ('literally', 0.4965772032737732),\n",
              " ('just', 0.49364522099494934),\n",
              " ('cause', 0.4897365868091583),\n",
              " ('lolol', 0.48933732509613037)]"
            ]
          },
          "metadata": {},
          "execution_count": 23
        }
      ]
    },
    {
      "cell_type": "markdown",
      "source": [
        "# Glove Embeddings, 200D"
      ],
      "metadata": {
        "id": "syQPOSZwcx_h"
      }
    },
    {
      "cell_type": "code",
      "source": [
        "# Load in the embedding file\n",
        "path_to_glove_file = \"glove.6B.200d.txt\"\n",
        "glove_embeddings = {}\n",
        "i = 0\n",
        "with open(path_to_glove_file) as f:\n",
        "    for line in f:\n",
        "        # if i < 10:\n",
        "        #   print(line)\n",
        "        word, coefs = line.split(maxsplit=1)\n",
        "        coefs = np.fromstring(coefs, \"f\", sep=\" \")\n",
        "        glove_embeddings[word] = coefs\n",
        "        i += 1\n",
        "print(f\"{i} word(s) loaded in.\")\n",
        "del(i)"
      ],
      "metadata": {
        "colab": {
          "base_uri": "https://localhost:8080/"
        },
        "id": "h3TEJhc8cDW5",
        "outputId": "57da3802-4600-4f04-ffa0-f4ff378ffffa"
      },
      "execution_count": null,
      "outputs": [
        {
          "output_type": "stream",
          "name": "stdout",
          "text": [
            "400000 word(s) loaded in.\n"
          ]
        }
      ]
    },
    {
      "cell_type": "code",
      "source": [
        "print(glove_embeddings[\"hello\"])"
      ],
      "metadata": {
        "id": "o_DjI1FThouX",
        "colab": {
          "base_uri": "https://localhost:8080/"
        },
        "outputId": "4868629b-508f-49ad-b364-750e2d08e189"
      },
      "execution_count": null,
      "outputs": [
        {
          "output_type": "stream",
          "name": "stdout",
          "text": [
            "[ 0.26609    0.21821   -0.10996   -0.48408   -0.11181   -0.09882\n",
            " -0.45315    0.44198   -0.034614   0.10541   -0.29537   -0.10881\n",
            "  0.20916    0.52484   -0.17985   -0.31187   -0.25724    0.65267\n",
            "  0.217      0.86503    0.47239   -0.078582   0.31035   -0.12155\n",
            " -0.12502   -0.40418    0.53803   -0.57842   -0.63668   -0.13502\n",
            " -0.040484   0.41378   -0.63201   -0.38847   -0.43767   -0.19706\n",
            "  0.2878     0.36039   -0.032893  -0.20361   -0.34918    0.95923\n",
            " -0.51221   -0.19035    0.1567     0.17704    0.55302    0.27636\n",
            " -0.13707    0.91361    0.25948   -0.30107    0.48343   -0.046869\n",
            " -0.2796    -0.040385  -0.45773    0.2768    -0.14468    0.036539\n",
            "  0.36018   -0.54939    0.19359   -0.38263   -0.29661   -0.18938\n",
            "  0.095681   0.46646    0.3366     0.78351    0.49517   -0.82418\n",
            "  0.34402   -0.50038   -0.71074   -0.25711   -0.36619    0.61746\n",
            " -0.31281   -0.042413   0.37915   -0.62383    0.27208    0.32852\n",
            " -0.23045   -0.12469    0.29898   -0.22525   -0.27045   -0.4447\n",
            " -0.15889    0.20325   -0.25676   -0.80511   -0.36305    0.5591\n",
            "  0.19485   -0.087511  -0.26798   -0.020999   0.27168    0.3788\n",
            " -0.028056  -0.31491   -0.032708  -0.037524   0.055884   0.27919\n",
            " -0.47791    0.44201   -0.117     -0.28299    0.58407    0.1921\n",
            " -0.27566    0.51481    0.40295    0.43387   -0.81911   -0.50214\n",
            " -0.23985   -0.41465    0.2562    -0.2873     0.24746   -0.33388\n",
            "  0.30396    0.23779    0.24736   -0.26719   -0.59272   -0.66793\n",
            " -0.028869   0.01017   -0.77352   -0.97084   -0.12454    0.13479\n",
            "  0.037783   0.25665   -0.12159   -0.158      0.39382   -0.40814\n",
            "  0.65089    0.10582   -0.29278   -0.36394   -0.57366    0.54263\n",
            "  0.46474    0.63384   -0.0042357  0.40399   -0.21361    0.48244\n",
            "  0.048722  -0.26775    0.077936   0.056241   0.078183  -0.14628\n",
            " -0.27488   -0.38877   -0.10263   -0.14811   -0.20134   -0.19073\n",
            "  0.36527   -0.73402    0.35858   -0.010074   0.67942    0.65751\n",
            " -0.048382   0.12915   -0.68121   -0.054314   0.024121   0.5411\n",
            "  1.2272     0.039207  -0.17359    0.077392  -0.14036   -0.85091\n",
            "  0.10199    0.29552    0.47807   -0.87819    0.1986    -0.073157\n",
            " -0.23209    0.06856   -0.18215   -0.30916   -0.29031   -0.11982\n",
            " -0.19163   -0.13518  ]\n"
          ]
        }
      ]
    },
    {
      "cell_type": "code",
      "source": [
        "print(w2v_embeddings[\"hello\"])"
      ],
      "metadata": {
        "id": "dzsJ_7GYhrct",
        "colab": {
          "base_uri": "https://localhost:8080/"
        },
        "outputId": "3599f33f-392e-4b8b-ee54-a3011b7687b3"
      },
      "execution_count": null,
      "outputs": [
        {
          "output_type": "stream",
          "name": "stdout",
          "text": [
            "[ 0.01211837  0.17919388  0.31367493 -0.671889    0.6610753  -0.9802314\n",
            "  0.13803974 -0.3237668  -0.49687505 -0.05531858 -1.0474763  -0.4973724\n",
            " -0.0770257   0.1710688   0.05304653  0.05185505 -0.29615745  0.35784164\n",
            "  0.28335634  0.04160067  0.23523903  0.6186477  -0.3207673  -0.3991383\n",
            " -0.06581183  0.18779753 -0.32003504  0.49727604  0.21201622 -0.27140218\n",
            " -0.2943641  -0.1704792   0.35214567 -0.00413887 -0.51407874 -0.37616068\n",
            "  0.28061345 -0.47092682  0.06005165 -0.27100176 -0.33557677  0.259495\n",
            " -0.14353018 -0.38106045 -0.29738572  0.21828735  0.4742148   0.34103653\n",
            " -0.3015406  -0.34970233 -0.14618272  0.35857007  0.88258475 -0.20470941\n",
            " -0.12177773  0.27092424 -0.07992647 -0.400799   -0.3885138   0.3444816\n",
            " -0.50173324  0.1897213  -0.5696292   0.23238267  0.56637406 -0.20859882\n",
            "  0.92135483 -0.10089317  0.53516704 -0.04694844 -0.5505627   0.01426697\n",
            "  0.06851386 -0.34258226 -0.18158025 -0.5579824  -0.3587582   0.47229952\n",
            " -0.60410315  0.31920528 -0.6593409  -0.28800178  0.33279544  0.72007763\n",
            "  0.28535482 -0.06759251 -0.33730146  0.4894123   0.19887692  0.13239378\n",
            " -0.27187854 -0.8325682   0.11656781 -0.05249652 -0.7141303  -0.45485818\n",
            " -0.01193874  0.22841752 -0.5861791  -0.31231004 -0.32092345  0.03068553\n",
            " -0.5006551   0.14342766 -0.341324   -0.1629283   0.01519698  0.4989389\n",
            "  0.2195292   0.08806134 -0.46896636 -0.51034635  0.45106378  0.35165733\n",
            "  0.5075597   0.12113546 -0.08051485  0.33932796 -0.64465064  0.23502706\n",
            "  0.51394784 -0.01149597 -0.34291512  0.2212906  -0.2203581  -0.40224636\n",
            "  0.32783148  0.33671138  0.29681382 -0.0281712  -0.3677425   0.26992038\n",
            "  0.48826358  0.11647664 -0.22079578 -0.04742627 -0.2720485  -0.25656173\n",
            "  0.46719915  0.43246394  0.5456774   0.11811779 -0.3265487   0.52474904\n",
            " -0.476278   -0.2527797   0.16525556 -0.27840495  0.05966085 -0.33961794\n",
            "  0.61857355 -0.49761802  0.6186971   0.29064894 -0.5069284   0.05551558\n",
            "  0.22128822  1.0180962  -0.03484334 -0.38748607  0.41758776  0.56630296\n",
            " -0.20831375  0.08731947 -0.26522222  0.32369724  0.00255994  0.4693319\n",
            "  0.04911791 -0.1489612   0.62071     0.06830639 -0.39021483 -0.25378087\n",
            " -0.20005314  0.22751716  0.05060604  0.0246646   0.5011797   0.23036654\n",
            "  0.12159814  0.08494633 -0.20402497 -0.17303973 -0.0344144  -0.41117945\n",
            " -0.445723    0.02325853  0.3779306   0.03582635 -0.02377244  0.31791544\n",
            " -0.3411785   0.79730916  0.40189812  0.16279928 -0.03379866  0.26478493\n",
            " -0.00116657 -0.34953594]\n"
          ]
        },
        {
          "output_type": "stream",
          "name": "stderr",
          "text": [
            "/usr/local/lib/python3.7/dist-packages/ipykernel_launcher.py:1: DeprecationWarning: Call to deprecated `__getitem__` (Method will be removed in 4.0.0, use self.wv.__getitem__() instead).\n",
            "  \"\"\"Entry point for launching an IPython kernel.\n"
          ]
        }
      ]
    },
    {
      "cell_type": "markdown",
      "source": [
        "# Bring in the Kobs dataset"
      ],
      "metadata": {
        "id": "XWY3sDEocGgI"
      }
    },
    {
      "cell_type": "code",
      "source": [
        "df = pd.read_csv(\"labeled_dataset.csv\")"
      ],
      "metadata": {
        "id": "yVLjyqNRcI7j"
      },
      "execution_count": null,
      "outputs": []
    },
    {
      "cell_type": "code",
      "source": [
        "df"
      ],
      "metadata": {
        "colab": {
          "base_uri": "https://localhost:8080/",
          "height": 641
        },
        "id": "NROMyWE4iNrV",
        "outputId": "905229f2-4dee-4fa8-b0e1-6e96beec49cf"
      },
      "execution_count": null,
      "outputs": [
        {
          "output_type": "execute_result",
          "data": {
            "text/plain": [
              "      sentiment                      date      channel  \\\n",
              "0             1  2018-05-22T21:10:33.896Z       forsen   \n",
              "1             1  2018-05-14T19:44:26.871Z       forsen   \n",
              "2             1  2018-05-10T17:33:24.377Z       forsen   \n",
              "3            -1  2018-05-28T20:18:47.903Z   sodapoppin   \n",
              "4             0  2018-05-15T23:46:45.381Z   sodapoppin   \n",
              "...         ...                       ...          ...   \n",
              "1917          1  2018-05-26T06:15:54.306Z  moonmoon_ow   \n",
              "1918          0  2018-05-03T02:31:55.727Z   sodapoppin   \n",
              "1919          0  2018-05-03T17:25:58.561Z       forsen   \n",
              "1920          0  2018-05-29T18:20:28.632Z       forsen   \n",
              "1921          0  2018-05-08T11:07:32.006Z    riotgames   \n",
              "\n",
              "                          game      user    mod  subscriber  \\\n",
              "0             Burnout Paradise     63102  False        True   \n",
              "1          Super Mario Odyssey     87065  False        True   \n",
              "2               Darwin Project      2291  False        True   \n",
              "3                 SpeedRunners    754606  False       False   \n",
              "4                       ROBLOX  10535368  False       False   \n",
              "...                        ...       ...    ...         ...   \n",
              "1917                Dark Souls    330564  False       False   \n",
              "1918  Ori and the Blind Forest    969908  False        True   \n",
              "1919             Shoppe Keep 2    769957  False       False   \n",
              "1920                Dark Souls    825208  False        True   \n",
              "1921         League of Legends   4362174  False       False   \n",
              "\n",
              "                                                message  \n",
              "0                                              OMEGALUL  \n",
              "1     pepeL Clap pepeL Clap pepeL Clap pepeL Clap pe...  \n",
              "2                                               🏹 ZULUL  \n",
              "3                                          Cata dumbass  \n",
              "4                                                    D:  \n",
              "...                                                 ...  \n",
              "1917                                            EZ farm  \n",
              "1918                                           @Cent D:  \n",
              "1919                                      !roulette all  \n",
              "1920                                              ANELE  \n",
              "1921                                   DUMBLEDOGE > ALL  \n",
              "\n",
              "[1922 rows x 8 columns]"
            ],
            "text/html": [
              "\n",
              "  <div id=\"df-00f51bb8-72f3-4d91-8e19-7bc3d6d35a6f\">\n",
              "    <div class=\"colab-df-container\">\n",
              "      <div>\n",
              "<style scoped>\n",
              "    .dataframe tbody tr th:only-of-type {\n",
              "        vertical-align: middle;\n",
              "    }\n",
              "\n",
              "    .dataframe tbody tr th {\n",
              "        vertical-align: top;\n",
              "    }\n",
              "\n",
              "    .dataframe thead th {\n",
              "        text-align: right;\n",
              "    }\n",
              "</style>\n",
              "<table border=\"1\" class=\"dataframe\">\n",
              "  <thead>\n",
              "    <tr style=\"text-align: right;\">\n",
              "      <th></th>\n",
              "      <th>sentiment</th>\n",
              "      <th>date</th>\n",
              "      <th>channel</th>\n",
              "      <th>game</th>\n",
              "      <th>user</th>\n",
              "      <th>mod</th>\n",
              "      <th>subscriber</th>\n",
              "      <th>message</th>\n",
              "    </tr>\n",
              "  </thead>\n",
              "  <tbody>\n",
              "    <tr>\n",
              "      <th>0</th>\n",
              "      <td>1</td>\n",
              "      <td>2018-05-22T21:10:33.896Z</td>\n",
              "      <td>forsen</td>\n",
              "      <td>Burnout Paradise</td>\n",
              "      <td>63102</td>\n",
              "      <td>False</td>\n",
              "      <td>True</td>\n",
              "      <td>OMEGALUL</td>\n",
              "    </tr>\n",
              "    <tr>\n",
              "      <th>1</th>\n",
              "      <td>1</td>\n",
              "      <td>2018-05-14T19:44:26.871Z</td>\n",
              "      <td>forsen</td>\n",
              "      <td>Super Mario Odyssey</td>\n",
              "      <td>87065</td>\n",
              "      <td>False</td>\n",
              "      <td>True</td>\n",
              "      <td>pepeL Clap pepeL Clap pepeL Clap pepeL Clap pe...</td>\n",
              "    </tr>\n",
              "    <tr>\n",
              "      <th>2</th>\n",
              "      <td>1</td>\n",
              "      <td>2018-05-10T17:33:24.377Z</td>\n",
              "      <td>forsen</td>\n",
              "      <td>Darwin Project</td>\n",
              "      <td>2291</td>\n",
              "      <td>False</td>\n",
              "      <td>True</td>\n",
              "      <td>🏹 ZULUL</td>\n",
              "    </tr>\n",
              "    <tr>\n",
              "      <th>3</th>\n",
              "      <td>-1</td>\n",
              "      <td>2018-05-28T20:18:47.903Z</td>\n",
              "      <td>sodapoppin</td>\n",
              "      <td>SpeedRunners</td>\n",
              "      <td>754606</td>\n",
              "      <td>False</td>\n",
              "      <td>False</td>\n",
              "      <td>Cata dumbass</td>\n",
              "    </tr>\n",
              "    <tr>\n",
              "      <th>4</th>\n",
              "      <td>0</td>\n",
              "      <td>2018-05-15T23:46:45.381Z</td>\n",
              "      <td>sodapoppin</td>\n",
              "      <td>ROBLOX</td>\n",
              "      <td>10535368</td>\n",
              "      <td>False</td>\n",
              "      <td>False</td>\n",
              "      <td>D:</td>\n",
              "    </tr>\n",
              "    <tr>\n",
              "      <th>...</th>\n",
              "      <td>...</td>\n",
              "      <td>...</td>\n",
              "      <td>...</td>\n",
              "      <td>...</td>\n",
              "      <td>...</td>\n",
              "      <td>...</td>\n",
              "      <td>...</td>\n",
              "      <td>...</td>\n",
              "    </tr>\n",
              "    <tr>\n",
              "      <th>1917</th>\n",
              "      <td>1</td>\n",
              "      <td>2018-05-26T06:15:54.306Z</td>\n",
              "      <td>moonmoon_ow</td>\n",
              "      <td>Dark Souls</td>\n",
              "      <td>330564</td>\n",
              "      <td>False</td>\n",
              "      <td>False</td>\n",
              "      <td>EZ farm</td>\n",
              "    </tr>\n",
              "    <tr>\n",
              "      <th>1918</th>\n",
              "      <td>0</td>\n",
              "      <td>2018-05-03T02:31:55.727Z</td>\n",
              "      <td>sodapoppin</td>\n",
              "      <td>Ori and the Blind Forest</td>\n",
              "      <td>969908</td>\n",
              "      <td>False</td>\n",
              "      <td>True</td>\n",
              "      <td>@Cent D:</td>\n",
              "    </tr>\n",
              "    <tr>\n",
              "      <th>1919</th>\n",
              "      <td>0</td>\n",
              "      <td>2018-05-03T17:25:58.561Z</td>\n",
              "      <td>forsen</td>\n",
              "      <td>Shoppe Keep 2</td>\n",
              "      <td>769957</td>\n",
              "      <td>False</td>\n",
              "      <td>False</td>\n",
              "      <td>!roulette all</td>\n",
              "    </tr>\n",
              "    <tr>\n",
              "      <th>1920</th>\n",
              "      <td>0</td>\n",
              "      <td>2018-05-29T18:20:28.632Z</td>\n",
              "      <td>forsen</td>\n",
              "      <td>Dark Souls</td>\n",
              "      <td>825208</td>\n",
              "      <td>False</td>\n",
              "      <td>True</td>\n",
              "      <td>ANELE</td>\n",
              "    </tr>\n",
              "    <tr>\n",
              "      <th>1921</th>\n",
              "      <td>0</td>\n",
              "      <td>2018-05-08T11:07:32.006Z</td>\n",
              "      <td>riotgames</td>\n",
              "      <td>League of Legends</td>\n",
              "      <td>4362174</td>\n",
              "      <td>False</td>\n",
              "      <td>False</td>\n",
              "      <td>DUMBLEDOGE &gt; ALL</td>\n",
              "    </tr>\n",
              "  </tbody>\n",
              "</table>\n",
              "<p>1922 rows × 8 columns</p>\n",
              "</div>\n",
              "      <button class=\"colab-df-convert\" onclick=\"convertToInteractive('df-00f51bb8-72f3-4d91-8e19-7bc3d6d35a6f')\"\n",
              "              title=\"Convert this dataframe to an interactive table.\"\n",
              "              style=\"display:none;\">\n",
              "        \n",
              "  <svg xmlns=\"http://www.w3.org/2000/svg\" height=\"24px\"viewBox=\"0 0 24 24\"\n",
              "       width=\"24px\">\n",
              "    <path d=\"M0 0h24v24H0V0z\" fill=\"none\"/>\n",
              "    <path d=\"M18.56 5.44l.94 2.06.94-2.06 2.06-.94-2.06-.94-.94-2.06-.94 2.06-2.06.94zm-11 1L8.5 8.5l.94-2.06 2.06-.94-2.06-.94L8.5 2.5l-.94 2.06-2.06.94zm10 10l.94 2.06.94-2.06 2.06-.94-2.06-.94-.94-2.06-.94 2.06-2.06.94z\"/><path d=\"M17.41 7.96l-1.37-1.37c-.4-.4-.92-.59-1.43-.59-.52 0-1.04.2-1.43.59L10.3 9.45l-7.72 7.72c-.78.78-.78 2.05 0 2.83L4 21.41c.39.39.9.59 1.41.59.51 0 1.02-.2 1.41-.59l7.78-7.78 2.81-2.81c.8-.78.8-2.07 0-2.86zM5.41 20L4 18.59l7.72-7.72 1.47 1.35L5.41 20z\"/>\n",
              "  </svg>\n",
              "      </button>\n",
              "      \n",
              "  <style>\n",
              "    .colab-df-container {\n",
              "      display:flex;\n",
              "      flex-wrap:wrap;\n",
              "      gap: 12px;\n",
              "    }\n",
              "\n",
              "    .colab-df-convert {\n",
              "      background-color: #E8F0FE;\n",
              "      border: none;\n",
              "      border-radius: 50%;\n",
              "      cursor: pointer;\n",
              "      display: none;\n",
              "      fill: #1967D2;\n",
              "      height: 32px;\n",
              "      padding: 0 0 0 0;\n",
              "      width: 32px;\n",
              "    }\n",
              "\n",
              "    .colab-df-convert:hover {\n",
              "      background-color: #E2EBFA;\n",
              "      box-shadow: 0px 1px 2px rgba(60, 64, 67, 0.3), 0px 1px 3px 1px rgba(60, 64, 67, 0.15);\n",
              "      fill: #174EA6;\n",
              "    }\n",
              "\n",
              "    [theme=dark] .colab-df-convert {\n",
              "      background-color: #3B4455;\n",
              "      fill: #D2E3FC;\n",
              "    }\n",
              "\n",
              "    [theme=dark] .colab-df-convert:hover {\n",
              "      background-color: #434B5C;\n",
              "      box-shadow: 0px 1px 3px 1px rgba(0, 0, 0, 0.15);\n",
              "      filter: drop-shadow(0px 1px 2px rgba(0, 0, 0, 0.3));\n",
              "      fill: #FFFFFF;\n",
              "    }\n",
              "  </style>\n",
              "\n",
              "      <script>\n",
              "        const buttonEl =\n",
              "          document.querySelector('#df-00f51bb8-72f3-4d91-8e19-7bc3d6d35a6f button.colab-df-convert');\n",
              "        buttonEl.style.display =\n",
              "          google.colab.kernel.accessAllowed ? 'block' : 'none';\n",
              "\n",
              "        async function convertToInteractive(key) {\n",
              "          const element = document.querySelector('#df-00f51bb8-72f3-4d91-8e19-7bc3d6d35a6f');\n",
              "          const dataTable =\n",
              "            await google.colab.kernel.invokeFunction('convertToInteractive',\n",
              "                                                     [key], {});\n",
              "          if (!dataTable) return;\n",
              "\n",
              "          const docLinkHtml = 'Like what you see? Visit the ' +\n",
              "            '<a target=\"_blank\" href=https://colab.research.google.com/notebooks/data_table.ipynb>data table notebook</a>'\n",
              "            + ' to learn more about interactive tables.';\n",
              "          element.innerHTML = '';\n",
              "          dataTable['output_type'] = 'display_data';\n",
              "          await google.colab.output.renderOutput(dataTable, element);\n",
              "          const docLink = document.createElement('div');\n",
              "          docLink.innerHTML = docLinkHtml;\n",
              "          element.appendChild(docLink);\n",
              "        }\n",
              "      </script>\n",
              "    </div>\n",
              "  </div>\n",
              "  "
            ]
          },
          "metadata": {},
          "execution_count": 14
        }
      ]
    },
    {
      "cell_type": "code",
      "source": [
        "# Lowercase the message in the dataframe:\n",
        "df[\"message\"] = df[\"message\"].apply(lambda x: x.lower())"
      ],
      "metadata": {
        "id": "5L1zKBZ9jKv9"
      },
      "execution_count": null,
      "outputs": []
    },
    {
      "cell_type": "code",
      "source": [
        "X = df.loc[:, df.columns != \"sentiment\"]\n",
        "Y = df.loc[:, df.columns == \"sentiment\"]"
      ],
      "metadata": {
        "id": "p4IOFOrkiGl_"
      },
      "execution_count": null,
      "outputs": []
    },
    {
      "cell_type": "code",
      "source": [
        "from collections import Counter"
      ],
      "metadata": {
        "id": "6BWs6ZNyTEbI"
      },
      "execution_count": null,
      "outputs": []
    },
    {
      "cell_type": "code",
      "source": [
        "counter = Counter(Y[\"sentiment\"].to_list())"
      ],
      "metadata": {
        "id": "W0P5YlFiTGg9"
      },
      "execution_count": null,
      "outputs": []
    },
    {
      "cell_type": "code",
      "source": [
        "len(x_test)"
      ],
      "metadata": {
        "colab": {
          "base_uri": "https://localhost:8080/"
        },
        "id": "5xE3-UIJTTh1",
        "outputId": "b944473c-0e59-4152-fe3d-40bb3ccf268a"
      },
      "execution_count": null,
      "outputs": [
        {
          "output_type": "execute_result",
          "data": {
            "text/plain": [
              "385"
            ]
          },
          "metadata": {},
          "execution_count": 197
        }
      ]
    },
    {
      "cell_type": "code",
      "source": [
        "193print(f\"{770/len(Y)}   {748/len(Y)}   {404/len(Y)}\")"
      ],
      "metadata": {
        "colab": {
          "base_uri": "https://localhost:8080/"
        },
        "id": "RcJmdtVfTWDj",
        "outputId": "dd9f2d1b-e5b2-44ef-93a4-0b499cd9af90"
      },
      "execution_count": null,
      "outputs": [
        {
          "output_type": "stream",
          "name": "stdout",
          "text": [
            "0.4006243496357961   0.3891779396462019   0.21019771071800208\n"
          ]
        }
      ]
    },
    {
      "cell_type": "code",
      "source": [
        "counter.Counter(Y[\"sentiment\"].to_list())"
      ],
      "metadata": {
        "colab": {
          "base_uri": "https://localhost:8080/",
          "height": 166
        },
        "id": "hNJ_n5ZeSt9r",
        "outputId": "2debb5f1-0199-40fd-9f80-fa6bad91b6ad"
      },
      "execution_count": null,
      "outputs": [
        {
          "output_type": "error",
          "ename": "AttributeError",
          "evalue": "ignored",
          "traceback": [
            "\u001b[0;31m---------------------------------------------------------------------------\u001b[0m",
            "\u001b[0;31mAttributeError\u001b[0m                            Traceback (most recent call last)",
            "\u001b[0;32m<ipython-input-191-0ea0a93e900e>\u001b[0m in \u001b[0;36m<module>\u001b[0;34m()\u001b[0m\n\u001b[0;32m----> 1\u001b[0;31m \u001b[0mcounter\u001b[0m\u001b[0;34m.\u001b[0m\u001b[0mCounter\u001b[0m\u001b[0;34m(\u001b[0m\u001b[0mY\u001b[0m\u001b[0;34m[\u001b[0m\u001b[0;34m\"sentiment\"\u001b[0m\u001b[0;34m]\u001b[0m\u001b[0;34m.\u001b[0m\u001b[0mto_list\u001b[0m\u001b[0;34m(\u001b[0m\u001b[0;34m)\u001b[0m\u001b[0;34m)\u001b[0m\u001b[0;34m\u001b[0m\u001b[0;34m\u001b[0m\u001b[0m\n\u001b[0m",
            "\u001b[0;31mAttributeError\u001b[0m: 'Counter' object has no attribute 'Counter'"
          ]
        }
      ]
    },
    {
      "cell_type": "code",
      "source": [
        "Y[\"sentiment\"] = Y[\"sentiment\"].apply(lambda val: set_labels(val))"
      ],
      "metadata": {
        "colab": {
          "base_uri": "https://localhost:8080/"
        },
        "id": "b9TJ15630eWK",
        "outputId": "cd5ceccd-c690-4745-d943-e1481660f120"
      },
      "execution_count": null,
      "outputs": [
        {
          "output_type": "stream",
          "name": "stderr",
          "text": [
            "/usr/local/lib/python3.7/dist-packages/ipykernel_launcher.py:1: SettingWithCopyWarning: \n",
            "A value is trying to be set on a copy of a slice from a DataFrame.\n",
            "Try using .loc[row_indexer,col_indexer] = value instead\n",
            "\n",
            "See the caveats in the documentation: https://pandas.pydata.org/pandas-docs/stable/user_guide/indexing.html#returning-a-view-versus-a-copy\n",
            "  \"\"\"Entry point for launching an IPython kernel.\n"
          ]
        }
      ]
    },
    {
      "cell_type": "code",
      "source": [
        "# Load in the index data if they already exist\n",
        "loaded_train_idx = load_pickle_file(\"train_df_idx_05_05_2022.pkl\")\n",
        "loaded_valid_idx = load_pickle_file(\"valid_df_idx_05_05_2022.pkl\")\n",
        "loaded_test_idx = load_pickle_file(\"test_df_idx_05_05_2022.pkl\")"
      ],
      "metadata": {
        "id": "J_I1yBv8v980"
      },
      "execution_count": null,
      "outputs": []
    },
    {
      "cell_type": "code",
      "source": [
        "x_train = X.loc[loaded_train_idx, :]\n",
        "x_valid = X.loc[loaded_valid_idx, :]\n",
        "x_test = X.loc[loaded_test_idx, :]\n",
        "\n",
        "y_train = Y.loc[loaded_train_idx, :]\n",
        "y_valid = Y.loc[loaded_valid_idx, :]\n",
        "y_test = Y.loc[loaded_test_idx, :]"
      ],
      "metadata": {
        "id": "3xDh9jL_wO30"
      },
      "execution_count": null,
      "outputs": []
    },
    {
      "cell_type": "code",
      "source": [
        "# Create a stratified train/valid/test split (80/10/10).\n",
        "x_train, x_test, y_train, y_test = train_test_split(X, Y,\n",
        "                                                    stratify = Y, \n",
        "                                                    test_size = 0.2, \n",
        "                                                    random_state = 2022)"
      ],
      "metadata": {
        "id": "ZvM1EKVUhznP"
      },
      "execution_count": null,
      "outputs": []
    },
    {
      "cell_type": "code",
      "source": [
        "x_train, x_valid, y_train, y_valid = train_test_split(x_train, y_train,\n",
        "                                                    stratify = y_train, \n",
        "                                                    test_size = 193/1537, \n",
        "                                                    random_state = 2022)"
      ],
      "metadata": {
        "id": "2ZNXbKZ4ixcp"
      },
      "execution_count": null,
      "outputs": []
    },
    {
      "cell_type": "code",
      "source": [
        "print(f\"{len(x_train)/len(df)}  {len(x_valid)/len(df)}  {len(x_test)/len(df)}\")"
      ],
      "metadata": {
        "colab": {
          "base_uri": "https://localhost:8080/"
        },
        "id": "YHGnmRKmKAG2",
        "outputId": "2e6c773f-b5fa-488c-ec13-deb712c95c27"
      },
      "execution_count": null,
      "outputs": [
        {
          "output_type": "stream",
          "name": "stdout",
          "text": [
            "0.6992715920915713  0.1004162330905307  0.20031217481789804\n"
          ]
        }
      ]
    },
    {
      "cell_type": "code",
      "source": [
        "train_idx = x_train.index.values\n",
        "valid_idx = x_valid.index.values\n",
        "test_idx = x_test.index.values"
      ],
      "metadata": {
        "id": "49fgng0Ob7iP"
      },
      "execution_count": null,
      "outputs": []
    },
    {
      "cell_type": "code",
      "source": [
        "# Saving these to file:\n",
        "save_to_file(filename = \"train_df_idx_05_05_2022.pkl\", item = train_idx)\n",
        "save_to_file(filename = \"valid_df_idx_05_05_2022.pkl\", item = valid_idx)\n",
        "save_to_file(filename = \"test_df_idx_05_05_2022.pkl\", item = test_idx)"
      ],
      "metadata": {
        "colab": {
          "base_uri": "https://localhost:8080/"
        },
        "id": "INtTAmWCaxq2",
        "outputId": "afdbd2ab-0168-46cd-eb70-25f2649801b9"
      },
      "execution_count": null,
      "outputs": [
        {
          "output_type": "stream",
          "name": "stdout",
          "text": [
            "train_df_idx_05_05_2022.pkl already exists in the path.  WILL NOT OVERWRITE!\n",
            "valid_df_idx_05_05_2022.pkl already exists in the path.  WILL NOT OVERWRITE!\n",
            "test_df_idx_05_05_2022.pkl already exists in the path.  WILL NOT OVERWRITE!\n"
          ]
        }
      ]
    },
    {
      "cell_type": "code",
      "source": [
        "# Useful columns to consider in the dataframe\n",
        "COLUMNS = [\"channel\", \"mod\", \"subscriber\"]"
      ],
      "metadata": {
        "id": "uPrQVuo8kSId"
      },
      "execution_count": null,
      "outputs": []
    },
    {
      "cell_type": "code",
      "source": [
        "# Defining the class to index relation\n",
        "classes = ['negative', 'neutral', 'positive']\n",
        "class_to_index = {'negative': 0, 'neutral': 1, 'positive': 2}\n",
        "names_to_ids = lambda labels: np.array([class_to_index.get(x) for x in labels])"
      ],
      "metadata": {
        "id": "X-Izg41i0OOd"
      },
      "execution_count": null,
      "outputs": []
    },
    {
      "cell_type": "code",
      "source": [
        "# Make everything a list\n",
        "train_message = [x for x in x_train[\"message\"]]\n",
        "valid_message = [x for x in x_valid[\"message\"]]\n",
        "test_message = [x for x in x_test[\"message\"]]\n",
        "\n",
        "train_metadata = x_train[COLUMNS] \n",
        "valid_metadata = x_valid[COLUMNS]\n",
        "test_metadata = x_test[COLUMNS]\n",
        "\n",
        "train_labels = np.array(names_to_ids(y_train[\"sentiment\"].to_list()))\n",
        "valid_labels = np.array(names_to_ids(y_valid[\"sentiment\"].to_list()))\n",
        "test_labels = np.array(names_to_ids(y_test[\"sentiment\"].to_list()))"
      ],
      "metadata": {
        "id": "JBuK4uVmjqK1"
      },
      "execution_count": null,
      "outputs": []
    },
    {
      "cell_type": "code",
      "source": [
        "MAX_TOKENS = int(math.pow(2, 14)) #16384\n",
        "# Max Twitch message can be is 500 characters.\n",
        "# Words typically are around 5 characters on average\n",
        "# But because twitch has emotes that are kind of long, let's\n",
        "# assume an average of 7 characters per word\n",
        "# That means, at most, the output sequence should be is 71.5\n",
        "# so setting the sequence length to 75\n",
        "OUTPUT_SEQUENCE_LENGTH = 75\n",
        "BATCH_SIZE = int(math.pow(2, 7)) #128"
      ],
      "metadata": {
        "id": "mIcliZcg3EBB"
      },
      "execution_count": null,
      "outputs": []
    },
    {
      "cell_type": "code",
      "source": [
        "# Set up the vectorizer\n",
        "vectorizer = TextVectorization(max_tokens = MAX_TOKENS, \n",
        "                               output_sequence_length = OUTPUT_SEQUENCE_LENGTH)\n",
        "text_ds = tf.data.Dataset.from_tensor_slices(train_message).batch(BATCH_SIZE)\n",
        "vectorizer.adapt(text_ds)\n",
        "voc = vectorizer.get_vocabulary()\n",
        "word_index = dict(zip(voc, range(len(voc))))"
      ],
      "metadata": {
        "id": "MoBXYMKo3s3P"
      },
      "execution_count": null,
      "outputs": []
    },
    {
      "cell_type": "code",
      "source": [
        "x_train_message_vec = vectorizer(np.array([[s] for s in train_message])).numpy()\n",
        "x_valid_message_vec = vectorizer(np.array([[s] for s in valid_message])).numpy()\n",
        "x_test_message_vec = vectorizer(np.array([[s] for s in test_message])).numpy()\n",
        "\n",
        "y_train_vec = train_labels\n",
        "y_valid_vec = valid_labels\n",
        "y_test_vec = test_labels"
      ],
      "metadata": {
        "id": "l7D9Gat74Tw1"
      },
      "execution_count": null,
      "outputs": []
    },
    {
      "cell_type": "markdown",
      "source": [
        "#Finalize the Embeddings for the Models"
      ],
      "metadata": {
        "id": "EGoJPSl6F2Df"
      }
    },
    {
      "cell_type": "code",
      "source": [
        "# Construct a staggered embedding structure\n",
        "# sample first from the w2v vectors\n",
        "# then sample from the glove vectors\n",
        "# and if that fails make an array of [0] * embedding_dimension\n",
        "\n",
        "EMBEDDING_DIMENSION = 200\n",
        "NUM_TOKENS = len(voc)\n",
        "\n",
        "embedding_matrix = np.zeros((NUM_TOKENS, EMBEDDING_DIMENSION))\n",
        "\n",
        "# Create the embedding matrix\n",
        "# Check first to see if the word exists in the w2v (Twitch) embedding scheme\n",
        "# if not, then check the glove embedding\n",
        "# if not, then that word's embedding will be set to [0]*EMBEDDING_DIMENSION\n",
        "\n",
        "hits = 0\n",
        "misses = 0\n",
        "for word, idx in word_index.items():\n",
        "    if word in w2v_embeddings:\n",
        "        embedding_vector = w2v_embeddings[word]\n",
        "        hits += 1\n",
        "    elif word in glove_embeddings:\n",
        "        embedding_vector = glove_embeddings[word]\n",
        "        hits += 1\n",
        "    else:\n",
        "        embedding_vector = None\n",
        "        misses += 1\n",
        "    if embedding_vector is not None:\n",
        "        embedding_matrix[idx] = embedding_vector \n",
        "\n",
        "print(f\"Converted {hits} word(s) with {misses} miss(es): \" + \n",
        "      f\"{round(100*misses/(hits+misses),1)}% miss rate.\\n\\n\")      "
      ],
      "metadata": {
        "colab": {
          "base_uri": "https://localhost:8080/"
        },
        "id": "MiShnd-V6OB5",
        "outputId": "e5e20947-f4a5-4cd7-ec1e-974976c4c79e"
      },
      "execution_count": null,
      "outputs": [
        {
          "output_type": "stream",
          "name": "stdout",
          "text": [
            "Converted 1565 word(s) with 523 miss(es): 25.0% miss rate.\n",
            "\n",
            "\n"
          ]
        },
        {
          "output_type": "stream",
          "name": "stderr",
          "text": [
            "/usr/local/lib/python3.7/dist-packages/ipykernel_launcher.py:19: DeprecationWarning: Call to deprecated `__contains__` (Method will be removed in 4.0.0, use self.wv.__contains__() instead).\n",
            "/usr/local/lib/python3.7/dist-packages/ipykernel_launcher.py:20: DeprecationWarning: Call to deprecated `__getitem__` (Method will be removed in 4.0.0, use self.wv.__getitem__() instead).\n"
          ]
        }
      ]
    },
    {
      "cell_type": "code",
      "source": [
        "# Construct a staggered embedding structure\n",
        "# sample first from the w2v vectors\n",
        "# then sample from the glove vectors\n",
        "# and if that fails make an array of [0] * embedding_dimension\n",
        "\n",
        "EMBEDDING_DIMENSION = 200\n",
        "NUM_TOKENS = len(voc)\n",
        "\n",
        "twitch_embedding_matrix = np.zeros((NUM_TOKENS, EMBEDDING_DIMENSION))\n",
        "\n",
        "# Create the embedding matrix WITH THE EXTENDED EMBEDDING\n",
        "# Check first to see if the word exists in the w2v (Twitch) embedding scheme\n",
        "# if not, then check the glove embedding\n",
        "# if not, then that word's embedding will be set to [0]*EMBEDDING_DIMENSION\n",
        "\n",
        "hits = 0\n",
        "misses = 0\n",
        "for word, idx in word_index.items():\n",
        "    if word in twitch_embeddings:\n",
        "        embedding_vector = twitch_embeddings[word]\n",
        "        hits += 1\n",
        "    elif word in glove_embeddings:\n",
        "        embedding_vector = glove_embeddings[word]\n",
        "        hits += 1\n",
        "    else:\n",
        "        embedding_vector = None\n",
        "        misses += 1\n",
        "    if embedding_vector is not None:\n",
        "        twitch_embedding_matrix[idx] = embedding_vector \n",
        "\n",
        "print(f\"Converted {hits} word(s) with {misses} miss(es): \" + \n",
        "      f\"{round(100*misses/(hits+misses),1)}% miss rate.\\n\\n\")"
      ],
      "metadata": {
        "colab": {
          "base_uri": "https://localhost:8080/"
        },
        "id": "pIHTbRlbFMfg",
        "outputId": "1fb915bf-b74b-4af7-8148-49dd6985ec83"
      },
      "execution_count": null,
      "outputs": [
        {
          "output_type": "stream",
          "name": "stdout",
          "text": [
            "Converted 1694 word(s) with 394 miss(es): 18.9% miss rate.\n",
            "\n",
            "\n"
          ]
        },
        {
          "output_type": "stream",
          "name": "stderr",
          "text": [
            "/usr/local/lib/python3.7/dist-packages/ipykernel_launcher.py:19: DeprecationWarning: Call to deprecated `__contains__` (Method will be removed in 4.0.0, use self.wv.__contains__() instead).\n",
            "/usr/local/lib/python3.7/dist-packages/ipykernel_launcher.py:20: DeprecationWarning: Call to deprecated `__getitem__` (Method will be removed in 4.0.0, use self.wv.__getitem__() instead).\n"
          ]
        }
      ]
    },
    {
      "cell_type": "code",
      "source": [
        "zero_matrix = np.zeros((NUM_TOKENS, EMBEDDING_DIMENSION))"
      ],
      "metadata": {
        "id": "lgvVYDjO1qWO"
      },
      "execution_count": null,
      "outputs": []
    },
    {
      "cell_type": "markdown",
      "source": [
        "# Saving the finalized embeddings to file"
      ],
      "metadata": {
        "id": "RzsSjL4ec_22"
      }
    },
    {
      "cell_type": "code",
      "source": [
        "# Save embeddings to file after alternating between choosing\n",
        "# the w2v trained twitch embeddings and the usual glove ones\n",
        "save_to_file(filename = \"basic_embeddings_05_05_2022.pkl\", item = embedding_matrix)"
      ],
      "metadata": {
        "colab": {
          "base_uri": "https://localhost:8080/"
        },
        "id": "fPKHQCH8OTb1",
        "outputId": "763de0e8-f415-42c5-dc16-028609785a83"
      },
      "execution_count": null,
      "outputs": [
        {
          "output_type": "stream",
          "name": "stdout",
          "text": [
            "Saving basic_embeddings_05_05_2022.pkl to the path...\n",
            "Saved basic_embeddings_05_05_2022.pkl!\n"
          ]
        }
      ]
    },
    {
      "cell_type": "code",
      "source": [
        "save_to_file(filename = \"extended_embeddings_05_05_2022.pkl\", \n",
        "             item = twitch_embedding_matrix)"
      ],
      "metadata": {
        "colab": {
          "base_uri": "https://localhost:8080/"
        },
        "id": "hcsjYLVAF-jg",
        "outputId": "d4026f61-8637-46c5-f633-fdd077bfdd6c"
      },
      "execution_count": null,
      "outputs": [
        {
          "output_type": "stream",
          "name": "stdout",
          "text": [
            "Saving extended_embeddings_05_05_2022.pkl to the path...\n",
            "Saved extended_embeddings_05_05_2022.pkl!\n"
          ]
        }
      ]
    },
    {
      "cell_type": "code",
      "source": [
        "# Load in the embeddings, if they already exist\n",
        "# Short embeddings:\n",
        "embedding_matrix = load_pickle_file(\"basic_embeddings_05_05_2022.pkl\")\n",
        "# Long Embeddings\n",
        "twitch_embedding_matrix = load_pickle_file(\"extended_embeddings_05_05_2022.pkl\")"
      ],
      "metadata": {
        "id": "TuTntZZ6w3fU"
      },
      "execution_count": null,
      "outputs": []
    },
    {
      "cell_type": "markdown",
      "source": [
        "# Model Building"
      ],
      "metadata": {
        "id": "-ayyb1J78ty8"
      }
    },
    {
      "cell_type": "code",
      "source": [
        "# Hyperparameters\n",
        "OBJECTIVE_FUNC = \"sparse_categorical_crossentropy\"\n",
        "OPTIMIZER = \"adam\"\n",
        "METRICS = [\"acc\"]\n",
        "# LEARN_RATE = 5e-4\n",
        "HIDDEN_ACTIVATION = 'relu'\n",
        "DROPOUT_RATE = 0.5\n",
        "NODES = int(math.pow(2, 7)) # 128\n",
        "HID_NODES = int(math.pow(2, 4)) # 16\n",
        "EPOCHS = int(math.pow(2, 5)) # 32\n",
        "BATCH_SIZE = int(math.pow(2, 4)) # 16\n",
        "\n",
        "# implementing early stopping\n",
        "# with a patience of ceil(0.25 * EPOCHS) + 1.\n",
        "EARLY_STOP = EarlyStopping(monitor = \"val_acc\", mode = \"max\", \n",
        "                           patience = int(math.ceil(0.25 * EPOCHS) + 1), \n",
        "                           verbose = 1)"
      ],
      "metadata": {
        "id": "jIj9_LS--OTa"
      },
      "execution_count": null,
      "outputs": []
    },
    {
      "cell_type": "markdown",
      "source": [
        "## LSTM"
      ],
      "metadata": {
        "id": "Fke1TbNLQZcz"
      }
    },
    {
      "cell_type": "markdown",
      "source": [
        "### LSTM, training embedding is false"
      ],
      "metadata": {
        "id": "J5AhTRw9QE40"
      }
    },
    {
      "cell_type": "code",
      "source": [
        "TRAINABLE = False\n",
        "CKPT = set_up_checkpoint(\"base_model_ckpt_train_embed_false_05_05_2022\")\n",
        "embedding_layer = Embedding(NUM_TOKENS,  EMBEDDING_DIMENSION, \n",
        "                            embeddings_initializer = Constant(embedding_matrix), \n",
        "                            trainable = TRAINABLE)\n",
        "int_sequences_input = Input(shape=(None,), dtype=\"int64\")\n",
        "embedded_sequences = embedding_layer(int_sequences_input)\n",
        "x_vanilla = Bidirectional(LSTM(NODES, return_sequences=True))(embedded_sequences)\n",
        "x_vanilla = Bidirectional(LSTM(NODES))(x_vanilla)\n",
        "preds_vanilla = layers.Dense(len(classes), activation=\"softmax\")(x_vanilla)\n",
        "model_vanilla2 = Model(int_sequences_input, preds_vanilla)\n",
        "model_vanilla2.compile(loss = OBJECTIVE_FUNC, optimizer = OPTIMIZER, \n",
        "                      metrics = METRICS)\n",
        "model_vanilla2.summary()\n",
        "model_vanilla2.fit(x_train_message_vec, y_train_vec, \n",
        "                  batch_size = BATCH_SIZE, \n",
        "                  epochs = EPOCHS,\n",
        "                  validation_data = (x_valid_message_vec, y_valid_vec), \n",
        "                  callbacks = [EARLY_STOP, CKPT])"
      ],
      "metadata": {
        "colab": {
          "base_uri": "https://localhost:8080/"
        },
        "id": "L4oOi3z28v2y",
        "outputId": "f55725ae-dfca-426f-aeee-defb8ef9cd8f"
      },
      "execution_count": null,
      "outputs": [
        {
          "output_type": "stream",
          "name": "stdout",
          "text": [
            "Model: \"model_3\"\n",
            "_________________________________________________________________\n",
            " Layer (type)                Output Shape              Param #   \n",
            "=================================================================\n",
            " input_4 (InputLayer)        [(None, None)]            0         \n",
            "                                                                 \n",
            " embedding_3 (Embedding)     (None, None, 200)         417600    \n",
            "                                                                 \n",
            " bidirectional_6 (Bidirectio  (None, None, 256)        336896    \n",
            " nal)                                                            \n",
            "                                                                 \n",
            " bidirectional_7 (Bidirectio  (None, 256)              394240    \n",
            " nal)                                                            \n",
            "                                                                 \n",
            " dense_3 (Dense)             (None, 3)                 771       \n",
            "                                                                 \n",
            "=================================================================\n",
            "Total params: 1,149,507\n",
            "Trainable params: 731,907\n",
            "Non-trainable params: 417,600\n",
            "_________________________________________________________________\n",
            "Epoch 1/32\n",
            "83/84 [============================>.] - ETA: 0s - loss: 0.9549 - acc: 0.5452\n",
            "Epoch 1: val_acc improved from -inf to 0.55440, saving model to base_model_ckpt_train_embed_false_05_05_2022\n",
            "84/84 [==============================] - 7s 34ms/step - loss: 0.9562 - acc: 0.5446 - val_loss: 0.9113 - val_acc: 0.5544\n",
            "Epoch 2/32\n",
            "81/84 [===========================>..] - ETA: 0s - loss: 0.8136 - acc: 0.6512\n",
            "Epoch 2: val_acc improved from 0.55440 to 0.59585, saving model to base_model_ckpt_train_embed_false_05_05_2022\n",
            "84/84 [==============================] - 1s 17ms/step - loss: 0.8164 - acc: 0.6466 - val_loss: 0.8485 - val_acc: 0.5959\n",
            "Epoch 3/32\n",
            "83/84 [============================>.] - ETA: 0s - loss: 0.7479 - acc: 0.6822\n",
            "Epoch 3: val_acc improved from 0.59585 to 0.60622, saving model to base_model_ckpt_train_embed_false_05_05_2022\n",
            "84/84 [==============================] - 1s 17ms/step - loss: 0.7473 - acc: 0.6823 - val_loss: 0.8513 - val_acc: 0.6062\n",
            "Epoch 4/32\n",
            "81/84 [===========================>..] - ETA: 0s - loss: 0.6880 - acc: 0.7130\n",
            "Epoch 4: val_acc improved from 0.60622 to 0.63212, saving model to base_model_ckpt_train_embed_false_05_05_2022\n",
            "84/84 [==============================] - 1s 17ms/step - loss: 0.6874 - acc: 0.7128 - val_loss: 0.8506 - val_acc: 0.6321\n",
            "Epoch 5/32\n",
            "81/84 [===========================>..] - ETA: 0s - loss: 0.6391 - acc: 0.7384\n",
            "Epoch 5: val_acc did not improve from 0.63212\n",
            "84/84 [==============================] - 1s 16ms/step - loss: 0.6380 - acc: 0.7411 - val_loss: 0.8875 - val_acc: 0.6114\n",
            "Epoch 6/32\n",
            "81/84 [===========================>..] - ETA: 0s - loss: 0.5908 - acc: 0.7554\n",
            "Epoch 6: val_acc did not improve from 0.63212\n",
            "84/84 [==============================] - 1s 15ms/step - loss: 0.5901 - acc: 0.7582 - val_loss: 0.8362 - val_acc: 0.6166\n",
            "Epoch 7/32\n",
            "81/84 [===========================>..] - ETA: 0s - loss: 0.5336 - acc: 0.7878\n",
            "Epoch 7: val_acc did not improve from 0.63212\n",
            "84/84 [==============================] - 1s 16ms/step - loss: 0.5347 - acc: 0.7865 - val_loss: 0.8858 - val_acc: 0.6269\n",
            "Epoch 8/32\n",
            "81/84 [===========================>..] - ETA: 0s - loss: 0.5034 - acc: 0.7963\n",
            "Epoch 8: val_acc improved from 0.63212 to 0.63731, saving model to base_model_ckpt_train_embed_false_05_05_2022\n",
            "84/84 [==============================] - 1s 17ms/step - loss: 0.5020 - acc: 0.7976 - val_loss: 0.8853 - val_acc: 0.6373\n",
            "Epoch 9/32\n",
            "81/84 [===========================>..] - ETA: 0s - loss: 0.4608 - acc: 0.8225\n",
            "Epoch 9: val_acc did not improve from 0.63731\n",
            "84/84 [==============================] - 1s 16ms/step - loss: 0.4662 - acc: 0.8199 - val_loss: 0.9648 - val_acc: 0.6321\n",
            "Epoch 10/32\n",
            "84/84 [==============================] - ETA: 0s - loss: 0.4412 - acc: 0.8170\n",
            "Epoch 10: val_acc did not improve from 0.63731\n",
            "84/84 [==============================] - 1s 16ms/step - loss: 0.4412 - acc: 0.8170 - val_loss: 1.0052 - val_acc: 0.6114\n",
            "Epoch 11/32\n",
            "81/84 [===========================>..] - ETA: 0s - loss: 0.4598 - acc: 0.8156\n",
            "Epoch 11: val_acc did not improve from 0.63731\n",
            "84/84 [==============================] - 1s 16ms/step - loss: 0.4553 - acc: 0.8162 - val_loss: 0.9922 - val_acc: 0.6166\n",
            "Epoch 12/32\n",
            "84/84 [==============================] - ETA: 0s - loss: 0.4036 - acc: 0.8318\n",
            "Epoch 12: val_acc did not improve from 0.63731\n",
            "84/84 [==============================] - 1s 16ms/step - loss: 0.4036 - acc: 0.8318 - val_loss: 1.0874 - val_acc: 0.6010\n",
            "Epoch 13/32\n",
            "84/84 [==============================] - ETA: 0s - loss: 0.3818 - acc: 0.8438\n",
            "Epoch 13: val_acc did not improve from 0.63731\n",
            "84/84 [==============================] - 1s 16ms/step - loss: 0.3818 - acc: 0.8438 - val_loss: 1.1570 - val_acc: 0.6166\n",
            "Epoch 14/32\n",
            "81/84 [===========================>..] - ETA: 0s - loss: 0.3506 - acc: 0.8542\n",
            "Epoch 14: val_acc did not improve from 0.63731\n",
            "84/84 [==============================] - 1s 16ms/step - loss: 0.3523 - acc: 0.8519 - val_loss: 1.1232 - val_acc: 0.6010\n",
            "Epoch 15/32\n",
            "81/84 [===========================>..] - ETA: 0s - loss: 0.3468 - acc: 0.8449\n",
            "Epoch 15: val_acc did not improve from 0.63731\n",
            "84/84 [==============================] - 1s 15ms/step - loss: 0.3408 - acc: 0.8490 - val_loss: 1.1581 - val_acc: 0.6373\n",
            "Epoch 16/32\n",
            "81/84 [===========================>..] - ETA: 0s - loss: 0.3374 - acc: 0.8565\n",
            "Epoch 16: val_acc did not improve from 0.63731\n",
            "84/84 [==============================] - 1s 15ms/step - loss: 0.3387 - acc: 0.8549 - val_loss: 1.2171 - val_acc: 0.6114\n",
            "Epoch 17/32\n",
            "81/84 [===========================>..] - ETA: 0s - loss: 0.3353 - acc: 0.8596\n",
            "Epoch 17: val_acc improved from 0.63731 to 0.64767, saving model to base_model_ckpt_train_embed_false_05_05_2022\n",
            "84/84 [==============================] - 1s 16ms/step - loss: 0.3340 - acc: 0.8601 - val_loss: 1.2041 - val_acc: 0.6477\n",
            "Epoch 18/32\n",
            "81/84 [===========================>..] - ETA: 0s - loss: 0.3326 - acc: 0.8657\n",
            "Epoch 18: val_acc did not improve from 0.64767\n",
            "84/84 [==============================] - 1s 15ms/step - loss: 0.3283 - acc: 0.8683 - val_loss: 1.1831 - val_acc: 0.5959\n",
            "Epoch 19/32\n",
            "81/84 [===========================>..] - ETA: 0s - loss: 0.3284 - acc: 0.8596\n",
            "Epoch 19: val_acc did not improve from 0.64767\n",
            "84/84 [==============================] - 1s 15ms/step - loss: 0.3261 - acc: 0.8616 - val_loss: 1.2088 - val_acc: 0.6425\n",
            "Epoch 20/32\n",
            "81/84 [===========================>..] - ETA: 0s - loss: 0.3131 - acc: 0.8665\n",
            "Epoch 20: val_acc improved from 0.64767 to 0.66321, saving model to base_model_ckpt_train_embed_false_05_05_2022\n",
            "84/84 [==============================] - 1s 17ms/step - loss: 0.3129 - acc: 0.8661 - val_loss: 1.2821 - val_acc: 0.6632\n",
            "Epoch 21/32\n",
            "81/84 [===========================>..] - ETA: 0s - loss: 0.3079 - acc: 0.8727\n",
            "Epoch 21: val_acc did not improve from 0.66321\n",
            "84/84 [==============================] - 1s 15ms/step - loss: 0.3092 - acc: 0.8728 - val_loss: 1.2776 - val_acc: 0.5751\n",
            "Epoch 22/32\n",
            "81/84 [===========================>..] - ETA: 0s - loss: 0.2906 - acc: 0.8781\n",
            "Epoch 22: val_acc did not improve from 0.66321\n",
            "84/84 [==============================] - 1s 16ms/step - loss: 0.2926 - acc: 0.8772 - val_loss: 1.3872 - val_acc: 0.6010\n",
            "Epoch 23/32\n",
            "81/84 [===========================>..] - ETA: 0s - loss: 0.2866 - acc: 0.8727\n",
            "Epoch 23: val_acc did not improve from 0.66321\n",
            "84/84 [==============================] - 1s 16ms/step - loss: 0.2822 - acc: 0.8765 - val_loss: 1.3571 - val_acc: 0.6373\n",
            "Epoch 24/32\n",
            "81/84 [===========================>..] - ETA: 0s - loss: 0.2741 - acc: 0.8827\n",
            "Epoch 24: val_acc did not improve from 0.66321\n",
            "84/84 [==============================] - 1s 15ms/step - loss: 0.2772 - acc: 0.8824 - val_loss: 1.4477 - val_acc: 0.6269\n",
            "Epoch 25/32\n",
            "84/84 [==============================] - ETA: 0s - loss: 0.2729 - acc: 0.8876\n",
            "Epoch 25: val_acc did not improve from 0.66321\n",
            "84/84 [==============================] - 1s 15ms/step - loss: 0.2729 - acc: 0.8876 - val_loss: 1.5647 - val_acc: 0.6062\n",
            "Epoch 26/32\n",
            "83/84 [============================>.] - ETA: 0s - loss: 0.2737 - acc: 0.8848\n",
            "Epoch 26: val_acc did not improve from 0.66321\n",
            "84/84 [==============================] - 1s 16ms/step - loss: 0.2743 - acc: 0.8832 - val_loss: 1.4414 - val_acc: 0.5855\n",
            "Epoch 27/32\n",
            "84/84 [==============================] - ETA: 0s - loss: 0.3320 - acc: 0.8638\n",
            "Epoch 27: val_acc did not improve from 0.66321\n",
            "84/84 [==============================] - 1s 16ms/step - loss: 0.3320 - acc: 0.8638 - val_loss: 1.3367 - val_acc: 0.6218\n",
            "Epoch 28/32\n",
            "81/84 [===========================>..] - ETA: 0s - loss: 0.3283 - acc: 0.8750\n",
            "Epoch 28: val_acc did not improve from 0.66321\n",
            "84/84 [==============================] - 1s 15ms/step - loss: 0.3271 - acc: 0.8750 - val_loss: 1.3556 - val_acc: 0.5907\n",
            "Epoch 29/32\n",
            "82/84 [============================>.] - ETA: 0s - loss: 0.2891 - acc: 0.8841\n",
            "Epoch 29: val_acc did not improve from 0.66321\n",
            "84/84 [==============================] - 2s 18ms/step - loss: 0.2955 - acc: 0.8810 - val_loss: 1.3043 - val_acc: 0.5751\n",
            "Epoch 29: early stopping\n"
          ]
        },
        {
          "output_type": "execute_result",
          "data": {
            "text/plain": [
              "<keras.callbacks.History at 0x7ff83fa0cf90>"
            ]
          },
          "metadata": {},
          "execution_count": 42
        }
      ]
    },
    {
      "cell_type": "markdown",
      "source": [
        "### LSTM, training TWITCH embedding is false"
      ],
      "metadata": {
        "id": "Z5iHdURTHMgc"
      }
    },
    {
      "cell_type": "code",
      "source": [
        "TRAINABLE = False\n",
        "CKPT = set_up_checkpoint(\"base_model_ckpt_train_twitch_embed_false2_05_05_2022\")\n",
        "embedding_layer = Embedding(NUM_TOKENS,  EMBEDDING_DIMENSION, \n",
        "                            embeddings_initializer= Constant(twitch_embedding_matrix), \n",
        "                            trainable = TRAINABLE)\n",
        "int_sequences_input = Input(shape=(None,), dtype=\"int64\")\n",
        "embedded_sequences = embedding_layer(int_sequences_input)\n",
        "x_vanilla = Bidirectional(LSTM(NODES, return_sequences=True))(embedded_sequences)\n",
        "x_vanilla = Bidirectional(LSTM(NODES))(x_vanilla)\n",
        "preds_twitch_no = layers.Dense(len(classes), activation=\"softmax\")(x_vanilla)\n",
        "lstm_twitch_no2 = Model(int_sequences_input, preds_twitch_no)\n",
        "lstm_twitch_no2.compile(loss = OBJECTIVE_FUNC, optimizer = OPTIMIZER, \n",
        "                      metrics = METRICS)\n",
        "lstm_twitch_no2.summary()\n",
        "lstm_twitch_no2.fit(x_train_message_vec, y_train_vec, \n",
        "                  batch_size = BATCH_SIZE, \n",
        "                  epochs = EPOCHS,\n",
        "                  validation_data = (x_valid_message_vec, y_valid_vec), \n",
        "                  callbacks = [EARLY_STOP, CKPT])"
      ],
      "metadata": {
        "colab": {
          "base_uri": "https://localhost:8080/"
        },
        "outputId": "5b1b9e91-36d8-4aa6-fa75-48aa0fbf2e4d",
        "id": "OdeIQSpTHMgc"
      },
      "execution_count": null,
      "outputs": [
        {
          "output_type": "stream",
          "name": "stdout",
          "text": [
            "Model: \"model_4\"\n",
            "_________________________________________________________________\n",
            " Layer (type)                Output Shape              Param #   \n",
            "=================================================================\n",
            " input_5 (InputLayer)        [(None, None)]            0         \n",
            "                                                                 \n",
            " embedding_4 (Embedding)     (None, None, 200)         417600    \n",
            "                                                                 \n",
            " bidirectional_8 (Bidirectio  (None, None, 256)        336896    \n",
            " nal)                                                            \n",
            "                                                                 \n",
            " bidirectional_9 (Bidirectio  (None, 256)              394240    \n",
            " nal)                                                            \n",
            "                                                                 \n",
            " dense_4 (Dense)             (None, 3)                 771       \n",
            "                                                                 \n",
            "=================================================================\n",
            "Total params: 1,149,507\n",
            "Trainable params: 731,907\n",
            "Non-trainable params: 417,600\n",
            "_________________________________________________________________\n",
            "Epoch 1/32\n",
            "81/84 [===========================>..] - ETA: 0s - loss: 0.9013 - acc: 0.5764\n",
            "Epoch 1: val_acc improved from -inf to 0.62694, saving model to base_model_ckpt_train_twitch_embed_false2_05_05_2022\n",
            "84/84 [==============================] - 7s 34ms/step - loss: 0.9058 - acc: 0.5707 - val_loss: 0.8152 - val_acc: 0.6269\n",
            "Epoch 2/32\n",
            "81/84 [===========================>..] - ETA: 0s - loss: 0.6697 - acc: 0.7269\n",
            "Epoch 2: val_acc did not improve from 0.62694\n",
            "84/84 [==============================] - 1s 16ms/step - loss: 0.6745 - acc: 0.7247 - val_loss: 0.8739 - val_acc: 0.5907\n",
            "Epoch 3/32\n",
            "81/84 [===========================>..] - ETA: 0s - loss: 0.5495 - acc: 0.7778\n",
            "Epoch 3: val_acc improved from 0.62694 to 0.64249, saving model to base_model_ckpt_train_twitch_embed_false2_05_05_2022\n",
            "84/84 [==============================] - 1s 17ms/step - loss: 0.5498 - acc: 0.7775 - val_loss: 0.9037 - val_acc: 0.6425\n",
            "Epoch 4/32\n",
            "81/84 [===========================>..] - ETA: 0s - loss: 0.4646 - acc: 0.8171\n",
            "Epoch 4: val_acc did not improve from 0.64249\n",
            "84/84 [==============================] - 1s 16ms/step - loss: 0.4708 - acc: 0.8147 - val_loss: 0.8715 - val_acc: 0.6062\n",
            "Epoch 5/32\n",
            "81/84 [===========================>..] - ETA: 0s - loss: 0.3857 - acc: 0.8472\n",
            "Epoch 5: val_acc improved from 0.64249 to 0.64767, saving model to base_model_ckpt_train_twitch_embed_false2_05_05_2022\n",
            "84/84 [==============================] - 1s 17ms/step - loss: 0.3917 - acc: 0.8452 - val_loss: 1.0198 - val_acc: 0.6477\n",
            "Epoch 6/32\n",
            "82/84 [============================>.] - ETA: 0s - loss: 0.3509 - acc: 0.8643\n",
            "Epoch 6: val_acc improved from 0.64767 to 0.65285, saving model to base_model_ckpt_train_twitch_embed_false2_05_05_2022\n",
            "84/84 [==============================] - 2s 18ms/step - loss: 0.3494 - acc: 0.8646 - val_loss: 1.0622 - val_acc: 0.6528\n",
            "Epoch 7/32\n",
            "81/84 [===========================>..] - ETA: 0s - loss: 0.3038 - acc: 0.8812\n",
            "Epoch 7: val_acc improved from 0.65285 to 0.65803, saving model to base_model_ckpt_train_twitch_embed_false2_05_05_2022\n",
            "84/84 [==============================] - 2s 18ms/step - loss: 0.3027 - acc: 0.8824 - val_loss: 1.1865 - val_acc: 0.6580\n",
            "Epoch 8/32\n",
            "81/84 [===========================>..] - ETA: 0s - loss: 0.3096 - acc: 0.8843\n",
            "Epoch 8: val_acc improved from 0.65803 to 0.67876, saving model to base_model_ckpt_train_twitch_embed_false2_05_05_2022\n",
            "84/84 [==============================] - 1s 17ms/step - loss: 0.3167 - acc: 0.8802 - val_loss: 1.0550 - val_acc: 0.6788\n",
            "Epoch 9/32\n",
            "83/84 [============================>.] - ETA: 0s - loss: 0.2635 - acc: 0.8983\n",
            "Epoch 9: val_acc did not improve from 0.67876\n",
            "84/84 [==============================] - 1s 16ms/step - loss: 0.2638 - acc: 0.8981 - val_loss: 1.3289 - val_acc: 0.6528\n",
            "Epoch 10/32\n",
            "81/84 [===========================>..] - ETA: 0s - loss: 0.2593 - acc: 0.8974\n",
            "Epoch 10: val_acc did not improve from 0.67876\n",
            "84/84 [==============================] - 1s 16ms/step - loss: 0.2541 - acc: 0.9003 - val_loss: 1.2648 - val_acc: 0.6580\n",
            "Epoch 11/32\n",
            "81/84 [===========================>..] - ETA: 0s - loss: 0.2336 - acc: 0.9051\n",
            "Epoch 11: val_acc did not improve from 0.67876\n",
            "84/84 [==============================] - 1s 16ms/step - loss: 0.2375 - acc: 0.9018 - val_loss: 1.4419 - val_acc: 0.6580\n",
            "Epoch 12/32\n",
            "83/84 [============================>.] - ETA: 0s - loss: 0.2311 - acc: 0.9051\n",
            "Epoch 12: val_acc did not improve from 0.67876\n",
            "84/84 [==============================] - 1s 16ms/step - loss: 0.2304 - acc: 0.9055 - val_loss: 1.3718 - val_acc: 0.6425\n",
            "Epoch 13/32\n",
            "81/84 [===========================>..] - ETA: 0s - loss: 0.2255 - acc: 0.9097\n",
            "Epoch 13: val_acc did not improve from 0.67876\n",
            "84/84 [==============================] - 1s 16ms/step - loss: 0.2212 - acc: 0.9122 - val_loss: 1.3475 - val_acc: 0.6684\n",
            "Epoch 14/32\n",
            "81/84 [===========================>..] - ETA: 0s - loss: 0.2143 - acc: 0.9074\n",
            "Epoch 14: val_acc did not improve from 0.67876\n",
            "84/84 [==============================] - 1s 16ms/step - loss: 0.2167 - acc: 0.9055 - val_loss: 1.4112 - val_acc: 0.6528\n",
            "Epoch 15/32\n",
            "81/84 [===========================>..] - ETA: 0s - loss: 0.1953 - acc: 0.9190\n",
            "Epoch 15: val_acc did not improve from 0.67876\n",
            "84/84 [==============================] - 1s 16ms/step - loss: 0.1956 - acc: 0.9196 - val_loss: 1.4887 - val_acc: 0.6321\n",
            "Epoch 16/32\n",
            "84/84 [==============================] - ETA: 0s - loss: 0.3484 - acc: 0.8772\n",
            "Epoch 16: val_acc did not improve from 0.67876\n",
            "84/84 [==============================] - 1s 16ms/step - loss: 0.3484 - acc: 0.8772 - val_loss: 1.1577 - val_acc: 0.6477\n",
            "Epoch 17/32\n",
            "81/84 [===========================>..] - ETA: 0s - loss: 0.2842 - acc: 0.8935\n",
            "Epoch 17: val_acc did not improve from 0.67876\n",
            "84/84 [==============================] - 1s 16ms/step - loss: 0.2838 - acc: 0.8921 - val_loss: 1.1336 - val_acc: 0.6528\n",
            "Epoch 17: early stopping\n"
          ]
        },
        {
          "output_type": "execute_result",
          "data": {
            "text/plain": [
              "<keras.callbacks.History at 0x7ff83ff3b450>"
            ]
          },
          "metadata": {},
          "execution_count": 45
        }
      ]
    },
    {
      "cell_type": "markdown",
      "source": [
        "### LSTM, training embedding is true"
      ],
      "metadata": {
        "id": "LUxD3W14QI00"
      }
    },
    {
      "cell_type": "code",
      "source": [
        "TRAINABLE = True\n",
        "CKPT = set_up_checkpoint(\"base_model_ckpt_train_embed_true\")\n",
        "embedding_layer = Embedding(NUM_TOKENS,  EMBEDDING_DIMENSION, \n",
        "                            embeddings_initializer= Constant(embedding_matrix), \n",
        "                            trainable = TRAINABLE)\n",
        "int_sequences_input = Input(shape=(None,), dtype=\"int64\")\n",
        "embedded_sequences = embedding_layer(int_sequences_input)\n",
        "x_vanilla = Bidirectional(LSTM(NODES, return_sequences=True))(embedded_sequences)\n",
        "x_vanilla = Bidirectional(LSTM(NODES))(x_vanilla)\n",
        "preds_vanilla = layers.Dense(len(classes), activation=\"softmax\")(x_vanilla)\n",
        "model_vanilla_train_true2 = Model(int_sequences_input, preds_vanilla)\n",
        "model_vanilla_train_true2.compile(loss = OBJECTIVE_FUNC, optimizer = OPTIMIZER, \n",
        "                      metrics = METRICS)\n",
        "model_vanilla_train_true2.summary()\n",
        "model_vanilla_train_true2.fit(x_train_message_vec, y_train_vec, \n",
        "                  batch_size = BATCH_SIZE, \n",
        "                  epochs = EPOCHS,\n",
        "                  validation_data = (x_valid_message_vec, y_valid_vec), \n",
        "                  callbacks = [EARLY_STOP, CKPT])"
      ],
      "metadata": {
        "colab": {
          "base_uri": "https://localhost:8080/"
        },
        "id": "kOYSrLfcAC3p",
        "outputId": "ff5774b2-8809-4de5-855f-1e6208798503"
      },
      "execution_count": null,
      "outputs": [
        {
          "output_type": "stream",
          "name": "stdout",
          "text": [
            "Model: \"model_5\"\n",
            "_________________________________________________________________\n",
            " Layer (type)                Output Shape              Param #   \n",
            "=================================================================\n",
            " input_6 (InputLayer)        [(None, None)]            0         \n",
            "                                                                 \n",
            " embedding_5 (Embedding)     (None, None, 200)         417600    \n",
            "                                                                 \n",
            " bidirectional_10 (Bidirecti  (None, None, 256)        336896    \n",
            " onal)                                                           \n",
            "                                                                 \n",
            " bidirectional_11 (Bidirecti  (None, 256)              394240    \n",
            " onal)                                                           \n",
            "                                                                 \n",
            " dense_5 (Dense)             (None, 3)                 771       \n",
            "                                                                 \n",
            "=================================================================\n",
            "Total params: 1,149,507\n",
            "Trainable params: 1,149,507\n",
            "Non-trainable params: 0\n",
            "_________________________________________________________________\n",
            "Epoch 1/32\n",
            "84/84 [==============================] - ETA: 0s - loss: 0.9440 - acc: 0.5558\n",
            "Epoch 1: val_acc improved from -inf to 0.60104, saving model to base_model_ckpt_train_embed_true\n",
            "84/84 [==============================] - 8s 35ms/step - loss: 0.9440 - acc: 0.5558 - val_loss: 0.8438 - val_acc: 0.6010\n",
            "Epoch 2/32\n",
            "81/84 [===========================>..] - ETA: 0s - loss: 0.7132 - acc: 0.7068\n",
            "Epoch 2: val_acc did not improve from 0.60104\n",
            "84/84 [==============================] - 1s 16ms/step - loss: 0.7153 - acc: 0.7039 - val_loss: 0.8818 - val_acc: 0.5699\n",
            "Epoch 3/32\n",
            "81/84 [===========================>..] - ETA: 0s - loss: 0.5076 - acc: 0.7940\n",
            "Epoch 3: val_acc improved from 0.60104 to 0.63212, saving model to base_model_ckpt_train_embed_true\n",
            "84/84 [==============================] - 1s 17ms/step - loss: 0.5081 - acc: 0.7939 - val_loss: 0.8221 - val_acc: 0.6321\n",
            "Epoch 4/32\n",
            "81/84 [===========================>..] - ETA: 0s - loss: 0.3590 - acc: 0.8673\n",
            "Epoch 4: val_acc improved from 0.63212 to 0.65803, saving model to base_model_ckpt_train_embed_true\n",
            "84/84 [==============================] - 1s 17ms/step - loss: 0.3576 - acc: 0.8683 - val_loss: 0.9230 - val_acc: 0.6580\n",
            "Epoch 5/32\n",
            "81/84 [===========================>..] - ETA: 0s - loss: 0.2541 - acc: 0.9090\n",
            "Epoch 5: val_acc improved from 0.65803 to 0.66321, saving model to base_model_ckpt_train_embed_true\n",
            "84/84 [==============================] - 1s 17ms/step - loss: 0.2541 - acc: 0.9077 - val_loss: 0.9285 - val_acc: 0.6632\n",
            "Epoch 6/32\n",
            "84/84 [==============================] - ETA: 0s - loss: 0.2206 - acc: 0.9249\n",
            "Epoch 6: val_acc improved from 0.66321 to 0.66839, saving model to base_model_ckpt_train_embed_true\n",
            "84/84 [==============================] - 1s 17ms/step - loss: 0.2206 - acc: 0.9249 - val_loss: 1.1328 - val_acc: 0.6684\n",
            "Epoch 7/32\n",
            "81/84 [===========================>..] - ETA: 0s - loss: 0.1691 - acc: 0.9367\n",
            "Epoch 7: val_acc improved from 0.66839 to 0.67358, saving model to base_model_ckpt_train_embed_true\n",
            "84/84 [==============================] - 2s 19ms/step - loss: 0.1731 - acc: 0.9338 - val_loss: 1.0960 - val_acc: 0.6736\n",
            "Epoch 8/32\n",
            "81/84 [===========================>..] - ETA: 0s - loss: 0.1511 - acc: 0.9390\n",
            "Epoch 8: val_acc did not improve from 0.67358\n",
            "84/84 [==============================] - 1s 16ms/step - loss: 0.1553 - acc: 0.9375 - val_loss: 1.2447 - val_acc: 0.6477\n",
            "Epoch 9/32\n",
            "81/84 [===========================>..] - ETA: 0s - loss: 0.1521 - acc: 0.9383\n",
            "Epoch 9: val_acc did not improve from 0.67358\n",
            "84/84 [==============================] - 1s 16ms/step - loss: 0.1507 - acc: 0.9382 - val_loss: 1.1191 - val_acc: 0.6321\n",
            "Epoch 10/32\n",
            "81/84 [===========================>..] - ETA: 0s - loss: 0.1312 - acc: 0.9421\n",
            "Epoch 10: val_acc did not improve from 0.67358\n",
            "84/84 [==============================] - 1s 16ms/step - loss: 0.1321 - acc: 0.9412 - val_loss: 1.3112 - val_acc: 0.6477\n",
            "Epoch 11/32\n",
            "81/84 [===========================>..] - ETA: 0s - loss: 0.1225 - acc: 0.9498\n",
            "Epoch 11: val_acc did not improve from 0.67358\n",
            "84/84 [==============================] - 1s 16ms/step - loss: 0.1228 - acc: 0.9501 - val_loss: 1.3139 - val_acc: 0.6373\n",
            "Epoch 12/32\n",
            "81/84 [===========================>..] - ETA: 0s - loss: 0.1197 - acc: 0.9452\n",
            "Epoch 12: val_acc did not improve from 0.67358\n",
            "84/84 [==============================] - 1s 16ms/step - loss: 0.1170 - acc: 0.9464 - val_loss: 1.3975 - val_acc: 0.6477\n",
            "Epoch 13/32\n",
            "82/84 [============================>.] - ETA: 0s - loss: 0.1215 - acc: 0.9512\n",
            "Epoch 13: val_acc did not improve from 0.67358\n",
            "84/84 [==============================] - 1s 16ms/step - loss: 0.1208 - acc: 0.9516 - val_loss: 1.4045 - val_acc: 0.6477\n",
            "Epoch 14/32\n",
            "81/84 [===========================>..] - ETA: 0s - loss: 0.1118 - acc: 0.9514\n",
            "Epoch 14: val_acc did not improve from 0.67358\n",
            "84/84 [==============================] - 1s 16ms/step - loss: 0.1124 - acc: 0.9509 - val_loss: 1.5255 - val_acc: 0.6477\n",
            "Epoch 15/32\n",
            "81/84 [===========================>..] - ETA: 0s - loss: 0.1153 - acc: 0.9452\n",
            "Epoch 15: val_acc did not improve from 0.67358\n",
            "84/84 [==============================] - 1s 16ms/step - loss: 0.1133 - acc: 0.9464 - val_loss: 1.6601 - val_acc: 0.6373\n",
            "Epoch 16/32\n",
            "81/84 [===========================>..] - ETA: 0s - loss: 0.1109 - acc: 0.9514\n",
            "Epoch 16: val_acc did not improve from 0.67358\n",
            "84/84 [==============================] - 1s 16ms/step - loss: 0.1115 - acc: 0.9509 - val_loss: 1.8142 - val_acc: 0.6166\n",
            "Epoch 16: early stopping\n"
          ]
        },
        {
          "output_type": "execute_result",
          "data": {
            "text/plain": [
              "<keras.callbacks.History at 0x7ff83c88ae10>"
            ]
          },
          "metadata": {},
          "execution_count": 46
        }
      ]
    },
    {
      "cell_type": "markdown",
      "source": [
        "### LSTM, training TWITCH embedding is true"
      ],
      "metadata": {
        "id": "4FNHubYcHdJt"
      }
    },
    {
      "cell_type": "code",
      "source": [
        "TRAINABLE = True\n",
        "CKPT = set_up_checkpoint(\"base_model_ckpt_train_twitch_embed_true\")\n",
        "embedding_layer = Embedding(NUM_TOKENS,  EMBEDDING_DIMENSION, \n",
        "                            embeddings_initializer= Constant(twitch_embedding_matrix), \n",
        "                            trainable = TRAINABLE)\n",
        "int_sequences_input = Input(shape=(None,), dtype=\"int64\")\n",
        "embedded_sequences = embedding_layer(int_sequences_input)\n",
        "x_vanilla = Bidirectional(LSTM(NODES, return_sequences=True))(embedded_sequences)\n",
        "x_vanilla = Bidirectional(LSTM(NODES))(x_vanilla)\n",
        "preds_twitch_yes = layers.Dense(len(classes), activation=\"softmax\")(x_vanilla)\n",
        "lstm_twitch_yes2 = Model(int_sequences_input, preds_twitch_yes)\n",
        "lstm_twitch_yes2.compile(loss = OBJECTIVE_FUNC, optimizer = OPTIMIZER, \n",
        "                      metrics = METRICS)\n",
        "lstm_twitch_yes2.summary()\n",
        "lstm_twitch_yes2.fit(x_train_message_vec, y_train_vec, \n",
        "                  batch_size = BATCH_SIZE, \n",
        "                  epochs = EPOCHS,\n",
        "                  validation_data = (x_valid_message_vec, y_valid_vec), \n",
        "                  callbacks = [EARLY_STOP, CKPT])"
      ],
      "metadata": {
        "colab": {
          "base_uri": "https://localhost:8080/"
        },
        "outputId": "4fd62f34-c2e2-4492-ec21-21c3e977be7e",
        "id": "GawFAC1THdJu"
      },
      "execution_count": null,
      "outputs": [
        {
          "output_type": "stream",
          "name": "stdout",
          "text": [
            "Model: \"model_6\"\n",
            "_________________________________________________________________\n",
            " Layer (type)                Output Shape              Param #   \n",
            "=================================================================\n",
            " input_7 (InputLayer)        [(None, None)]            0         \n",
            "                                                                 \n",
            " embedding_6 (Embedding)     (None, None, 200)         417600    \n",
            "                                                                 \n",
            " bidirectional_12 (Bidirecti  (None, None, 256)        336896    \n",
            " onal)                                                           \n",
            "                                                                 \n",
            " bidirectional_13 (Bidirecti  (None, 256)              394240    \n",
            " onal)                                                           \n",
            "                                                                 \n",
            " dense_6 (Dense)             (None, 3)                 771       \n",
            "                                                                 \n",
            "=================================================================\n",
            "Total params: 1,149,507\n",
            "Trainable params: 1,149,507\n",
            "Non-trainable params: 0\n",
            "_________________________________________________________________\n",
            "Epoch 1/32\n",
            "84/84 [==============================] - ETA: 0s - loss: 0.8985 - acc: 0.5856\n",
            "Epoch 1: val_acc improved from -inf to 0.63731, saving model to base_model_ckpt_train_twitch_embed_true\n",
            "84/84 [==============================] - 7s 34ms/step - loss: 0.8985 - acc: 0.5856 - val_loss: 0.8329 - val_acc: 0.6373\n",
            "Epoch 2/32\n",
            "81/84 [===========================>..] - ETA: 0s - loss: 0.6278 - acc: 0.7415\n",
            "Epoch 2: val_acc did not improve from 0.63731\n",
            "84/84 [==============================] - 1s 16ms/step - loss: 0.6270 - acc: 0.7418 - val_loss: 0.8553 - val_acc: 0.6114\n",
            "Epoch 3/32\n",
            "83/84 [============================>.] - ETA: 0s - loss: 0.4522 - acc: 0.8245\n",
            "Epoch 3: val_acc improved from 0.63731 to 0.66839, saving model to base_model_ckpt_train_twitch_embed_true\n",
            "84/84 [==============================] - 2s 18ms/step - loss: 0.4503 - acc: 0.8251 - val_loss: 0.8311 - val_acc: 0.6684\n",
            "Epoch 4/32\n",
            "81/84 [===========================>..] - ETA: 0s - loss: 0.3339 - acc: 0.8696\n",
            "Epoch 4: val_acc did not improve from 0.66839\n",
            "84/84 [==============================] - 1s 16ms/step - loss: 0.3362 - acc: 0.8676 - val_loss: 0.9335 - val_acc: 0.6632\n",
            "Epoch 5/32\n",
            "81/84 [===========================>..] - ETA: 0s - loss: 0.2455 - acc: 0.9120\n",
            "Epoch 5: val_acc did not improve from 0.66839\n",
            "84/84 [==============================] - 1s 16ms/step - loss: 0.2484 - acc: 0.9100 - val_loss: 0.9676 - val_acc: 0.6632\n",
            "Epoch 6/32\n",
            "81/84 [===========================>..] - ETA: 0s - loss: 0.1922 - acc: 0.9228\n",
            "Epoch 6: val_acc did not improve from 0.66839\n",
            "84/84 [==============================] - 1s 17ms/step - loss: 0.1915 - acc: 0.9234 - val_loss: 1.0611 - val_acc: 0.6684\n",
            "Epoch 7/32\n",
            "81/84 [===========================>..] - ETA: 0s - loss: 0.1816 - acc: 0.9228\n",
            "Epoch 7: val_acc did not improve from 0.66839\n",
            "84/84 [==============================] - 1s 16ms/step - loss: 0.1843 - acc: 0.9226 - val_loss: 1.2125 - val_acc: 0.6477\n",
            "Epoch 8/32\n",
            "81/84 [===========================>..] - ETA: 0s - loss: 0.1472 - acc: 0.9390\n",
            "Epoch 8: val_acc did not improve from 0.66839\n",
            "84/84 [==============================] - 1s 16ms/step - loss: 0.1472 - acc: 0.9382 - val_loss: 1.2670 - val_acc: 0.6425\n",
            "Epoch 9/32\n",
            "81/84 [===========================>..] - ETA: 0s - loss: 0.1339 - acc: 0.9444\n",
            "Epoch 9: val_acc did not improve from 0.66839\n",
            "84/84 [==============================] - 1s 16ms/step - loss: 0.1331 - acc: 0.9457 - val_loss: 1.3651 - val_acc: 0.6373\n",
            "Epoch 10/32\n",
            "84/84 [==============================] - ETA: 0s - loss: 0.1264 - acc: 0.9479\n",
            "Epoch 10: val_acc did not improve from 0.66839\n",
            "84/84 [==============================] - 1s 16ms/step - loss: 0.1264 - acc: 0.9479 - val_loss: 1.3363 - val_acc: 0.6269\n",
            "Epoch 11/32\n",
            "81/84 [===========================>..] - ETA: 0s - loss: 0.1289 - acc: 0.9460\n",
            "Epoch 11: val_acc did not improve from 0.66839\n",
            "84/84 [==============================] - 1s 16ms/step - loss: 0.1328 - acc: 0.9449 - val_loss: 1.4289 - val_acc: 0.5855\n",
            "Epoch 12/32\n",
            "84/84 [==============================] - ETA: 0s - loss: 0.1214 - acc: 0.9464\n",
            "Epoch 12: val_acc did not improve from 0.66839\n",
            "84/84 [==============================] - 1s 17ms/step - loss: 0.1214 - acc: 0.9464 - val_loss: 1.4514 - val_acc: 0.6166\n",
            "Epoch 12: early stopping\n"
          ]
        },
        {
          "output_type": "execute_result",
          "data": {
            "text/plain": [
              "<keras.callbacks.History at 0x7ff8290ed590>"
            ]
          },
          "metadata": {},
          "execution_count": 47
        }
      ]
    },
    {
      "cell_type": "markdown",
      "source": [
        "### LSTM, training ZERO embedding is false"
      ],
      "metadata": {
        "id": "rD6DgFLg4gGR"
      }
    },
    {
      "cell_type": "code",
      "source": [
        "TRAINABLE = False\n",
        "CKPT = set_up_checkpoint(\"base_model_ckpt_train_zero_embed_false_05_05_2022\")\n",
        "embedding_layer = Embedding(NUM_TOKENS,  EMBEDDING_DIMENSION, \n",
        "                            embeddings_initializer= Constant(zero_matrix), \n",
        "                            trainable = TRAINABLE)\n",
        "int_sequences_input = Input(shape=(None,), dtype=\"int64\")\n",
        "embedded_sequences = embedding_layer(int_sequences_input)\n",
        "x_vanilla = Bidirectional(LSTM(NODES, return_sequences=True))(embedded_sequences)\n",
        "x_vanilla = Bidirectional(LSTM(NODES))(x_vanilla)\n",
        "preds_zero_false = layers.Dense(len(classes), activation=\"softmax\")(x_vanilla)\n",
        "lstm_zero_false2 = Model(int_sequences_input, preds_zero_false)\n",
        "lstm_zero_false2.compile(loss = OBJECTIVE_FUNC, optimizer = OPTIMIZER, \n",
        "                      metrics = METRICS)\n",
        "lstm_zero_false2.summary()\n",
        "lstm_zero_false2.fit(x_train_message_vec, y_train_vec, \n",
        "                  batch_size = BATCH_SIZE, \n",
        "                  epochs = EPOCHS,\n",
        "                  validation_data = (x_valid_message_vec, y_valid_vec), \n",
        "                  callbacks = [EARLY_STOP, CKPT])"
      ],
      "metadata": {
        "colab": {
          "base_uri": "https://localhost:8080/"
        },
        "outputId": "b50eb145-7ec0-460b-8e20-1109fb3b21fd",
        "id": "4NWcK-fb4gGR"
      },
      "execution_count": null,
      "outputs": [
        {
          "output_type": "stream",
          "name": "stdout",
          "text": [
            "Model: \"model_7\"\n",
            "_________________________________________________________________\n",
            " Layer (type)                Output Shape              Param #   \n",
            "=================================================================\n",
            " input_8 (InputLayer)        [(None, None)]            0         \n",
            "                                                                 \n",
            " embedding_7 (Embedding)     (None, None, 200)         417600    \n",
            "                                                                 \n",
            " bidirectional_14 (Bidirecti  (None, None, 256)        336896    \n",
            " onal)                                                           \n",
            "                                                                 \n",
            " bidirectional_15 (Bidirecti  (None, 256)              394240    \n",
            " onal)                                                           \n",
            "                                                                 \n",
            " dense_7 (Dense)             (None, 3)                 771       \n",
            "                                                                 \n",
            "=================================================================\n",
            "Total params: 1,149,507\n",
            "Trainable params: 731,907\n",
            "Non-trainable params: 417,600\n",
            "_________________________________________________________________\n",
            "Epoch 1/32\n",
            "84/84 [==============================] - ETA: 0s - loss: 1.0708 - acc: 0.3906\n",
            "Epoch 1: val_acc improved from -inf to 0.39896, saving model to base_model_ckpt_train_zero_embed_false_05_05_2022\n",
            "84/84 [==============================] - 8s 34ms/step - loss: 1.0708 - acc: 0.3906 - val_loss: 1.0748 - val_acc: 0.3990\n",
            "Epoch 2/32\n",
            "81/84 [===========================>..] - ETA: 0s - loss: 1.0688 - acc: 0.3881\n",
            "Epoch 2: val_acc did not improve from 0.39896\n",
            "84/84 [==============================] - 1s 16ms/step - loss: 1.0672 - acc: 0.3921 - val_loss: 1.0636 - val_acc: 0.3990\n",
            "Epoch 3/32\n",
            "81/84 [===========================>..] - ETA: 0s - loss: 1.0683 - acc: 0.3920\n",
            "Epoch 3: val_acc did not improve from 0.39896\n",
            "84/84 [==============================] - 1s 15ms/step - loss: 1.0669 - acc: 0.3906 - val_loss: 1.0635 - val_acc: 0.3990\n",
            "Epoch 4/32\n",
            "81/84 [===========================>..] - ETA: 0s - loss: 1.0617 - acc: 0.3819\n",
            "Epoch 4: val_acc did not improve from 0.39896\n",
            "84/84 [==============================] - 1s 15ms/step - loss: 1.0635 - acc: 0.3780 - val_loss: 1.0650 - val_acc: 0.3886\n",
            "Epoch 5/32\n",
            "81/84 [===========================>..] - ETA: 0s - loss: 1.0630 - acc: 0.3912\n",
            "Epoch 5: val_acc did not improve from 0.39896\n",
            "84/84 [==============================] - 1s 16ms/step - loss: 1.0633 - acc: 0.3921 - val_loss: 1.0631 - val_acc: 0.3886\n",
            "Epoch 6/32\n",
            "81/84 [===========================>..] - ETA: 0s - loss: 1.0649 - acc: 0.3981\n",
            "Epoch 6: val_acc did not improve from 0.39896\n",
            "84/84 [==============================] - 1s 15ms/step - loss: 1.0634 - acc: 0.3943 - val_loss: 1.0633 - val_acc: 0.3990\n",
            "Epoch 7/32\n",
            "81/84 [===========================>..] - ETA: 0s - loss: 1.0633 - acc: 0.4005\n",
            "Epoch 7: val_acc did not improve from 0.39896\n",
            "84/84 [==============================] - 1s 15ms/step - loss: 1.0635 - acc: 0.3966 - val_loss: 1.0647 - val_acc: 0.3886\n",
            "Epoch 8/32\n",
            "81/84 [===========================>..] - ETA: 0s - loss: 1.0631 - acc: 0.3681\n",
            "Epoch 8: val_acc did not improve from 0.39896\n",
            "84/84 [==============================] - 1s 15ms/step - loss: 1.0650 - acc: 0.3676 - val_loss: 1.0640 - val_acc: 0.3990\n",
            "Epoch 9/32\n",
            "84/84 [==============================] - ETA: 0s - loss: 1.0626 - acc: 0.3966\n",
            "Epoch 9: val_acc did not improve from 0.39896\n",
            "84/84 [==============================] - 1s 16ms/step - loss: 1.0626 - acc: 0.3966 - val_loss: 1.0637 - val_acc: 0.3886\n",
            "Epoch 10/32\n",
            "81/84 [===========================>..] - ETA: 0s - loss: 1.0645 - acc: 0.3758\n",
            "Epoch 10: val_acc did not improve from 0.39896\n",
            "84/84 [==============================] - 1s 15ms/step - loss: 1.0630 - acc: 0.3772 - val_loss: 1.0630 - val_acc: 0.3990\n",
            "Epoch 10: early stopping\n"
          ]
        },
        {
          "output_type": "execute_result",
          "data": {
            "text/plain": [
              "<keras.callbacks.History at 0x7ff7f45af390>"
            ]
          },
          "metadata": {},
          "execution_count": 48
        }
      ]
    },
    {
      "cell_type": "markdown",
      "source": [
        "### LSTM, training ZERO embedding is true"
      ],
      "metadata": {
        "id": "73QCDttv4hYm"
      }
    },
    {
      "cell_type": "code",
      "source": [
        "#lstm_zero_embeddings_for_words_trained = lstm_zero_true.get_layer(\"embedding_7\").embeddings"
      ],
      "metadata": {
        "id": "FLANppJiA0sg"
      },
      "execution_count": null,
      "outputs": []
    },
    {
      "cell_type": "code",
      "source": [
        "#np.array([round(x,3) for x in twitch_embeddings[2]])"
      ],
      "metadata": {
        "id": "1udftPnuBToc"
      },
      "execution_count": null,
      "outputs": []
    },
    {
      "cell_type": "code",
      "source": [
        "#np.array([round(x, 3) for x in \n",
        " #         np.array(lstm_zero_embeddings_for_words_trained[2])])"
      ],
      "metadata": {
        "id": "sM6EupVWBWQF"
      },
      "execution_count": null,
      "outputs": []
    },
    {
      "cell_type": "code",
      "source": [
        "TRAINABLE = True\n",
        "CKPT = set_up_checkpoint(\"base_model_ckpt_train_zero_embed_true_05_05_2022\")\n",
        "embedding_layer = Embedding(NUM_TOKENS,  EMBEDDING_DIMENSION, \n",
        "                            embeddings_initializer= Constant(zero_matrix), \n",
        "                            trainable = TRAINABLE)\n",
        "int_sequences_input = Input(shape=(None,), dtype=\"int64\")\n",
        "embedded_sequences = embedding_layer(int_sequences_input)\n",
        "x_vanilla = Bidirectional(LSTM(NODES, return_sequences=True))(embedded_sequences)\n",
        "x_vanilla = Bidirectional(LSTM(NODES))(x_vanilla)\n",
        "preds_zero_true = layers.Dense(len(classes), activation=\"softmax\")(x_vanilla)\n",
        "lstm_zero_true = Model(int_sequences_input, preds_zero_true)\n",
        "lstm_zero_true.compile(loss = OBJECTIVE_FUNC, optimizer = OPTIMIZER, \n",
        "                      metrics = METRICS)\n",
        "lstm_zero_true.summary()\n",
        "lstm_zero_true.fit(x_train_message_vec, y_train_vec, \n",
        "                  batch_size = BATCH_SIZE, \n",
        "                  epochs = EPOCHS,\n",
        "                  validation_data = (x_valid_message_vec, y_valid_vec), \n",
        "                  callbacks = [EARLY_STOP, CKPT])"
      ],
      "metadata": {
        "colab": {
          "base_uri": "https://localhost:8080/"
        },
        "outputId": "7a2140bc-7e4f-4d95-b79f-97196b414da2",
        "id": "sKBd2Fs34hYm"
      },
      "execution_count": null,
      "outputs": [
        {
          "output_type": "stream",
          "name": "stdout",
          "text": [
            "Model: \"model_8\"\n",
            "_________________________________________________________________\n",
            " Layer (type)                Output Shape              Param #   \n",
            "=================================================================\n",
            " input_9 (InputLayer)        [(None, None)]            0         \n",
            "                                                                 \n",
            " embedding_8 (Embedding)     (None, None, 200)         417600    \n",
            "                                                                 \n",
            " bidirectional_16 (Bidirecti  (None, None, 256)        336896    \n",
            " onal)                                                           \n",
            "                                                                 \n",
            " bidirectional_17 (Bidirecti  (None, 256)              394240    \n",
            " onal)                                                           \n",
            "                                                                 \n",
            " dense_8 (Dense)             (None, 3)                 771       \n",
            "                                                                 \n",
            "=================================================================\n",
            "Total params: 1,149,507\n",
            "Trainable params: 1,149,507\n",
            "Non-trainable params: 0\n",
            "_________________________________________________________________\n",
            "Epoch 1/32\n",
            "84/84 [==============================] - ETA: 0s - loss: 0.9797 - acc: 0.5022\n",
            "Epoch 1: val_acc improved from -inf to 0.57513, saving model to base_model_ckpt_train_zero_embed_true_05_05_2022\n",
            "84/84 [==============================] - 7s 34ms/step - loss: 0.9797 - acc: 0.5022 - val_loss: 0.8814 - val_acc: 0.5751\n",
            "Epoch 2/32\n",
            "81/84 [===========================>..] - ETA: 0s - loss: 0.5794 - acc: 0.7747\n",
            "Epoch 2: val_acc improved from 0.57513 to 0.62694, saving model to base_model_ckpt_train_zero_embed_true_05_05_2022\n",
            "84/84 [==============================] - 1s 17ms/step - loss: 0.5796 - acc: 0.7753 - val_loss: 0.8927 - val_acc: 0.6269\n",
            "Epoch 3/32\n",
            "81/84 [===========================>..] - ETA: 0s - loss: 0.3295 - acc: 0.8873\n",
            "Epoch 3: val_acc improved from 0.62694 to 0.63731, saving model to base_model_ckpt_train_zero_embed_true_05_05_2022\n",
            "84/84 [==============================] - 1s 17ms/step - loss: 0.3355 - acc: 0.8839 - val_loss: 1.0239 - val_acc: 0.6373\n",
            "Epoch 4/32\n",
            "81/84 [===========================>..] - ETA: 0s - loss: 0.2411 - acc: 0.9198\n",
            "Epoch 4: val_acc did not improve from 0.63731\n",
            "84/84 [==============================] - 1s 16ms/step - loss: 0.2385 - acc: 0.9204 - val_loss: 1.1825 - val_acc: 0.6062\n",
            "Epoch 5/32\n",
            "81/84 [===========================>..] - ETA: 0s - loss: 0.1993 - acc: 0.9321\n",
            "Epoch 5: val_acc did not improve from 0.63731\n",
            "84/84 [==============================] - 1s 16ms/step - loss: 0.2026 - acc: 0.9315 - val_loss: 1.0677 - val_acc: 0.6062\n",
            "Epoch 6/32\n",
            "84/84 [==============================] - ETA: 0s - loss: 0.1799 - acc: 0.9368\n",
            "Epoch 6: val_acc did not improve from 0.63731\n",
            "84/84 [==============================] - 1s 16ms/step - loss: 0.1799 - acc: 0.9368 - val_loss: 1.1974 - val_acc: 0.6062\n",
            "Epoch 7/32\n",
            "81/84 [===========================>..] - ETA: 0s - loss: 0.1594 - acc: 0.9383\n",
            "Epoch 7: val_acc did not improve from 0.63731\n",
            "84/84 [==============================] - 1s 16ms/step - loss: 0.1616 - acc: 0.9375 - val_loss: 1.2473 - val_acc: 0.6062\n",
            "Epoch 8/32\n",
            "81/84 [===========================>..] - ETA: 0s - loss: 0.1646 - acc: 0.9344\n",
            "Epoch 8: val_acc did not improve from 0.63731\n",
            "84/84 [==============================] - 1s 17ms/step - loss: 0.1636 - acc: 0.9345 - val_loss: 1.3913 - val_acc: 0.5803\n",
            "Epoch 9/32\n",
            "82/84 [============================>.] - ETA: 0s - loss: 0.1510 - acc: 0.9390\n",
            "Epoch 9: val_acc did not improve from 0.63731\n",
            "84/84 [==============================] - 1s 17ms/step - loss: 0.1501 - acc: 0.9390 - val_loss: 1.3118 - val_acc: 0.5751\n",
            "Epoch 10/32\n",
            "83/84 [============================>.] - ETA: 0s - loss: 0.1316 - acc: 0.9458\n",
            "Epoch 10: val_acc did not improve from 0.63731\n",
            "84/84 [==============================] - 1s 17ms/step - loss: 0.1354 - acc: 0.9442 - val_loss: 1.3376 - val_acc: 0.5907\n",
            "Epoch 11/32\n",
            "81/84 [===========================>..] - ETA: 0s - loss: 0.1381 - acc: 0.9437\n",
            "Epoch 11: val_acc did not improve from 0.63731\n",
            "84/84 [==============================] - 1s 16ms/step - loss: 0.1357 - acc: 0.9457 - val_loss: 1.4460 - val_acc: 0.5648\n",
            "Epoch 12/32\n",
            "81/84 [===========================>..] - ETA: 0s - loss: 0.1315 - acc: 0.9460\n",
            "Epoch 12: val_acc did not improve from 0.63731\n",
            "84/84 [==============================] - 1s 16ms/step - loss: 0.1369 - acc: 0.9442 - val_loss: 1.3809 - val_acc: 0.6166\n",
            "Epoch 12: early stopping\n"
          ]
        },
        {
          "output_type": "execute_result",
          "data": {
            "text/plain": [
              "<keras.callbacks.History at 0x7ff810525310>"
            ]
          },
          "metadata": {},
          "execution_count": 49
        }
      ]
    },
    {
      "cell_type": "markdown",
      "source": [
        "# Save LSTM models to file"
      ],
      "metadata": {
        "id": "5J9h3vgHxOrE"
      }
    },
    {
      "cell_type": "markdown",
      "source": [
        "## LSTM Results\n",
        "|                     |           Train Embedding = False          |           Train Embedding = True          |\n",
        "|---------------------|:------------------------------------------:|:-----------------------------------------:|\n",
        "|                     | file = \"base_model_ckpt_train_embed_false\" | file = \"base_model_ckpt_train_embed_true\" |\n",
        "| Best Train Accuracy |             0.6584 (12/21, es)             |             0.8842 (10/19, es)            |\n",
        "| Best Valid Accuracy |             0.6719 (12/21, es)             |             0.7031 (10/19, es)            |"
      ],
      "metadata": {
        "id": "gJy2jEyhMCg1"
      }
    },
    {
      "cell_type": "code",
      "source": [
        "model_vanilla2.save(\"lstm_train_embedding_false_05_05_2022.h5\")\n",
        "model_vanilla_train_true2.save(\"lstm_train_embedding_true_05_05_2022.h5\")"
      ],
      "metadata": {
        "id": "M-fMZQ78Yry3"
      },
      "execution_count": null,
      "outputs": []
    },
    {
      "cell_type": "code",
      "source": [
        "lstm_twitch_no2.save(\"lstm_train_twitch_embedding_false_05_05_2022.h5\")\n",
        "lstm_twitch_yes2.save(\"lstm_train_twitch_embedding_true_05_05_2022.h5\")"
      ],
      "metadata": {
        "id": "yxKa86GRIhbu"
      },
      "execution_count": null,
      "outputs": []
    },
    {
      "cell_type": "code",
      "source": [
        "lstm_zero_false2.save(\"lstm_zero_false_05_05_2022.h5\")\n",
        "lstm_zero_true.save(\"lstm_zero_true_05_05_2022.h5\")"
      ],
      "metadata": {
        "id": "lEoUCIzP59wW"
      },
      "execution_count": null,
      "outputs": []
    },
    {
      "cell_type": "code",
      "source": [
        "# Load in the files if they exist\n",
        "model_vanilla2 = load_model(\"lstm_train_embedding_false_05_05_2022.h5\")\n",
        "model_vanilla_train_true2 = load_model(\"lstm_train_embedding_true_05_05_2022.h5\")\n",
        "lstm_twitch_no2 = load_model(\"lstm_train_twitch_embedding_false_05_05_2022.h5\")\n",
        "lstm_twitch_yes2 = load_model(\"lstm_train_twitch_embedding_true_05_05_2022.h5\")\n",
        "lstm_zero_false2 = load_model(\"lstm_zero_false_05_05_2022.h5\")\n",
        "lstm_zero_true2 = load_model(\"lstm_zero_true_05_05_2022.h5\")"
      ],
      "metadata": {
        "id": "DNyQiDkSxRqY"
      },
      "execution_count": null,
      "outputs": []
    },
    {
      "cell_type": "markdown",
      "source": [
        "# GRU"
      ],
      "metadata": {
        "id": "qdy4mY5MP-hL"
      }
    },
    {
      "cell_type": "markdown",
      "source": [
        "### GRU, training embedding is false"
      ],
      "metadata": {
        "id": "2esm4mB2QhNQ"
      }
    },
    {
      "cell_type": "code",
      "source": [
        "TRAINABLE = False\n",
        "CKPT = set_up_checkpoint(\"gru_ckpt_train_embed_false_05_05_2022\")\n",
        "embedding_layer = Embedding(NUM_TOKENS,  EMBEDDING_DIMENSION, \n",
        "                            embeddings_initializer= Constant(embedding_matrix), \n",
        "                            trainable = TRAINABLE)\n",
        "int_sequences_input = Input(shape=(None,), dtype=\"int64\")\n",
        "embedded_sequences = embedding_layer(int_sequences_input)\n",
        "x_gru = Bidirectional(GRU(NODES, return_sequences=True))(embedded_sequences)\n",
        "x_gru = Bidirectional(GRU(NODES))(x_gru)\n",
        "preds_gru = layers.Dense(len(classes), activation=\"softmax\")(x_gru)\n",
        "model_gru2 = Model(int_sequences_input, preds_gru)\n",
        "model_gru2.compile(loss = OBJECTIVE_FUNC, optimizer = OPTIMIZER, \n",
        "                      metrics = METRICS)\n",
        "model_gru2.summary()\n",
        "model_gru2.fit(x_train_message_vec, y_train_vec, \n",
        "                  batch_size = BATCH_SIZE, \n",
        "                  epochs = EPOCHS,\n",
        "                  validation_data = (x_valid_message_vec, y_valid_vec), \n",
        "                  callbacks = [EARLY_STOP, CKPT])"
      ],
      "metadata": {
        "colab": {
          "base_uri": "https://localhost:8080/"
        },
        "id": "7d9hpGE2Q6KU",
        "outputId": "05c91f00-df4a-42e2-baeb-db0f0ace2ea3"
      },
      "execution_count": null,
      "outputs": [
        {
          "output_type": "stream",
          "name": "stdout",
          "text": [
            "Model: \"model_9\"\n",
            "_________________________________________________________________\n",
            " Layer (type)                Output Shape              Param #   \n",
            "=================================================================\n",
            " input_10 (InputLayer)       [(None, None)]            0         \n",
            "                                                                 \n",
            " embedding_9 (Embedding)     (None, None, 200)         417600    \n",
            "                                                                 \n",
            " bidirectional_18 (Bidirecti  (None, None, 256)        253440    \n",
            " onal)                                                           \n",
            "                                                                 \n",
            " bidirectional_19 (Bidirecti  (None, 256)              296448    \n",
            " onal)                                                           \n",
            "                                                                 \n",
            " dense_9 (Dense)             (None, 3)                 771       \n",
            "                                                                 \n",
            "=================================================================\n",
            "Total params: 968,259\n",
            "Trainable params: 550,659\n",
            "Non-trainable params: 417,600\n",
            "_________________________________________________________________\n",
            "Epoch 1/32\n",
            "81/84 [===========================>..] - ETA: 0s - loss: 0.9531 - acc: 0.5201\n",
            "Epoch 1: val_acc improved from -inf to 0.54922, saving model to gru_ckpt_train_embed_false_05_05_2022\n",
            "84/84 [==============================] - 7s 33ms/step - loss: 0.9442 - acc: 0.5268 - val_loss: 0.8788 - val_acc: 0.5492\n",
            "Epoch 2/32\n",
            "84/84 [==============================] - ETA: 0s - loss: 0.8247 - acc: 0.6198\n",
            "Epoch 2: val_acc improved from 0.54922 to 0.61140, saving model to gru_ckpt_train_embed_false_05_05_2022\n",
            "84/84 [==============================] - 2s 18ms/step - loss: 0.8247 - acc: 0.6198 - val_loss: 0.8833 - val_acc: 0.6114\n",
            "Epoch 3/32\n",
            "84/84 [==============================] - ETA: 0s - loss: 0.7660 - acc: 0.6711\n",
            "Epoch 3: val_acc did not improve from 0.61140\n",
            "84/84 [==============================] - 1s 17ms/step - loss: 0.7660 - acc: 0.6711 - val_loss: 0.8739 - val_acc: 0.6114\n",
            "Epoch 4/32\n",
            "81/84 [===========================>..] - ETA: 0s - loss: 0.6727 - acc: 0.7276\n",
            "Epoch 4: val_acc did not improve from 0.61140\n",
            "84/84 [==============================] - 1s 18ms/step - loss: 0.6650 - acc: 0.7329 - val_loss: 0.9438 - val_acc: 0.5907\n",
            "Epoch 5/32\n",
            "81/84 [===========================>..] - ETA: 0s - loss: 0.6234 - acc: 0.7461\n",
            "Epoch 5: val_acc improved from 0.61140 to 0.61658, saving model to gru_ckpt_train_embed_false_05_05_2022\n",
            "84/84 [==============================] - 2s 18ms/step - loss: 0.6209 - acc: 0.7463 - val_loss: 0.9175 - val_acc: 0.6166\n",
            "Epoch 6/32\n",
            "84/84 [==============================] - ETA: 0s - loss: 0.5662 - acc: 0.7686\n",
            "Epoch 6: val_acc improved from 0.61658 to 0.63731, saving model to gru_ckpt_train_embed_false_05_05_2022\n",
            "84/84 [==============================] - 2s 18ms/step - loss: 0.5662 - acc: 0.7686 - val_loss: 0.8813 - val_acc: 0.6373\n",
            "Epoch 7/32\n",
            "81/84 [===========================>..] - ETA: 0s - loss: 0.5180 - acc: 0.7894\n",
            "Epoch 7: val_acc did not improve from 0.63731\n",
            "84/84 [==============================] - 1s 17ms/step - loss: 0.5151 - acc: 0.7917 - val_loss: 0.9530 - val_acc: 0.6373\n",
            "Epoch 8/32\n",
            "84/84 [==============================] - ETA: 0s - loss: 0.4618 - acc: 0.8162\n",
            "Epoch 8: val_acc did not improve from 0.63731\n",
            "84/84 [==============================] - 1s 17ms/step - loss: 0.4618 - acc: 0.8162 - val_loss: 1.0172 - val_acc: 0.6010\n",
            "Epoch 9/32\n",
            "82/84 [============================>.] - ETA: 0s - loss: 0.4325 - acc: 0.8354\n",
            "Epoch 9: val_acc did not improve from 0.63731\n",
            "84/84 [==============================] - 1s 17ms/step - loss: 0.4383 - acc: 0.8318 - val_loss: 1.0212 - val_acc: 0.6218\n",
            "Epoch 10/32\n",
            "82/84 [============================>.] - ETA: 0s - loss: 0.4019 - acc: 0.8377\n",
            "Epoch 10: val_acc did not improve from 0.63731\n",
            "84/84 [==============================] - 1s 17ms/step - loss: 0.4006 - acc: 0.8363 - val_loss: 1.1017 - val_acc: 0.6114\n",
            "Epoch 11/32\n",
            "84/84 [==============================] - ETA: 0s - loss: 0.3884 - acc: 0.8408\n",
            "Epoch 11: val_acc did not improve from 0.63731\n",
            "84/84 [==============================] - 1s 17ms/step - loss: 0.3884 - acc: 0.8408 - val_loss: 1.1606 - val_acc: 0.5907\n",
            "Epoch 12/32\n",
            "81/84 [===========================>..] - ETA: 0s - loss: 0.3824 - acc: 0.8395\n",
            "Epoch 12: val_acc improved from 0.63731 to 0.64249, saving model to gru_ckpt_train_embed_false_05_05_2022\n",
            "84/84 [==============================] - 2s 18ms/step - loss: 0.3857 - acc: 0.8400 - val_loss: 1.0991 - val_acc: 0.6425\n",
            "Epoch 13/32\n",
            "82/84 [============================>.] - ETA: 0s - loss: 0.3602 - acc: 0.8506\n",
            "Epoch 13: val_acc did not improve from 0.64249\n",
            "84/84 [==============================] - 1s 17ms/step - loss: 0.3580 - acc: 0.8519 - val_loss: 1.2134 - val_acc: 0.6218\n",
            "Epoch 14/32\n",
            "81/84 [===========================>..] - ETA: 0s - loss: 0.3377 - acc: 0.8611\n",
            "Epoch 14: val_acc did not improve from 0.64249\n",
            "84/84 [==============================] - 1s 17ms/step - loss: 0.3422 - acc: 0.8586 - val_loss: 1.2530 - val_acc: 0.5959\n",
            "Epoch 15/32\n",
            "81/84 [===========================>..] - ETA: 0s - loss: 0.3281 - acc: 0.8665\n",
            "Epoch 15: val_acc did not improve from 0.64249\n",
            "84/84 [==============================] - 1s 17ms/step - loss: 0.3293 - acc: 0.8661 - val_loss: 1.2668 - val_acc: 0.5751\n",
            "Epoch 16/32\n",
            "81/84 [===========================>..] - ETA: 0s - loss: 0.3255 - acc: 0.8565\n",
            "Epoch 16: val_acc did not improve from 0.64249\n",
            "84/84 [==============================] - 1s 17ms/step - loss: 0.3264 - acc: 0.8564 - val_loss: 1.3133 - val_acc: 0.6062\n",
            "Epoch 17/32\n",
            "84/84 [==============================] - ETA: 0s - loss: 0.3078 - acc: 0.8705\n",
            "Epoch 17: val_acc did not improve from 0.64249\n",
            "84/84 [==============================] - 2s 18ms/step - loss: 0.3078 - acc: 0.8705 - val_loss: 1.2817 - val_acc: 0.6218\n",
            "Epoch 18/32\n",
            "81/84 [===========================>..] - ETA: 0s - loss: 0.3298 - acc: 0.8681\n",
            "Epoch 18: val_acc did not improve from 0.64249\n",
            "84/84 [==============================] - 1s 17ms/step - loss: 0.3357 - acc: 0.8668 - val_loss: 1.2702 - val_acc: 0.5907\n",
            "Epoch 19/32\n",
            "81/84 [===========================>..] - ETA: 0s - loss: 0.3030 - acc: 0.8735\n",
            "Epoch 19: val_acc did not improve from 0.64249\n",
            "84/84 [==============================] - 1s 17ms/step - loss: 0.3058 - acc: 0.8705 - val_loss: 1.2587 - val_acc: 0.6062\n",
            "Epoch 20/32\n",
            "82/84 [============================>.] - ETA: 0s - loss: 0.3035 - acc: 0.8788\n",
            "Epoch 20: val_acc did not improve from 0.64249\n",
            "84/84 [==============================] - 1s 17ms/step - loss: 0.3037 - acc: 0.8780 - val_loss: 1.3367 - val_acc: 0.6062\n",
            "Epoch 21/32\n",
            "84/84 [==============================] - ETA: 0s - loss: 0.3003 - acc: 0.8653\n",
            "Epoch 21: val_acc did not improve from 0.64249\n",
            "84/84 [==============================] - 1s 17ms/step - loss: 0.3003 - acc: 0.8653 - val_loss: 1.3406 - val_acc: 0.5855\n",
            "Epoch 21: early stopping\n"
          ]
        },
        {
          "output_type": "execute_result",
          "data": {
            "text/plain": [
              "<keras.callbacks.History at 0x7ff7d92c7f10>"
            ]
          },
          "metadata": {},
          "execution_count": 53
        }
      ]
    },
    {
      "cell_type": "markdown",
      "source": [
        "### GRU, training TWITCH embedding is false"
      ],
      "metadata": {
        "id": "HLLvXR4VI2xF"
      }
    },
    {
      "cell_type": "code",
      "source": [
        "TRAINABLE = False\n",
        "CKPT = set_up_checkpoint(\"gru_ckpt_train_twitch_embed_false_05_05_2022\")\n",
        "embedding_layer = Embedding(NUM_TOKENS,  EMBEDDING_DIMENSION, \n",
        "                            embeddings_initializer= Constant(twitch_embedding_matrix), \n",
        "                            trainable = TRAINABLE)\n",
        "int_sequences_input = Input(shape=(None,), dtype=\"int64\")\n",
        "embedded_sequences = embedding_layer(int_sequences_input)\n",
        "x_gru = Bidirectional(GRU(NODES, return_sequences=True))(embedded_sequences)\n",
        "x_gru = Bidirectional(GRU(NODES))(x_gru)\n",
        "preds_gru_tw = layers.Dense(len(classes), activation=\"softmax\")(x_gru)\n",
        "model_gru_tw2 = Model(int_sequences_input, preds_gru_tw)\n",
        "model_gru_tw2.compile(loss = OBJECTIVE_FUNC, optimizer = OPTIMIZER, \n",
        "                      metrics = METRICS)\n",
        "model_gru_tw2.summary()\n",
        "model_gru_tw2.fit(x_train_message_vec, y_train_vec, \n",
        "                  batch_size = BATCH_SIZE, \n",
        "                  epochs = EPOCHS,\n",
        "                  validation_data = (x_valid_message_vec, y_valid_vec), \n",
        "                  callbacks = [EARLY_STOP, CKPT])"
      ],
      "metadata": {
        "colab": {
          "base_uri": "https://localhost:8080/"
        },
        "outputId": "35133c8e-373e-4bf6-d17d-68e0f1ee1003",
        "id": "rRKsDB9zI2xF"
      },
      "execution_count": null,
      "outputs": [
        {
          "output_type": "stream",
          "name": "stdout",
          "text": [
            "Model: \"model_10\"\n",
            "_________________________________________________________________\n",
            " Layer (type)                Output Shape              Param #   \n",
            "=================================================================\n",
            " input_11 (InputLayer)       [(None, None)]            0         \n",
            "                                                                 \n",
            " embedding_10 (Embedding)    (None, None, 200)         417600    \n",
            "                                                                 \n",
            " bidirectional_20 (Bidirecti  (None, None, 256)        253440    \n",
            " onal)                                                           \n",
            "                                                                 \n",
            " bidirectional_21 (Bidirecti  (None, 256)              296448    \n",
            " onal)                                                           \n",
            "                                                                 \n",
            " dense_10 (Dense)            (None, 3)                 771       \n",
            "                                                                 \n",
            "=================================================================\n",
            "Total params: 968,259\n",
            "Trainable params: 550,659\n",
            "Non-trainable params: 417,600\n",
            "_________________________________________________________________\n",
            "Epoch 1/32\n",
            "82/84 [============================>.] - ETA: 0s - loss: 0.9029 - acc: 0.5732\n",
            "Epoch 1: val_acc improved from -inf to 0.58549, saving model to gru_ckpt_train_twitch_embed_false_05_05_2022\n",
            "84/84 [==============================] - 7s 33ms/step - loss: 0.9038 - acc: 0.5744 - val_loss: 0.8763 - val_acc: 0.5855\n",
            "Epoch 2/32\n",
            "81/84 [===========================>..] - ETA: 0s - loss: 0.6674 - acc: 0.7369\n",
            "Epoch 2: val_acc improved from 0.58549 to 0.61140, saving model to gru_ckpt_train_twitch_embed_false_05_05_2022\n",
            "84/84 [==============================] - 2s 18ms/step - loss: 0.6665 - acc: 0.7351 - val_loss: 0.8001 - val_acc: 0.6114\n",
            "Epoch 3/32\n",
            "84/84 [==============================] - ETA: 0s - loss: 0.5610 - acc: 0.7679\n",
            "Epoch 3: val_acc improved from 0.61140 to 0.64767, saving model to gru_ckpt_train_twitch_embed_false_05_05_2022\n",
            "84/84 [==============================] - 2s 19ms/step - loss: 0.5610 - acc: 0.7679 - val_loss: 0.8353 - val_acc: 0.6477\n",
            "Epoch 4/32\n",
            "81/84 [===========================>..] - ETA: 0s - loss: 0.4320 - acc: 0.8333\n",
            "Epoch 4: val_acc did not improve from 0.64767\n",
            "84/84 [==============================] - 1s 17ms/step - loss: 0.4316 - acc: 0.8333 - val_loss: 0.9667 - val_acc: 0.6269\n",
            "Epoch 5/32\n",
            "84/84 [==============================] - ETA: 0s - loss: 0.3889 - acc: 0.8512\n",
            "Epoch 5: val_acc did not improve from 0.64767\n",
            "84/84 [==============================] - 1s 17ms/step - loss: 0.3889 - acc: 0.8512 - val_loss: 0.9284 - val_acc: 0.6321\n",
            "Epoch 6/32\n",
            "81/84 [===========================>..] - ETA: 0s - loss: 0.3193 - acc: 0.8866\n",
            "Epoch 6: val_acc did not improve from 0.64767\n",
            "84/84 [==============================] - 1s 18ms/step - loss: 0.3258 - acc: 0.8824 - val_loss: 0.9902 - val_acc: 0.6425\n",
            "Epoch 7/32\n",
            "84/84 [==============================] - ETA: 0s - loss: 0.2893 - acc: 0.8951\n",
            "Epoch 7: val_acc did not improve from 0.64767\n",
            "84/84 [==============================] - 2s 18ms/step - loss: 0.2893 - acc: 0.8951 - val_loss: 1.0912 - val_acc: 0.6425\n",
            "Epoch 8/32\n",
            "82/84 [============================>.] - ETA: 0s - loss: 0.2593 - acc: 0.9024\n",
            "Epoch 8: val_acc did not improve from 0.64767\n",
            "84/84 [==============================] - 1s 17ms/step - loss: 0.2618 - acc: 0.9018 - val_loss: 1.1468 - val_acc: 0.6269\n",
            "Epoch 9/32\n",
            "81/84 [===========================>..] - ETA: 0s - loss: 0.2576 - acc: 0.9028\n",
            "Epoch 9: val_acc improved from 0.64767 to 0.65803, saving model to gru_ckpt_train_twitch_embed_false_05_05_2022\n",
            "84/84 [==============================] - 1s 18ms/step - loss: 0.2578 - acc: 0.9025 - val_loss: 1.1119 - val_acc: 0.6580\n",
            "Epoch 10/32\n",
            "83/84 [============================>.] - ETA: 0s - loss: 0.2474 - acc: 0.9044\n",
            "Epoch 10: val_acc did not improve from 0.65803\n",
            "84/84 [==============================] - 1s 17ms/step - loss: 0.2457 - acc: 0.9055 - val_loss: 1.1694 - val_acc: 0.6425\n",
            "Epoch 11/32\n",
            "84/84 [==============================] - ETA: 0s - loss: 0.2328 - acc: 0.9107\n",
            "Epoch 11: val_acc did not improve from 0.65803\n",
            "84/84 [==============================] - 1s 17ms/step - loss: 0.2328 - acc: 0.9107 - val_loss: 1.1477 - val_acc: 0.6425\n",
            "Epoch 12/32\n",
            "83/84 [============================>.] - ETA: 0s - loss: 0.2258 - acc: 0.9081\n",
            "Epoch 12: val_acc did not improve from 0.65803\n",
            "84/84 [==============================] - 1s 17ms/step - loss: 0.2256 - acc: 0.9085 - val_loss: 1.1659 - val_acc: 0.6477\n",
            "Epoch 13/32\n",
            "84/84 [==============================] - ETA: 0s - loss: 0.2108 - acc: 0.9182\n",
            "Epoch 13: val_acc did not improve from 0.65803\n",
            "84/84 [==============================] - 1s 17ms/step - loss: 0.2108 - acc: 0.9182 - val_loss: 1.2172 - val_acc: 0.6321\n",
            "Epoch 14/32\n",
            "81/84 [===========================>..] - ETA: 0s - loss: 0.1944 - acc: 0.9244\n",
            "Epoch 14: val_acc did not improve from 0.65803\n",
            "84/84 [==============================] - 1s 17ms/step - loss: 0.2006 - acc: 0.9219 - val_loss: 1.1550 - val_acc: 0.6580\n",
            "Epoch 15/32\n",
            "81/84 [===========================>..] - ETA: 0s - loss: 0.1936 - acc: 0.9205\n",
            "Epoch 15: val_acc improved from 0.65803 to 0.67358, saving model to gru_ckpt_train_twitch_embed_false_05_05_2022\n",
            "84/84 [==============================] - 2s 18ms/step - loss: 0.1982 - acc: 0.9196 - val_loss: 1.2021 - val_acc: 0.6736\n",
            "Epoch 16/32\n",
            "84/84 [==============================] - ETA: 0s - loss: 0.1919 - acc: 0.9226\n",
            "Epoch 16: val_acc did not improve from 0.67358\n",
            "84/84 [==============================] - 1s 17ms/step - loss: 0.1919 - acc: 0.9226 - val_loss: 1.2898 - val_acc: 0.6373\n",
            "Epoch 17/32\n",
            "84/84 [==============================] - ETA: 0s - loss: 0.1844 - acc: 0.9249\n",
            "Epoch 17: val_acc did not improve from 0.67358\n",
            "84/84 [==============================] - 1s 18ms/step - loss: 0.1844 - acc: 0.9249 - val_loss: 1.3873 - val_acc: 0.6736\n",
            "Epoch 18/32\n",
            "82/84 [============================>.] - ETA: 0s - loss: 0.2011 - acc: 0.9184\n",
            "Epoch 18: val_acc did not improve from 0.67358\n",
            "84/84 [==============================] - 1s 17ms/step - loss: 0.2025 - acc: 0.9182 - val_loss: 1.3532 - val_acc: 0.6321\n",
            "Epoch 19/32\n",
            "83/84 [============================>.] - ETA: 0s - loss: 0.2047 - acc: 0.9157\n",
            "Epoch 19: val_acc did not improve from 0.67358\n",
            "84/84 [==============================] - 1s 17ms/step - loss: 0.2051 - acc: 0.9159 - val_loss: 1.2121 - val_acc: 0.6736\n",
            "Epoch 20/32\n",
            "82/84 [============================>.] - ETA: 0s - loss: 0.2390 - acc: 0.9017\n",
            "Epoch 20: val_acc did not improve from 0.67358\n",
            "84/84 [==============================] - 1s 17ms/step - loss: 0.2433 - acc: 0.9018 - val_loss: 1.3391 - val_acc: 0.6425\n",
            "Epoch 21/32\n",
            "82/84 [============================>.] - ETA: 0s - loss: 0.2087 - acc: 0.9200\n",
            "Epoch 21: val_acc improved from 0.67358 to 0.68912, saving model to gru_ckpt_train_twitch_embed_false_05_05_2022\n",
            "84/84 [==============================] - 2s 19ms/step - loss: 0.2074 - acc: 0.9204 - val_loss: 1.3024 - val_acc: 0.6891\n",
            "Epoch 22/32\n",
            "81/84 [===========================>..] - ETA: 0s - loss: 0.1909 - acc: 0.9221\n",
            "Epoch 22: val_acc did not improve from 0.68912\n",
            "84/84 [==============================] - 2s 18ms/step - loss: 0.1891 - acc: 0.9226 - val_loss: 1.3861 - val_acc: 0.6684\n",
            "Epoch 23/32\n",
            "84/84 [==============================] - ETA: 0s - loss: 0.1767 - acc: 0.9286\n",
            "Epoch 23: val_acc did not improve from 0.68912\n",
            "84/84 [==============================] - 1s 17ms/step - loss: 0.1767 - acc: 0.9286 - val_loss: 1.3507 - val_acc: 0.6373\n",
            "Epoch 24/32\n",
            "81/84 [===========================>..] - ETA: 0s - loss: 0.1765 - acc: 0.9236\n",
            "Epoch 24: val_acc did not improve from 0.68912\n",
            "84/84 [==============================] - 1s 17ms/step - loss: 0.1730 - acc: 0.9256 - val_loss: 1.3799 - val_acc: 0.6580\n",
            "Epoch 25/32\n",
            "81/84 [===========================>..] - ETA: 0s - loss: 0.1712 - acc: 0.9252\n",
            "Epoch 25: val_acc did not improve from 0.68912\n",
            "84/84 [==============================] - 1s 17ms/step - loss: 0.1709 - acc: 0.9263 - val_loss: 1.3866 - val_acc: 0.6632\n",
            "Epoch 26/32\n",
            "83/84 [============================>.] - ETA: 0s - loss: 0.1734 - acc: 0.9285\n",
            "Epoch 26: val_acc did not improve from 0.68912\n",
            "84/84 [==============================] - 1s 17ms/step - loss: 0.1717 - acc: 0.9293 - val_loss: 1.3889 - val_acc: 0.6788\n",
            "Epoch 27/32\n",
            "83/84 [============================>.] - ETA: 0s - loss: 0.1664 - acc: 0.9270\n",
            "Epoch 27: val_acc did not improve from 0.68912\n",
            "84/84 [==============================] - 1s 17ms/step - loss: 0.1656 - acc: 0.9278 - val_loss: 1.4979 - val_acc: 0.6788\n",
            "Epoch 28/32\n",
            "82/84 [============================>.] - ETA: 0s - loss: 0.1691 - acc: 0.9238\n",
            "Epoch 28: val_acc did not improve from 0.68912\n",
            "84/84 [==============================] - 2s 19ms/step - loss: 0.1667 - acc: 0.9256 - val_loss: 1.4197 - val_acc: 0.6839\n",
            "Epoch 29/32\n",
            "84/84 [==============================] - ETA: 0s - loss: 0.1611 - acc: 0.9256\n",
            "Epoch 29: val_acc did not improve from 0.68912\n",
            "84/84 [==============================] - 1s 18ms/step - loss: 0.1611 - acc: 0.9256 - val_loss: 1.3903 - val_acc: 0.6477\n",
            "Epoch 30/32\n",
            "83/84 [============================>.] - ETA: 0s - loss: 0.1675 - acc: 0.9202\n",
            "Epoch 30: val_acc did not improve from 0.68912\n",
            "84/84 [==============================] - 1s 18ms/step - loss: 0.1674 - acc: 0.9204 - val_loss: 1.5115 - val_acc: 0.6632\n",
            "Epoch 30: early stopping\n"
          ]
        },
        {
          "output_type": "execute_result",
          "data": {
            "text/plain": [
              "<keras.callbacks.History at 0x7ff7d6916590>"
            ]
          },
          "metadata": {},
          "execution_count": 54
        }
      ]
    },
    {
      "cell_type": "markdown",
      "source": [
        "### GRU, training embedding is true"
      ],
      "metadata": {
        "id": "39LtKSY6Qm8C"
      }
    },
    {
      "cell_type": "code",
      "source": [
        "TRAINABLE = True\n",
        "CKPT = set_up_checkpoint(\"gru_ckpt_train_embed_true_05_05_2022\")\n",
        "embedding_layer = Embedding(NUM_TOKENS,  EMBEDDING_DIMENSION, \n",
        "                            embeddings_initializer= Constant(embedding_matrix), \n",
        "                            trainable = TRAINABLE)\n",
        "int_sequences_input = Input(shape=(None,), dtype=\"int64\")\n",
        "embedded_sequences = embedding_layer(int_sequences_input)\n",
        "x_gru_train_true = Bidirectional(GRU(NODES, return_sequences=True))(embedded_sequences)\n",
        "x_gru_train_true = Bidirectional(GRU(NODES))(x_gru_train_true)\n",
        "preds_gru_train_true = layers.Dense(len(classes), activation=\"softmax\")(x_gru_train_true)\n",
        "model_gru_train_true2 = Model(int_sequences_input, preds_gru_train_true)\n",
        "model_gru_train_true2.compile(loss = OBJECTIVE_FUNC, optimizer = OPTIMIZER, \n",
        "                              metrics = METRICS)\n",
        "model_gru_train_true2.summary()\n",
        "model_gru_train_true2.fit(x_train_message_vec, y_train_vec, \n",
        "                  batch_size = BATCH_SIZE, \n",
        "                  epochs = EPOCHS,\n",
        "                  validation_data = (x_valid_message_vec, y_valid_vec), \n",
        "                  callbacks = [EARLY_STOP, CKPT])"
      ],
      "metadata": {
        "colab": {
          "base_uri": "https://localhost:8080/"
        },
        "id": "fl2RwhVSRgZ2",
        "outputId": "e8fe767a-14b4-4834-eceb-47b553254657"
      },
      "execution_count": null,
      "outputs": [
        {
          "output_type": "stream",
          "name": "stdout",
          "text": [
            "Model: \"model_11\"\n",
            "_________________________________________________________________\n",
            " Layer (type)                Output Shape              Param #   \n",
            "=================================================================\n",
            " input_12 (InputLayer)       [(None, None)]            0         \n",
            "                                                                 \n",
            " embedding_11 (Embedding)    (None, None, 200)         417600    \n",
            "                                                                 \n",
            " bidirectional_22 (Bidirecti  (None, None, 256)        253440    \n",
            " onal)                                                           \n",
            "                                                                 \n",
            " bidirectional_23 (Bidirecti  (None, 256)              296448    \n",
            " onal)                                                           \n",
            "                                                                 \n",
            " dense_11 (Dense)            (None, 3)                 771       \n",
            "                                                                 \n",
            "=================================================================\n",
            "Total params: 968,259\n",
            "Trainable params: 968,259\n",
            "Non-trainable params: 0\n",
            "_________________________________________________________________\n",
            "Epoch 1/32\n",
            "83/84 [============================>.] - ETA: 0s - loss: 0.9246 - acc: 0.5610\n",
            "Epoch 1: val_acc improved from -inf to 0.60622, saving model to gru_ckpt_train_embed_true_05_05_2022\n",
            "84/84 [==============================] - 7s 34ms/step - loss: 0.9249 - acc: 0.5595 - val_loss: 0.8705 - val_acc: 0.6062\n",
            "Epoch 2/32\n",
            "84/84 [==============================] - ETA: 0s - loss: 0.6977 - acc: 0.7054\n",
            "Epoch 2: val_acc improved from 0.60622 to 0.63212, saving model to gru_ckpt_train_embed_true_05_05_2022\n",
            "84/84 [==============================] - 2s 20ms/step - loss: 0.6977 - acc: 0.7054 - val_loss: 0.8643 - val_acc: 0.6321\n",
            "Epoch 3/32\n",
            "84/84 [==============================] - ETA: 0s - loss: 0.4825 - acc: 0.8162\n",
            "Epoch 3: val_acc improved from 0.63212 to 0.63731, saving model to gru_ckpt_train_embed_true_05_05_2022\n",
            "84/84 [==============================] - 2s 20ms/step - loss: 0.4825 - acc: 0.8162 - val_loss: 0.9543 - val_acc: 0.6373\n",
            "Epoch 4/32\n",
            "81/84 [===========================>..] - ETA: 0s - loss: 0.3284 - acc: 0.8843\n",
            "Epoch 4: val_acc improved from 0.63731 to 0.66321, saving model to gru_ckpt_train_embed_true_05_05_2022\n",
            "84/84 [==============================] - 2s 18ms/step - loss: 0.3265 - acc: 0.8862 - val_loss: 0.9918 - val_acc: 0.6632\n",
            "Epoch 5/32\n",
            "84/84 [==============================] - ETA: 0s - loss: 0.2250 - acc: 0.9129\n",
            "Epoch 5: val_acc did not improve from 0.66321\n",
            "84/84 [==============================] - 1s 18ms/step - loss: 0.2250 - acc: 0.9129 - val_loss: 1.1282 - val_acc: 0.6477\n",
            "Epoch 6/32\n",
            "81/84 [===========================>..] - ETA: 0s - loss: 0.1941 - acc: 0.9236\n",
            "Epoch 6: val_acc did not improve from 0.66321\n",
            "84/84 [==============================] - 1s 18ms/step - loss: 0.1973 - acc: 0.9234 - val_loss: 1.0939 - val_acc: 0.6373\n",
            "Epoch 7/32\n",
            "84/84 [==============================] - ETA: 0s - loss: 0.1653 - acc: 0.9390\n",
            "Epoch 7: val_acc improved from 0.66321 to 0.67876, saving model to gru_ckpt_train_embed_true_05_05_2022\n",
            "84/84 [==============================] - 2s 19ms/step - loss: 0.1653 - acc: 0.9390 - val_loss: 1.2077 - val_acc: 0.6788\n",
            "Epoch 8/32\n",
            "81/84 [===========================>..] - ETA: 0s - loss: 0.1480 - acc: 0.9406\n",
            "Epoch 8: val_acc did not improve from 0.67876\n",
            "84/84 [==============================] - 1s 18ms/step - loss: 0.1548 - acc: 0.9375 - val_loss: 1.1987 - val_acc: 0.6528\n",
            "Epoch 9/32\n",
            "83/84 [============================>.] - ETA: 0s - loss: 0.1359 - acc: 0.9428\n",
            "Epoch 9: val_acc did not improve from 0.67876\n",
            "84/84 [==============================] - 1s 18ms/step - loss: 0.1361 - acc: 0.9420 - val_loss: 1.2075 - val_acc: 0.6632\n",
            "Epoch 10/32\n",
            "84/84 [==============================] - ETA: 0s - loss: 0.1348 - acc: 0.9457\n",
            "Epoch 10: val_acc did not improve from 0.67876\n",
            "84/84 [==============================] - 1s 18ms/step - loss: 0.1348 - acc: 0.9457 - val_loss: 1.3478 - val_acc: 0.6425\n",
            "Epoch 11/32\n",
            "84/84 [==============================] - ETA: 0s - loss: 0.1329 - acc: 0.9457\n",
            "Epoch 11: val_acc did not improve from 0.67876\n",
            "84/84 [==============================] - 2s 18ms/step - loss: 0.1329 - acc: 0.9457 - val_loss: 1.2774 - val_acc: 0.6321\n",
            "Epoch 12/32\n",
            "82/84 [============================>.] - ETA: 0s - loss: 0.1190 - acc: 0.9474\n",
            "Epoch 12: val_acc did not improve from 0.67876\n",
            "84/84 [==============================] - 1s 18ms/step - loss: 0.1211 - acc: 0.9464 - val_loss: 1.2949 - val_acc: 0.6684\n",
            "Epoch 13/32\n",
            "83/84 [============================>.] - ETA: 0s - loss: 0.1142 - acc: 0.9473\n",
            "Epoch 13: val_acc did not improve from 0.67876\n",
            "84/84 [==============================] - 1s 18ms/step - loss: 0.1149 - acc: 0.9472 - val_loss: 1.4000 - val_acc: 0.6166\n",
            "Epoch 14/32\n",
            "83/84 [============================>.] - ETA: 0s - loss: 0.1139 - acc: 0.9503\n",
            "Epoch 14: val_acc did not improve from 0.67876\n",
            "84/84 [==============================] - 2s 18ms/step - loss: 0.1146 - acc: 0.9494 - val_loss: 1.3617 - val_acc: 0.6528\n",
            "Epoch 15/32\n",
            "84/84 [==============================] - ETA: 0s - loss: 0.1089 - acc: 0.9539\n",
            "Epoch 15: val_acc did not improve from 0.67876\n",
            "84/84 [==============================] - 1s 18ms/step - loss: 0.1089 - acc: 0.9539 - val_loss: 1.3474 - val_acc: 0.6425\n",
            "Epoch 16/32\n",
            "83/84 [============================>.] - ETA: 0s - loss: 0.1070 - acc: 0.9511\n",
            "Epoch 16: val_acc did not improve from 0.67876\n",
            "84/84 [==============================] - 2s 18ms/step - loss: 0.1063 - acc: 0.9516 - val_loss: 1.4531 - val_acc: 0.6477\n",
            "Epoch 16: early stopping\n"
          ]
        },
        {
          "output_type": "execute_result",
          "data": {
            "text/plain": [
              "<keras.callbacks.History at 0x7ff7d42884d0>"
            ]
          },
          "metadata": {},
          "execution_count": 55
        }
      ]
    },
    {
      "cell_type": "markdown",
      "source": [
        "### GRU, training TWITCH embedding is true"
      ],
      "metadata": {
        "id": "bAU4JfQEJF9e"
      }
    },
    {
      "cell_type": "code",
      "source": [
        "TRAINABLE = True\n",
        "CKPT = set_up_checkpoint(\"gru_ckpt_train_twitch_embed_true_05_05_2022\")\n",
        "embedding_layer = Embedding(NUM_TOKENS,  EMBEDDING_DIMENSION, \n",
        "                            embeddings_initializer= Constant(twitch_embedding_matrix), \n",
        "                            trainable = TRAINABLE)\n",
        "int_sequences_input = Input(shape=(None,), dtype=\"int64\")\n",
        "embedded_sequences = embedding_layer(int_sequences_input)\n",
        "x_gru_train_true = Bidirectional(GRU(NODES, return_sequences=True))(embedded_sequences)\n",
        "x_gru_train_true = Bidirectional(GRU(NODES))(x_gru_train_true)\n",
        "preds_gru_train_true_tw = layers.Dense(len(classes), activation=\"softmax\")(x_gru_train_true)\n",
        "model_gru_train_true_tw2 = Model(int_sequences_input, preds_gru_train_true_tw)\n",
        "model_gru_train_true_tw2.compile(loss = OBJECTIVE_FUNC, optimizer = OPTIMIZER, \n",
        "                              metrics = METRICS)\n",
        "model_gru_train_true_tw2.summary()\n",
        "model_gru_train_true_tw2.fit(x_train_message_vec, y_train_vec, \n",
        "                  batch_size = BATCH_SIZE, \n",
        "                  epochs = EPOCHS,\n",
        "                  validation_data = (x_valid_message_vec, y_valid_vec), \n",
        "                  callbacks = [EARLY_STOP, CKPT])"
      ],
      "metadata": {
        "colab": {
          "base_uri": "https://localhost:8080/"
        },
        "outputId": "4fa56aa5-e401-44ab-96c8-e10f9a7c43b3",
        "id": "yHZZ_ZSKJF9e"
      },
      "execution_count": null,
      "outputs": [
        {
          "output_type": "stream",
          "name": "stdout",
          "text": [
            "Model: \"model_12\"\n",
            "_________________________________________________________________\n",
            " Layer (type)                Output Shape              Param #   \n",
            "=================================================================\n",
            " input_13 (InputLayer)       [(None, None)]            0         \n",
            "                                                                 \n",
            " embedding_12 (Embedding)    (None, None, 200)         417600    \n",
            "                                                                 \n",
            " bidirectional_24 (Bidirecti  (None, None, 256)        253440    \n",
            " onal)                                                           \n",
            "                                                                 \n",
            " bidirectional_25 (Bidirecti  (None, 256)              296448    \n",
            " onal)                                                           \n",
            "                                                                 \n",
            " dense_12 (Dense)            (None, 3)                 771       \n",
            "                                                                 \n",
            "=================================================================\n",
            "Total params: 968,259\n",
            "Trainable params: 968,259\n",
            "Non-trainable params: 0\n",
            "_________________________________________________________________\n",
            "Epoch 1/32\n",
            "82/84 [============================>.] - ETA: 0s - loss: 0.8947 - acc: 0.5785\n",
            "Epoch 1: val_acc improved from -inf to 0.60622, saving model to gru_ckpt_train_twitch_embed_true_05_05_2022\n",
            "84/84 [==============================] - 8s 34ms/step - loss: 0.8954 - acc: 0.5774 - val_loss: 0.8417 - val_acc: 0.6062\n",
            "Epoch 2/32\n",
            "83/84 [============================>.] - ETA: 0s - loss: 0.6234 - acc: 0.7334\n",
            "Epoch 2: val_acc improved from 0.60622 to 0.62694, saving model to gru_ckpt_train_twitch_embed_true_05_05_2022\n",
            "84/84 [==============================] - 2s 20ms/step - loss: 0.6261 - acc: 0.7314 - val_loss: 0.7934 - val_acc: 0.6269\n",
            "Epoch 3/32\n",
            "83/84 [============================>.] - ETA: 0s - loss: 0.4538 - acc: 0.8328\n",
            "Epoch 3: val_acc improved from 0.62694 to 0.64767, saving model to gru_ckpt_train_twitch_embed_true_05_05_2022\n",
            "84/84 [==============================] - 2s 19ms/step - loss: 0.4584 - acc: 0.8304 - val_loss: 0.9573 - val_acc: 0.6477\n",
            "Epoch 4/32\n",
            "82/84 [============================>.] - ETA: 0s - loss: 0.3358 - acc: 0.8712\n",
            "Epoch 4: val_acc improved from 0.64767 to 0.65803, saving model to gru_ckpt_train_twitch_embed_true_05_05_2022\n",
            "84/84 [==============================] - 2s 19ms/step - loss: 0.3346 - acc: 0.8713 - val_loss: 0.9272 - val_acc: 0.6580\n",
            "Epoch 5/32\n",
            "84/84 [==============================] - ETA: 0s - loss: 0.2361 - acc: 0.9100\n",
            "Epoch 5: val_acc did not improve from 0.65803\n",
            "84/84 [==============================] - 2s 18ms/step - loss: 0.2361 - acc: 0.9100 - val_loss: 1.1916 - val_acc: 0.6373\n",
            "Epoch 6/32\n",
            "81/84 [===========================>..] - ETA: 0s - loss: 0.2151 - acc: 0.9244\n",
            "Epoch 6: val_acc did not improve from 0.65803\n",
            "84/84 [==============================] - 2s 18ms/step - loss: 0.2107 - acc: 0.9263 - val_loss: 1.0780 - val_acc: 0.6477\n",
            "Epoch 7/32\n",
            "81/84 [===========================>..] - ETA: 0s - loss: 0.1723 - acc: 0.9344\n",
            "Epoch 7: val_acc improved from 0.65803 to 0.67358, saving model to gru_ckpt_train_twitch_embed_true_05_05_2022\n",
            "84/84 [==============================] - 2s 19ms/step - loss: 0.1718 - acc: 0.9338 - val_loss: 1.2364 - val_acc: 0.6736\n",
            "Epoch 8/32\n",
            "83/84 [============================>.] - ETA: 0s - loss: 0.1491 - acc: 0.9360\n",
            "Epoch 8: val_acc did not improve from 0.67358\n",
            "84/84 [==============================] - 2s 18ms/step - loss: 0.1483 - acc: 0.9360 - val_loss: 1.2375 - val_acc: 0.6580\n",
            "Epoch 9/32\n",
            "81/84 [===========================>..] - ETA: 0s - loss: 0.1393 - acc: 0.9460\n",
            "Epoch 9: val_acc did not improve from 0.67358\n",
            "84/84 [==============================] - 1s 17ms/step - loss: 0.1429 - acc: 0.9457 - val_loss: 1.2356 - val_acc: 0.6269\n",
            "Epoch 10/32\n",
            "84/84 [==============================] - ETA: 0s - loss: 0.1246 - acc: 0.9524\n",
            "Epoch 10: val_acc did not improve from 0.67358\n",
            "84/84 [==============================] - 1s 17ms/step - loss: 0.1246 - acc: 0.9524 - val_loss: 1.3846 - val_acc: 0.6321\n",
            "Epoch 11/32\n",
            "82/84 [============================>.] - ETA: 0s - loss: 0.1235 - acc: 0.9459\n",
            "Epoch 11: val_acc did not improve from 0.67358\n",
            "84/84 [==============================] - 1s 18ms/step - loss: 0.1246 - acc: 0.9449 - val_loss: 1.4467 - val_acc: 0.5959\n",
            "Epoch 12/32\n",
            "84/84 [==============================] - ETA: 0s - loss: 0.1183 - acc: 0.9442\n",
            "Epoch 12: val_acc did not improve from 0.67358\n",
            "84/84 [==============================] - 1s 18ms/step - loss: 0.1183 - acc: 0.9442 - val_loss: 1.3654 - val_acc: 0.6321\n",
            "Epoch 13/32\n",
            "82/84 [============================>.] - ETA: 0s - loss: 0.1206 - acc: 0.9451\n",
            "Epoch 13: val_acc did not improve from 0.67358\n",
            "84/84 [==============================] - 1s 18ms/step - loss: 0.1208 - acc: 0.9449 - val_loss: 1.3033 - val_acc: 0.6269\n",
            "Epoch 14/32\n",
            "81/84 [===========================>..] - ETA: 0s - loss: 0.1118 - acc: 0.9545\n",
            "Epoch 14: val_acc did not improve from 0.67358\n",
            "84/84 [==============================] - 2s 19ms/step - loss: 0.1118 - acc: 0.9531 - val_loss: 1.4676 - val_acc: 0.6166\n",
            "Epoch 15/32\n",
            "81/84 [===========================>..] - ETA: 0s - loss: 0.1111 - acc: 0.9506\n",
            "Epoch 15: val_acc did not improve from 0.67358\n",
            "84/84 [==============================] - 1s 17ms/step - loss: 0.1120 - acc: 0.9494 - val_loss: 1.3904 - val_acc: 0.6425\n",
            "Epoch 16/32\n",
            "82/84 [============================>.] - ETA: 0s - loss: 0.1118 - acc: 0.9505\n",
            "Epoch 16: val_acc did not improve from 0.67358\n",
            "84/84 [==============================] - 1s 17ms/step - loss: 0.1110 - acc: 0.9501 - val_loss: 1.3874 - val_acc: 0.6373\n",
            "Epoch 16: early stopping\n"
          ]
        },
        {
          "output_type": "execute_result",
          "data": {
            "text/plain": [
              "<keras.callbacks.History at 0x7ff7cb4d21d0>"
            ]
          },
          "metadata": {},
          "execution_count": 56
        }
      ]
    },
    {
      "cell_type": "markdown",
      "source": [
        "### GRU, training ZERO embedding is false"
      ],
      "metadata": {
        "id": "Tm6uTXbe6aWF"
      }
    },
    {
      "cell_type": "code",
      "source": [
        "TRAINABLE = False\n",
        "CKPT = set_up_checkpoint(\"gru_ckpt_train_zero_embed_false_05_05_2022\")\n",
        "embedding_layer = Embedding(NUM_TOKENS,  EMBEDDING_DIMENSION, \n",
        "                            embeddings_initializer= Constant(zero_matrix), \n",
        "                            trainable = TRAINABLE)\n",
        "int_sequences_input = Input(shape=(None,), dtype=\"int64\")\n",
        "embedded_sequences = embedding_layer(int_sequences_input)\n",
        "x_gru_train_true = Bidirectional(GRU(NODES, return_sequences=True))(embedded_sequences)\n",
        "x_gru_train_true = Bidirectional(GRU(NODES))(x_gru_train_true)\n",
        "preds_gru_zero_false = layers.Dense(len(classes), activation=\"softmax\")(x_gru_train_true)\n",
        "gru_zero_false = Model(int_sequences_input, preds_gru_zero_false)\n",
        "gru_zero_false.compile(loss = OBJECTIVE_FUNC, optimizer = OPTIMIZER, \n",
        "                              metrics = METRICS)\n",
        "gru_zero_false.summary()\n",
        "gru_zero_false.fit(x_train_message_vec, y_train_vec, \n",
        "                  batch_size = BATCH_SIZE, \n",
        "                  epochs = EPOCHS,\n",
        "                  validation_data = (x_valid_message_vec, y_valid_vec), \n",
        "                  callbacks = [EARLY_STOP, CKPT])"
      ],
      "metadata": {
        "colab": {
          "base_uri": "https://localhost:8080/"
        },
        "outputId": "7ccd8f59-93f0-41ba-b5bc-16e44e7f469c",
        "id": "5arcYV-W6aWF"
      },
      "execution_count": null,
      "outputs": [
        {
          "output_type": "stream",
          "name": "stdout",
          "text": [
            "Model: \"model_13\"\n",
            "_________________________________________________________________\n",
            " Layer (type)                Output Shape              Param #   \n",
            "=================================================================\n",
            " input_14 (InputLayer)       [(None, None)]            0         \n",
            "                                                                 \n",
            " embedding_13 (Embedding)    (None, None, 200)         417600    \n",
            "                                                                 \n",
            " bidirectional_26 (Bidirecti  (None, None, 256)        253440    \n",
            " onal)                                                           \n",
            "                                                                 \n",
            " bidirectional_27 (Bidirecti  (None, 256)              296448    \n",
            " onal)                                                           \n",
            "                                                                 \n",
            " dense_13 (Dense)            (None, 3)                 771       \n",
            "                                                                 \n",
            "=================================================================\n",
            "Total params: 968,259\n",
            "Trainable params: 550,659\n",
            "Non-trainable params: 417,600\n",
            "_________________________________________________________________\n",
            "Epoch 1/32\n",
            "81/84 [===========================>..] - ETA: 0s - loss: 1.0679 - acc: 0.4090\n",
            "Epoch 1: val_acc improved from -inf to 0.39896, saving model to gru_ckpt_train_zero_embed_false_05_05_2022\n",
            "84/84 [==============================] - 7s 33ms/step - loss: 1.0698 - acc: 0.4048 - val_loss: 1.0675 - val_acc: 0.3990\n",
            "Epoch 2/32\n",
            "84/84 [==============================] - ETA: 0s - loss: 1.0668 - acc: 0.3854\n",
            "Epoch 2: val_acc did not improve from 0.39896\n",
            "84/84 [==============================] - 1s 17ms/step - loss: 1.0668 - acc: 0.3854 - val_loss: 1.0642 - val_acc: 0.3990\n",
            "Epoch 3/32\n",
            "84/84 [==============================] - ETA: 0s - loss: 1.0657 - acc: 0.3832\n",
            "Epoch 3: val_acc did not improve from 0.39896\n",
            "84/84 [==============================] - 1s 17ms/step - loss: 1.0657 - acc: 0.3832 - val_loss: 1.0636 - val_acc: 0.3990\n",
            "Epoch 4/32\n",
            "81/84 [===========================>..] - ETA: 0s - loss: 1.0636 - acc: 0.4035\n",
            "Epoch 4: val_acc did not improve from 0.39896\n",
            "84/84 [==============================] - 1s 17ms/step - loss: 1.0634 - acc: 0.4010 - val_loss: 1.0690 - val_acc: 0.3990\n",
            "Epoch 5/32\n",
            "82/84 [============================>.] - ETA: 0s - loss: 1.0650 - acc: 0.3941\n",
            "Epoch 5: val_acc did not improve from 0.39896\n",
            "84/84 [==============================] - 1s 18ms/step - loss: 1.0660 - acc: 0.3943 - val_loss: 1.0649 - val_acc: 0.3990\n",
            "Epoch 6/32\n",
            "81/84 [===========================>..] - ETA: 0s - loss: 1.0667 - acc: 0.3958\n",
            "Epoch 6: val_acc did not improve from 0.39896\n",
            "84/84 [==============================] - 1s 17ms/step - loss: 1.0644 - acc: 0.3996 - val_loss: 1.0637 - val_acc: 0.3990\n",
            "Epoch 7/32\n",
            "82/84 [============================>.] - ETA: 0s - loss: 1.0649 - acc: 0.4055\n",
            "Epoch 7: val_acc did not improve from 0.39896\n",
            "84/84 [==============================] - 1s 18ms/step - loss: 1.0650 - acc: 0.4010 - val_loss: 1.0635 - val_acc: 0.3990\n",
            "Epoch 8/32\n",
            "82/84 [============================>.] - ETA: 0s - loss: 1.0638 - acc: 0.3880\n",
            "Epoch 8: val_acc did not improve from 0.39896\n",
            "84/84 [==============================] - 1s 17ms/step - loss: 1.0631 - acc: 0.3876 - val_loss: 1.0634 - val_acc: 0.3990\n",
            "Epoch 9/32\n",
            "83/84 [============================>.] - ETA: 0s - loss: 1.0632 - acc: 0.3916\n",
            "Epoch 9: val_acc did not improve from 0.39896\n",
            "84/84 [==============================] - 1s 18ms/step - loss: 1.0625 - acc: 0.3929 - val_loss: 1.0632 - val_acc: 0.3990\n",
            "Epoch 10/32\n",
            "82/84 [============================>.] - ETA: 0s - loss: 1.0627 - acc: 0.4002\n",
            "Epoch 10: val_acc did not improve from 0.39896\n",
            "84/84 [==============================] - 1s 17ms/step - loss: 1.0624 - acc: 0.3996 - val_loss: 1.0647 - val_acc: 0.3886\n",
            "Epoch 10: early stopping\n"
          ]
        },
        {
          "output_type": "execute_result",
          "data": {
            "text/plain": [
              "<keras.callbacks.History at 0x7ff7c89b2d10>"
            ]
          },
          "metadata": {},
          "execution_count": 57
        }
      ]
    },
    {
      "cell_type": "markdown",
      "source": [
        "### GRU, training ZERO embedding is true"
      ],
      "metadata": {
        "id": "8sIkR_tF6a_4"
      }
    },
    {
      "cell_type": "code",
      "source": [
        "TRAINABLE = True\n",
        "CKPT = set_up_checkpoint(\"gru_ckpt_train_zero_embed_true_05_05_2022\")\n",
        "embedding_layer = Embedding(NUM_TOKENS,  EMBEDDING_DIMENSION, \n",
        "                            embeddings_initializer= Constant(zero_matrix), \n",
        "                            trainable = TRAINABLE)\n",
        "int_sequences_input = Input(shape=(None,), dtype=\"int64\")\n",
        "embedded_sequences = embedding_layer(int_sequences_input)\n",
        "x_gru_train_true = Bidirectional(GRU(NODES, return_sequences=True))(embedded_sequences)\n",
        "x_gru_train_true = Bidirectional(GRU(NODES))(x_gru_train_true)\n",
        "preds_gru_zero_true = layers.Dense(len(classes), activation=\"softmax\")(x_gru_train_true)\n",
        "gru_zero_true = Model(int_sequences_input, preds_gru_zero_true)\n",
        "gru_zero_true.compile(loss = OBJECTIVE_FUNC, optimizer = OPTIMIZER, \n",
        "                              metrics = METRICS)\n",
        "gru_zero_true.summary()\n",
        "gru_zero_true.fit(x_train_message_vec, y_train_vec, \n",
        "                  batch_size = BATCH_SIZE, \n",
        "                  epochs = EPOCHS,\n",
        "                  validation_data = (x_valid_message_vec, y_valid_vec), \n",
        "                  callbacks = [EARLY_STOP, CKPT])"
      ],
      "metadata": {
        "colab": {
          "base_uri": "https://localhost:8080/"
        },
        "outputId": "127d60ac-3574-4b54-c573-c7d9c010aee3",
        "id": "uoNAdSHw6a_5"
      },
      "execution_count": null,
      "outputs": [
        {
          "output_type": "stream",
          "name": "stdout",
          "text": [
            "Model: \"model_14\"\n",
            "_________________________________________________________________\n",
            " Layer (type)                Output Shape              Param #   \n",
            "=================================================================\n",
            " input_15 (InputLayer)       [(None, None)]            0         \n",
            "                                                                 \n",
            " embedding_14 (Embedding)    (None, None, 200)         417600    \n",
            "                                                                 \n",
            " bidirectional_28 (Bidirecti  (None, None, 256)        253440    \n",
            " onal)                                                           \n",
            "                                                                 \n",
            " bidirectional_29 (Bidirecti  (None, 256)              296448    \n",
            " onal)                                                           \n",
            "                                                                 \n",
            " dense_14 (Dense)            (None, 3)                 771       \n",
            "                                                                 \n",
            "=================================================================\n",
            "Total params: 968,259\n",
            "Trainable params: 968,259\n",
            "Non-trainable params: 0\n",
            "_________________________________________________________________\n",
            "Epoch 1/32\n",
            "81/84 [===========================>..] - ETA: 0s - loss: 0.9313 - acc: 0.5494\n",
            "Epoch 1: val_acc improved from -inf to 0.61658, saving model to gru_ckpt_train_zero_embed_true_05_05_2022\n",
            "84/84 [==============================] - 7s 34ms/step - loss: 0.9262 - acc: 0.5499 - val_loss: 0.8737 - val_acc: 0.6166\n",
            "Epoch 2/32\n",
            "81/84 [===========================>..] - ETA: 0s - loss: 0.5226 - acc: 0.8063\n",
            "Epoch 2: val_acc improved from 0.61658 to 0.62176, saving model to gru_ckpt_train_zero_embed_true_05_05_2022\n",
            "84/84 [==============================] - 2s 19ms/step - loss: 0.5253 - acc: 0.8021 - val_loss: 0.8939 - val_acc: 0.6218\n",
            "Epoch 3/32\n",
            "81/84 [===========================>..] - ETA: 0s - loss: 0.2857 - acc: 0.8997\n",
            "Epoch 3: val_acc did not improve from 0.62176\n",
            "84/84 [==============================] - 2s 18ms/step - loss: 0.2893 - acc: 0.8981 - val_loss: 1.0821 - val_acc: 0.6166\n",
            "Epoch 4/32\n",
            "82/84 [============================>.] - ETA: 0s - loss: 0.2071 - acc: 0.9268\n",
            "Epoch 4: val_acc did not improve from 0.62176\n",
            "84/84 [==============================] - 1s 18ms/step - loss: 0.2102 - acc: 0.9249 - val_loss: 1.2196 - val_acc: 0.6114\n",
            "Epoch 5/32\n",
            "83/84 [============================>.] - ETA: 0s - loss: 0.1856 - acc: 0.9262\n",
            "Epoch 5: val_acc did not improve from 0.62176\n",
            "84/84 [==============================] - 1s 17ms/step - loss: 0.1835 - acc: 0.9271 - val_loss: 1.3157 - val_acc: 0.5959\n",
            "Epoch 6/32\n",
            "84/84 [==============================] - ETA: 0s - loss: 0.1658 - acc: 0.9338\n",
            "Epoch 6: val_acc did not improve from 0.62176\n",
            "84/84 [==============================] - 1s 18ms/step - loss: 0.1658 - acc: 0.9338 - val_loss: 1.3853 - val_acc: 0.5751\n",
            "Epoch 7/32\n",
            "84/84 [==============================] - ETA: 0s - loss: 0.1596 - acc: 0.9315\n",
            "Epoch 7: val_acc did not improve from 0.62176\n",
            "84/84 [==============================] - 1s 17ms/step - loss: 0.1596 - acc: 0.9315 - val_loss: 1.3661 - val_acc: 0.5751\n",
            "Epoch 8/32\n",
            "84/84 [==============================] - ETA: 0s - loss: 0.1486 - acc: 0.9390\n",
            "Epoch 8: val_acc did not improve from 0.62176\n",
            "84/84 [==============================] - 2s 18ms/step - loss: 0.1486 - acc: 0.9390 - val_loss: 1.4895 - val_acc: 0.6010\n",
            "Epoch 9/32\n",
            "84/84 [==============================] - ETA: 0s - loss: 0.1387 - acc: 0.9464\n",
            "Epoch 9: val_acc did not improve from 0.62176\n",
            "84/84 [==============================] - 1s 18ms/step - loss: 0.1387 - acc: 0.9464 - val_loss: 1.4113 - val_acc: 0.5648\n",
            "Epoch 10/32\n",
            "84/84 [==============================] - ETA: 0s - loss: 0.1358 - acc: 0.9412\n",
            "Epoch 10: val_acc did not improve from 0.62176\n",
            "84/84 [==============================] - 2s 18ms/step - loss: 0.1358 - acc: 0.9412 - val_loss: 1.5155 - val_acc: 0.5855\n",
            "Epoch 11/32\n",
            "83/84 [============================>.] - ETA: 0s - loss: 0.1278 - acc: 0.9443\n",
            "Epoch 11: val_acc did not improve from 0.62176\n",
            "84/84 [==============================] - 1s 17ms/step - loss: 0.1277 - acc: 0.9442 - val_loss: 1.5328 - val_acc: 0.5751\n",
            "Epoch 11: early stopping\n"
          ]
        },
        {
          "output_type": "execute_result",
          "data": {
            "text/plain": [
              "<keras.callbacks.History at 0x7ff7c75135d0>"
            ]
          },
          "metadata": {},
          "execution_count": 58
        }
      ]
    },
    {
      "cell_type": "markdown",
      "source": [
        "# Save the GRU models to file"
      ],
      "metadata": {
        "id": "uBQzkDjNX-g_"
      }
    },
    {
      "cell_type": "code",
      "source": [
        "model_gru2.save(\"gru_train_embedding_false_05_05_2022.h5\")\n",
        "model_gru_train_true2.save(\"gru_train_embedding_true_05_05_2022.h5\")"
      ],
      "metadata": {
        "id": "OWaKPPE8YDqg"
      },
      "execution_count": null,
      "outputs": []
    },
    {
      "cell_type": "code",
      "source": [
        "model_gru_tw2.save(\"gru_train_twitch_embedding_false_05_05_2022.h5\")\n",
        "model_gru_train_true_tw2.save(\"gru_train_twitch_embedding_true_05_05_2022.h5\")"
      ],
      "metadata": {
        "id": "cf1hzACiJdBw"
      },
      "execution_count": null,
      "outputs": []
    },
    {
      "cell_type": "code",
      "source": [
        "gru_zero_false.save(\"gru_zero_false_05_05_2022.h5\")\n",
        "gru_zero_true.save(\"gru_zero_true_05_05_2022.h5\")"
      ],
      "metadata": {
        "id": "a5EhfctG6NwY"
      },
      "execution_count": null,
      "outputs": []
    },
    {
      "cell_type": "code",
      "source": [
        "# Load in the files if they exist\n",
        "model_gru2 = load_model(\"gru_train_embedding_false_05_05_2022.h5\")\n",
        "model_gru_train_true2 = load_model(\"gru_train_embedding_true_05_05_2022.h5\")\n",
        "model_gru_tw2 = load_model(\"gru_train_twitch_embedding_false_05_05_2022.h5\")\n",
        "model_gru_train_true_tw2 = load_model(\"gru_train_twitch_embedding_true_05_05_2022.h5\")\n",
        "gru_zero_false2 = load_model(\"gru_zero_false_05_05_2022.h5\")\n",
        "gru_zero_true2 = load_model(\"gru_zero_true_05_05_2022.h5\")"
      ],
      "metadata": {
        "id": "hhA3JTMoyM1F"
      },
      "execution_count": null,
      "outputs": []
    },
    {
      "cell_type": "markdown",
      "source": [
        "## GRU Results\n",
        "|                     |           Train Embedding = False          |           Train Embedding = True          |\n",
        "|---------------------|:------------------------------------------:|:-----------------------------------------:|\n",
        "|                     | file = \"gru_ckpt_train_embed_false\" | file = \"gru_ckpt_train_embed_true\" |\n",
        "| Best Train Accuracy |             0.6532 (11/20, es)             |             0.8510 (7/16, es)            |\n",
        "| Best Valid Accuracy |             0.6823 (11/20, es)             |             0.7292 (7/16, es)            |"
      ],
      "metadata": {
        "id": "fl7KVKLlQrBL"
      }
    },
    {
      "cell_type": "markdown",
      "source": [
        "# Predictions on the Test Set"
      ],
      "metadata": {
        "id": "dQVpwJ6ajSHc"
      }
    },
    {
      "cell_type": "code",
      "source": [
        "# Predictions from the models\n",
        "y_hat_lstm_train_false = model_vanilla2.predict(x_test_message_vec)\n",
        "y_hat_lstm_train_true = model_vanilla_train_true2.predict(x_test_message_vec)\n",
        "y_hat_gru_train_false = model_gru2.predict(x_test_message_vec)\n",
        "y_hat_gru_train_true = model_gru_train_true2.predict(x_test_message_vec)\n",
        "\n",
        "y_hat_lstm_twitch_train_false = lstm_twitch_no2.predict(x_test_message_vec)\n",
        "y_hat_lstm_twitch_train_true = lstm_twitch_yes2.predict(x_test_message_vec)\n",
        "y_hat_gru_twitch_train_false = model_gru_tw2.predict(x_test_message_vec)\n",
        "y_hat_gru_twitch_train_true = model_gru_train_true_tw2.predict(x_test_message_vec)\n",
        "\n",
        "y_hat_lstm_zero_false = lstm_zero_false2.predict(x_test_message_vec)\n",
        "y_hat_lstm_zero_true = lstm_zero_true.predict(x_test_message_vec)\n",
        "y_hat_gru_zero_false = gru_zero_false.predict(x_test_message_vec)\n",
        "y_hat_gru_zero_true = gru_zero_true.predict(x_test_message_vec)"
      ],
      "metadata": {
        "id": "0b4TsbaPjaAH"
      },
      "execution_count": null,
      "outputs": []
    },
    {
      "cell_type": "code",
      "source": [
        "pred_lstm_train_false = output_prediction(y_hat_lstm_train_false)\n",
        "pred_lstm_train_true = output_prediction(y_hat_lstm_train_true)\n",
        "pred_gru_train_false = output_prediction(y_hat_gru_train_false)\n",
        "pred_gru_train_true = output_prediction(y_hat_gru_train_true)\n",
        " \n",
        "pred_lstm_twitch_false = output_prediction(y_hat_lstm_twitch_train_false)\n",
        "pred_lstm_twitch_true = output_prediction(y_hat_lstm_twitch_train_true)\n",
        "pred_gru_twitch_false = output_prediction(y_hat_gru_train_false)\n",
        "pred_gru_twitch_true = output_prediction(y_hat_gru_train_true)\n",
        "\n",
        "pred_lstm_zero_false = output_prediction(y_hat_lstm_zero_false)\n",
        "pred_lstm_zero_true = output_prediction(y_hat_lstm_zero_true)\n",
        "pred_gru_zero_false = output_prediction(y_hat_gru_zero_false)\n",
        "pred_gru_zero_true = output_prediction(y_hat_gru_zero_true)"
      ],
      "metadata": {
        "id": "Ek7x9Wp2k4Os"
      },
      "execution_count": null,
      "outputs": []
    },
    {
      "cell_type": "code",
      "source": [
        "PRED_LIST = [pred_lstm_train_false, pred_lstm_train_true, \n",
        "             pred_gru_train_false, pred_gru_train_true,\n",
        "             pred_lstm_twitch_false, pred_lstm_train_true,\n",
        "             pred_gru_twitch_false, pred_gru_twitch_true,\n",
        "             pred_lstm_zero_false, pred_lstm_zero_true,\n",
        "             pred_gru_zero_false, pred_gru_zero_true]\n",
        "\n",
        "NAME_LIST = [\"lstm_train_false2\", \"lstm_train_true2\",\n",
        "             \"gru_train_false2\", \"gru_train_true2\",\n",
        "             \"lstm_twitch_false2\", \"lstm_twitch_true2\",\n",
        "             \"gru_twitch_false2\", \"gru_twitch_true2\",\n",
        "             \"lstm_zero_false\", \"lstm_zero_true\", \n",
        "             \"gru_zero_false\", \"gru_zero_true\"]"
      ],
      "metadata": {
        "id": "aLamwAW7lJpK"
      },
      "execution_count": null,
      "outputs": []
    },
    {
      "cell_type": "code",
      "source": [
        "output_prediction_results(pred_list = PRED_LIST, \n",
        "                          name_list = NAME_LIST, \n",
        "                          test_vec = y_test_vec)"
      ],
      "metadata": {
        "colab": {
          "base_uri": "https://localhost:8080/",
          "height": 1000
        },
        "id": "X2Qy7YyOn2WB",
        "outputId": "fc0ba73e-f41a-4931-c5d8-47d5883b6cd6"
      },
      "execution_count": null,
      "outputs": [
        {
          "output_type": "stream",
          "name": "stdout",
          "text": [
            "=================================================================\n",
            "lstm_train_false2 results:\n",
            "\n",
            "              precision    recall  f1-score   support\n",
            "\n",
            "           0      0.452     0.346     0.392        81\n",
            "           1      0.534     0.680     0.598       150\n",
            "           2      0.705     0.604     0.650       154\n",
            "\n",
            "    accuracy                          0.579       385\n",
            "   macro avg      0.563     0.543     0.547       385\n",
            "weighted avg      0.585     0.579     0.576       385\n",
            "\n",
            "\n",
            "Confusion Matrix:\n",
            "[[ 28  38  15]\n",
            " [ 24 102  24]\n",
            " [ 10  51  93]]\n",
            "=================================================================\n",
            "lstm_train_true2 results:\n",
            "\n",
            "              precision    recall  f1-score   support\n",
            "\n",
            "           0      0.562     0.333     0.419        81\n",
            "           1      0.604     0.660     0.631       150\n",
            "           2      0.642     0.721     0.679       154\n",
            "\n",
            "    accuracy                          0.616       385\n",
            "   macro avg      0.603     0.571     0.576       385\n",
            "weighted avg      0.610     0.616     0.605       385\n",
            "\n",
            "\n",
            "Confusion Matrix:\n",
            "[[ 27  29  25]\n",
            " [ 14  99  37]\n",
            " [  7  36 111]]\n",
            "=================================================================\n",
            "gru_train_false2 results:\n",
            "\n",
            "              precision    recall  f1-score   support\n",
            "\n",
            "           0      0.500     0.469     0.484        81\n",
            "           1      0.549     0.640     0.591       150\n",
            "           2      0.687     0.597     0.639       154\n",
            "\n",
            "    accuracy                          0.587       385\n",
            "   macro avg      0.578     0.569     0.571       385\n",
            "weighted avg      0.594     0.587     0.588       385\n",
            "\n",
            "\n",
            "Confusion Matrix:\n",
            "[[38 28 15]\n",
            " [27 96 27]\n",
            " [11 51 92]]\n",
            "=================================================================\n",
            "gru_train_true2 results:\n",
            "\n",
            "              precision    recall  f1-score   support\n",
            "\n",
            "           0      0.507     0.420     0.459        81\n",
            "           1      0.591     0.607     0.599       150\n",
            "           2      0.677     0.721     0.698       154\n",
            "\n",
            "    accuracy                          0.613       385\n",
            "   macro avg      0.592     0.582     0.585       385\n",
            "weighted avg      0.608     0.613     0.609       385\n",
            "\n",
            "\n",
            "Confusion Matrix:\n",
            "[[ 34  27  20]\n",
            " [ 26  91  33]\n",
            " [  7  36 111]]\n",
            "=================================================================\n",
            "lstm_twitch_false2 results:\n",
            "\n",
            "              precision    recall  f1-score   support\n",
            "\n",
            "           0      0.492     0.358     0.414        81\n",
            "           1      0.554     0.680     0.611       150\n",
            "           2      0.754     0.695     0.723       154\n",
            "\n",
            "    accuracy                          0.618       385\n",
            "   macro avg      0.600     0.578     0.583       385\n",
            "weighted avg      0.621     0.618     0.614       385\n",
            "\n",
            "\n",
            "Confusion Matrix:\n",
            "[[ 29  40  12]\n",
            " [ 25 102  23]\n",
            " [  5  42 107]]\n",
            "=================================================================\n",
            "lstm_twitch_true2 results:\n",
            "\n",
            "              precision    recall  f1-score   support\n",
            "\n",
            "           0      0.562     0.333     0.419        81\n",
            "           1      0.604     0.660     0.631       150\n",
            "           2      0.642     0.721     0.679       154\n",
            "\n",
            "    accuracy                          0.616       385\n",
            "   macro avg      0.603     0.571     0.576       385\n",
            "weighted avg      0.610     0.616     0.605       385\n",
            "\n",
            "\n",
            "Confusion Matrix:\n",
            "[[ 27  29  25]\n",
            " [ 14  99  37]\n",
            " [  7  36 111]]\n",
            "=================================================================\n",
            "gru_twitch_false2 results:\n",
            "\n",
            "              precision    recall  f1-score   support\n",
            "\n",
            "           0      0.500     0.469     0.484        81\n",
            "           1      0.549     0.640     0.591       150\n",
            "           2      0.687     0.597     0.639       154\n",
            "\n",
            "    accuracy                          0.587       385\n",
            "   macro avg      0.578     0.569     0.571       385\n",
            "weighted avg      0.594     0.587     0.588       385\n",
            "\n",
            "\n",
            "Confusion Matrix:\n",
            "[[38 28 15]\n",
            " [27 96 27]\n",
            " [11 51 92]]\n",
            "=================================================================\n",
            "gru_twitch_true2 results:\n",
            "\n",
            "              precision    recall  f1-score   support\n",
            "\n",
            "           0      0.507     0.420     0.459        81\n",
            "           1      0.591     0.607     0.599       150\n",
            "           2      0.677     0.721     0.698       154\n",
            "\n",
            "    accuracy                          0.613       385\n",
            "   macro avg      0.592     0.582     0.585       385\n",
            "weighted avg      0.608     0.613     0.609       385\n",
            "\n",
            "\n",
            "Confusion Matrix:\n",
            "[[ 34  27  20]\n",
            " [ 26  91  33]\n",
            " [  7  36 111]]\n",
            "=================================================================\n",
            "lstm_zero_false results:\n",
            "\n",
            "              precision    recall  f1-score   support\n",
            "\n",
            "           0      0.000     0.000     0.000        81\n",
            "           1      0.000     0.000     0.000       150\n",
            "           2      0.400     1.000     0.571       154\n",
            "\n",
            "    accuracy                          0.400       385\n",
            "   macro avg      0.133     0.333     0.190       385\n",
            "weighted avg      0.160     0.400     0.229       385\n",
            "\n",
            "\n",
            "Confusion Matrix:\n",
            "[[  0   0  81]\n",
            " [  0   0 150]\n",
            " [  0   0 154]]\n",
            "=================================================================\n",
            "lstm_zero_true results:\n",
            "\n",
            "              precision    recall  f1-score   support\n",
            "\n",
            "           0      0.485     0.407     0.443        81\n",
            "           1      0.573     0.600     0.586       150\n",
            "           2      0.644     0.669     0.656       154\n",
            "\n",
            "    accuracy                          0.587       385\n",
            "   macro avg      0.567     0.559     0.562       385\n",
            "weighted avg      0.583     0.587     0.584       385\n",
            "\n",
            "\n",
            "Confusion Matrix:\n",
            "[[ 33  27  21]\n",
            " [ 24  90  36]\n",
            " [ 11  40 103]]\n",
            "=================================================================\n",
            "gru_zero_false results:\n",
            "\n",
            "              precision    recall  f1-score   support\n",
            "\n",
            "           0      0.000     0.000     0.000        81\n",
            "           1      0.390     1.000     0.561       150\n",
            "           2      0.000     0.000     0.000       154\n",
            "\n",
            "    accuracy                          0.390       385\n",
            "   macro avg      0.130     0.333     0.187       385\n",
            "weighted avg      0.152     0.390     0.218       385\n",
            "\n",
            "\n",
            "Confusion Matrix:\n",
            "[[  0  81   0]\n",
            " [  0 150   0]\n",
            " [  0 154   0]]\n",
            "=================================================================\n",
            "gru_zero_true results:\n",
            "\n",
            "              precision    recall  f1-score   support\n",
            "\n",
            "           0      0.488     0.519     0.503        81\n",
            "           1      0.586     0.593     0.589       150\n",
            "           2      0.673     0.643     0.658       154\n",
            "\n",
            "    accuracy                          0.597       385\n",
            "   macro avg      0.582     0.585     0.583       385\n",
            "weighted avg      0.600     0.597     0.599       385\n",
            "\n",
            "\n",
            "Confusion Matrix:\n",
            "[[42 23 16]\n",
            " [29 89 32]\n",
            " [15 40 99]]\n"
          ]
        },
        {
          "output_type": "stream",
          "name": "stderr",
          "text": [
            "/usr/local/lib/python3.7/dist-packages/sklearn/metrics/_classification.py:1318: UndefinedMetricWarning: Precision and F-score are ill-defined and being set to 0.0 in labels with no predicted samples. Use `zero_division` parameter to control this behavior.\n",
            "  _warn_prf(average, modifier, msg_start, len(result))\n",
            "/usr/local/lib/python3.7/dist-packages/sklearn/metrics/_classification.py:1318: UndefinedMetricWarning: Precision and F-score are ill-defined and being set to 0.0 in labels with no predicted samples. Use `zero_division` parameter to control this behavior.\n",
            "  _warn_prf(average, modifier, msg_start, len(result))\n",
            "/usr/local/lib/python3.7/dist-packages/sklearn/metrics/_classification.py:1318: UndefinedMetricWarning: Precision and F-score are ill-defined and being set to 0.0 in labels with no predicted samples. Use `zero_division` parameter to control this behavior.\n",
            "  _warn_prf(average, modifier, msg_start, len(result))\n",
            "/usr/local/lib/python3.7/dist-packages/sklearn/metrics/_classification.py:1318: UndefinedMetricWarning: Precision and F-score are ill-defined and being set to 0.0 in labels with no predicted samples. Use `zero_division` parameter to control this behavior.\n",
            "  _warn_prf(average, modifier, msg_start, len(result))\n",
            "/usr/local/lib/python3.7/dist-packages/sklearn/metrics/_classification.py:1318: UndefinedMetricWarning: Precision and F-score are ill-defined and being set to 0.0 in labels with no predicted samples. Use `zero_division` parameter to control this behavior.\n",
            "  _warn_prf(average, modifier, msg_start, len(result))\n",
            "/usr/local/lib/python3.7/dist-packages/sklearn/metrics/_classification.py:1318: UndefinedMetricWarning: Precision and F-score are ill-defined and being set to 0.0 in labels with no predicted samples. Use `zero_division` parameter to control this behavior.\n",
            "  _warn_prf(average, modifier, msg_start, len(result))\n",
            "/usr/local/lib/python3.7/dist-packages/sklearn/metrics/_plot/confusion_matrix.py:125: RuntimeWarning: More than 20 figures have been opened. Figures created through the pyplot interface (`matplotlib.pyplot.figure`) are retained until explicitly closed and may consume too much memory. (To control this warning, see the rcParam `figure.max_open_warning`).\n",
            "  fig, ax = plt.subplots()\n",
            "/usr/local/lib/python3.7/dist-packages/sklearn/metrics/_plot/confusion_matrix.py:125: RuntimeWarning: More than 20 figures have been opened. Figures created through the pyplot interface (`matplotlib.pyplot.figure`) are retained until explicitly closed and may consume too much memory. (To control this warning, see the rcParam `figure.max_open_warning`).\n",
            "  fig, ax = plt.subplots()\n"
          ]
        },
        {
          "output_type": "display_data",
          "data": {
            "text/plain": [
              "<Figure size 432x288 with 2 Axes>"
            ],
            "image/png": "[encoded data removed]"
          },
          "metadata": {
            "needs_background": "light"
          }
        },
        {
          "output_type": "display_data",
          "data": {
            "text/plain": [
              "<Figure size 432x288 with 2 Axes>"
            ],
            "image/png": "[encoded data removed]"
          },
          "metadata": {
            "needs_background": "light"
          }
        },
        {
          "output_type": "display_data",
          "data": {
            "text/plain": [
              "<Figure size 432x288 with 2 Axes>"
            ],
            "image/png": "[encoded data removed]"
          },
          "metadata": {
            "needs_background": "light"
          }
        },
        {
          "output_type": "display_data",
          "data": {
            "text/plain": [
              "<Figure size 432x288 with 2 Axes>"
            ],
            "image/png": "[encoded data removed]"
          },
          "metadata": {
            "needs_background": "light"
          }
        },
        {
          "output_type": "display_data",
          "data": {
            "text/plain": [
              "<Figure size 432x288 with 2 Axes>"
            ],
            "image/png": "[encoded data removed]"
          },
          "metadata": {
            "needs_background": "light"
          }
        },
        {
          "output_type": "display_data",
          "data": {
            "text/plain": [
              "<Figure size 432x288 with 2 Axes>"
            ],
            "image/png": "[encoded data removed]"
          },
          "metadata": {
            "needs_background": "light"
          }
        },
        {
          "output_type": "display_data",
          "data": {
            "text/plain": [
              "<Figure size 432x288 with 2 Axes>"
            ],
            "image/png": "[encoded data removed]"
          },
          "metadata": {
            "needs_background": "light"
          }
        },
        {
          "output_type": "display_data",
          "data": {
            "text/plain": [
              "<Figure size 432x288 with 2 Axes>"
            ],
            "image/png": "[encoded data removed]"
          },
          "metadata": {
            "needs_background": "light"
          }
        },
        {
          "output_type": "display_data",
          "data": {
            "text/plain": [
              "<Figure size 432x288 with 2 Axes>"
            ],
            "image/png": "[encoded data removed]"
          },
          "metadata": {
            "needs_background": "light"
          }
        },
        {
          "output_type": "display_data",
          "data": {
            "text/plain": [
              "<Figure size 432x288 with 2 Axes>"
            ],
            "image/png": "[encoded data removed]"
          },
          "metadata": {
            "needs_background": "light"
          }
        },
        {
          "output_type": "display_data",
          "data": {
            "text/plain": [
              "<Figure size 432x288 with 2 Axes>"
            ],
            "image/png": "[encoded data removed]"
          },
          "metadata": {
            "needs_background": "light"
          }
        },
        {
          "output_type": "display_data",
          "data": {
            "text/plain": [
              "<Figure size 432x288 with 2 Axes>"
            ],
            "image/png": "[encoded data removed]"
          },
          "metadata": {
            "needs_background": "light"
          }
        },
        {
          "output_type": "display_data",
          "data": {
            "text/plain": [
              "<Figure size 432x288 with 2 Axes>"
            ],
            "image/png": "[encoded data removed]"
          },
          "metadata": {
            "needs_background": "light"
          }
        },
        {
          "output_type": "display_data",
          "data": {
            "text/plain": [
              "<Figure size 432x288 with 2 Axes>"
            ],
            "image/png": "[encoded data removed]"
          },
          "metadata": {
            "needs_background": "light"
          }
        },
        {
          "output_type": "display_data",
          "data": {
            "text/plain": [
              "<Figure size 432x288 with 2 Axes>"
            ],
            "image/png": "[encoded data removed]"
          },
          "metadata": {
            "needs_background": "light"
          }
        },
        {
          "output_type": "display_data",
          "data": {
            "text/plain": [
              "<Figure size 432x288 with 2 Axes>"
            ],
            "image/png": "[encoded data removed]"
          },
          "metadata": {
            "needs_background": "light"
          }
        },
        {
          "output_type": "display_data",
          "data": {
            "text/plain": [
              "<Figure size 432x288 with 2 Axes>"
            ],
            "image/png": "[encoded data removed]"
          },
          "metadata": {
            "needs_background": "light"
          }
        },
        {
          "output_type": "display_data",
          "data": {
            "text/plain": [
              "<Figure size 432x288 with 2 Axes>"
            ],
            "image/png": "[encoded data removed]"
          },
          "metadata": {
            "needs_background": "light"
          }
        },
        {
          "output_type": "display_data",
          "data": {
            "text/plain": [
              "<Figure size 432x288 with 2 Axes>"
            ],
            "image/png": "[encoded data removed]"
          },
          "metadata": {
            "needs_background": "light"
          }
        },
        {
          "output_type": "display_data",
          "data": {
            "text/plain": [
              "<Figure size 432x288 with 2 Axes>"
            ],
            "image/png": "[encoded data removed]"
          },
          "metadata": {
            "needs_background": "light"
          }
        },
        {
          "output_type": "display_data",
          "data": {
            "text/plain": [
              "<Figure size 432x288 with 2 Axes>"
            ],
            "image/png": "[encoded data removed]"
          },
          "metadata": {
            "needs_background": "light"
          }
        },
        {
          "output_type": "display_data",
          "data": {
            "text/plain": [
              "<Figure size 432x288 with 2 Axes>"
            ],
            "image/png": "[encoded data removed]"
          },
          "metadata": {
            "needs_background": "light"
          }
        },
        {
          "output_type": "display_data",
          "data": {
            "text/plain": [
              "<Figure size 432x288 with 2 Axes>"
            ],
            "image/png": "[encoded data removed]"
          },
          "metadata": {
            "needs_background": "light"
          }
        },
        {
          "output_type": "display_data",
          "data": {
            "text/plain": [
              "<Figure size 432x288 with 2 Axes>"
            ],
            "image/png": "[encoded data removed]"
          },
          "metadata": {
            "needs_background": "light"
          }
        }
      ]
    },
    {
      "cell_type": "markdown",
      "source": [
        "# GRU with allowing training on the Twitch embeddings performed the best! Second best is LSTM with DISallowing training on the Twitch embeddings"
      ],
      "metadata": {
        "id": "hpZywgb3LoIp"
      }
    },
    {
      "cell_type": "markdown",
      "source": [
        "# Multimodal"
      ],
      "metadata": {
        "id": "IjYLsSDibHjx"
      }
    },
    {
      "cell_type": "markdown",
      "source": [
        "### Set up data"
      ],
      "metadata": {
        "id": "uugfiWZtgt-9"
      }
    },
    {
      "cell_type": "code",
      "source": [
        "COLUMNS"
      ],
      "metadata": {
        "colab": {
          "base_uri": "https://localhost:8080/"
        },
        "id": "-j0I6LOax16e",
        "outputId": "55c9b1ba-b608-4289-ce1f-5d4ea4ecbfe0"
      },
      "execution_count": null,
      "outputs": [
        {
          "output_type": "execute_result",
          "data": {
            "text/plain": [
              "['channel', 'mod', 'subscriber']"
            ]
          },
          "metadata": {},
          "execution_count": 66
        }
      ]
    },
    {
      "cell_type": "code",
      "source": [
        "list(set(X[\"channel\"]))"
      ],
      "metadata": {
        "colab": {
          "base_uri": "https://localhost:8080/"
        },
        "id": "AeKUTf25x5LW",
        "outputId": "1ba0e350-835f-415e-f09d-18430172ad5a"
      },
      "execution_count": null,
      "outputs": [
        {
          "output_type": "execute_result",
          "data": {
            "text/plain": [
              "['forsen', 'riotgames', 'xqcow', 'moonmoon_ow', 'sodapoppin']"
            ]
          },
          "metadata": {},
          "execution_count": 71
        }
      ]
    },
    {
      "cell_type": "code",
      "source": [
        "x_two_train_channel = train_metadata[\"channel\"].map({\"forsen\": 0, \n",
        "                                                 \"riotgames\": 1,\n",
        "                                                 \"xqcow\": 2,\n",
        "                                                 \"moonmoon_ow\": 3,\n",
        "                                                 \"sodapoppin\":4\n",
        "                                                 }).to_numpy().reshape(len(x_train),1)\n",
        "\n",
        "x_two_train_mod = train_metadata['mod'].map({True: 1, \n",
        "                                             False: 0}).to_numpy().reshape(len(x_train),1)\n",
        "\n",
        "\n",
        "x_two_train_sub = train_metadata['subscriber'].map({True: 1, \n",
        "                                                    False: 0}).to_numpy().reshape(len(x_train),1)\n",
        "\n",
        "\n",
        "x_two_train = np.concatenate((x_two_train_channel, \n",
        "                              x_two_train_mod, \n",
        "                              x_two_train_sub), axis=1)\n",
        "\n",
        "x_two_val_channel = valid_metadata[\"channel\"].map({\"forsen\": 0, \n",
        "                                                 \"riotgames\": 1,\n",
        "                                                 \"xqcow\": 2,\n",
        "                                                 \"moonmoon_ow\": 3,\n",
        "                                                 \"sodapoppin\":4\n",
        "                                                 }).to_numpy().reshape(len(x_valid),1)\n",
        "x_two_val_mod = valid_metadata['mod'].map({True: 1, \n",
        "                                           False: 0}).to_numpy().reshape(len(x_valid),1)\n",
        "x_two_val_sub = valid_metadata['subscriber'].map({True: 1, \n",
        "                                                  False: 0}).to_numpy().reshape(len(x_valid),1)\n",
        "x_two_val = np.concatenate((x_two_val_channel, \n",
        "                            x_two_val_mod, \n",
        "                            x_two_val_sub), axis=1)\n",
        "\n",
        "x_two_test_channel = test_metadata[\"channel\"].map({\"forsen\": 0, \n",
        "                                                 \"riotgames\": 1,\n",
        "                                                 \"xqcow\": 2,\n",
        "                                                 \"moonmoon_ow\": 3,\n",
        "                                                 \"sodapoppin\":4\n",
        "                                                 }).to_numpy().reshape(len(x_test),1)\n",
        "x_two_test_mod = test_metadata['mod'].map({True: 1, False: 0}).to_numpy().reshape(len(x_test),1)\n",
        "x_two_test_sub = test_metadata['subscriber'].map({True: 1, False: 0}).to_numpy().reshape(len(x_test),1)\n",
        "x_two_test = np.concatenate((x_two_test_channel, \n",
        "                             x_two_test_mod, \n",
        "                             x_two_test_sub), axis=1)"
      ],
      "metadata": {
        "id": "248x6swUfBn1"
      },
      "execution_count": null,
      "outputs": []
    },
    {
      "cell_type": "code",
      "source": [
        "x_train[0:5]"
      ],
      "metadata": {
        "colab": {
          "base_uri": "https://localhost:8080/",
          "height": 206
        },
        "id": "0byIVpcgfEDi",
        "outputId": "a7e510ba-708a-44fa-b51a-93432636c53e"
      },
      "execution_count": null,
      "outputs": [
        {
          "output_type": "execute_result",
          "data": {
            "text/plain": [
              "                          date      channel                game    user  \\\n",
              "906   2018-05-01T18:57:11.270Z       forsen  Fallout: New Vegas   67722   \n",
              "1175  2018-05-21T23:09:00.511Z   sodapoppin                 IRL  340845   \n",
              "359   2018-05-27T19:30:18.262Z       forsen          Dark Souls  676017   \n",
              "1283  2018-05-13T03:29:19.964Z  moonmoon_ow        The Cat Lady  240892   \n",
              "1775  2018-05-11T16:30:22.923Z       forsen                 IRL   71132   \n",
              "\n",
              "        mod  subscriber         message  \n",
              "906   False        True          4house  \n",
              "1175  False       False  say it trihard  \n",
              "359   False       False        omegalul  \n",
              "1283  False        True           wrong  \n",
              "1775  False       False       pepepains  "
            ],
            "text/html": [
              "\n",
              "  <div id=\"df-bd80fa8d-7bd6-40dc-a081-f8f95dfb50f4\">\n",
              "    <div class=\"colab-df-container\">\n",
              "      <div>\n",
              "<style scoped>\n",
              "    .dataframe tbody tr th:only-of-type {\n",
              "        vertical-align: middle;\n",
              "    }\n",
              "\n",
              "    .dataframe tbody tr th {\n",
              "        vertical-align: top;\n",
              "    }\n",
              "\n",
              "    .dataframe thead th {\n",
              "        text-align: right;\n",
              "    }\n",
              "</style>\n",
              "<table border=\"1\" class=\"dataframe\">\n",
              "  <thead>\n",
              "    <tr style=\"text-align: right;\">\n",
              "      <th></th>\n",
              "      <th>date</th>\n",
              "      <th>channel</th>\n",
              "      <th>game</th>\n",
              "      <th>user</th>\n",
              "      <th>mod</th>\n",
              "      <th>subscriber</th>\n",
              "      <th>message</th>\n",
              "    </tr>\n",
              "  </thead>\n",
              "  <tbody>\n",
              "    <tr>\n",
              "      <th>906</th>\n",
              "      <td>2018-05-01T18:57:11.270Z</td>\n",
              "      <td>forsen</td>\n",
              "      <td>Fallout: New Vegas</td>\n",
              "      <td>67722</td>\n",
              "      <td>False</td>\n",
              "      <td>True</td>\n",
              "      <td>4house</td>\n",
              "    </tr>\n",
              "    <tr>\n",
              "      <th>1175</th>\n",
              "      <td>2018-05-21T23:09:00.511Z</td>\n",
              "      <td>sodapoppin</td>\n",
              "      <td>IRL</td>\n",
              "      <td>340845</td>\n",
              "      <td>False</td>\n",
              "      <td>False</td>\n",
              "      <td>say it trihard</td>\n",
              "    </tr>\n",
              "    <tr>\n",
              "      <th>359</th>\n",
              "      <td>2018-05-27T19:30:18.262Z</td>\n",
              "      <td>forsen</td>\n",
              "      <td>Dark Souls</td>\n",
              "      <td>676017</td>\n",
              "      <td>False</td>\n",
              "      <td>False</td>\n",
              "      <td>omegalul</td>\n",
              "    </tr>\n",
              "    <tr>\n",
              "      <th>1283</th>\n",
              "      <td>2018-05-13T03:29:19.964Z</td>\n",
              "      <td>moonmoon_ow</td>\n",
              "      <td>The Cat Lady</td>\n",
              "      <td>240892</td>\n",
              "      <td>False</td>\n",
              "      <td>True</td>\n",
              "      <td>wrong</td>\n",
              "    </tr>\n",
              "    <tr>\n",
              "      <th>1775</th>\n",
              "      <td>2018-05-11T16:30:22.923Z</td>\n",
              "      <td>forsen</td>\n",
              "      <td>IRL</td>\n",
              "      <td>71132</td>\n",
              "      <td>False</td>\n",
              "      <td>False</td>\n",
              "      <td>pepepains</td>\n",
              "    </tr>\n",
              "  </tbody>\n",
              "</table>\n",
              "</div>\n",
              "      <button class=\"colab-df-convert\" onclick=\"convertToInteractive('df-bd80fa8d-7bd6-40dc-a081-f8f95dfb50f4')\"\n",
              "              title=\"Convert this dataframe to an interactive table.\"\n",
              "              style=\"display:none;\">\n",
              "        \n",
              "  <svg xmlns=\"http://www.w3.org/2000/svg\" height=\"24px\"viewBox=\"0 0 24 24\"\n",
              "       width=\"24px\">\n",
              "    <path d=\"M0 0h24v24H0V0z\" fill=\"none\"/>\n",
              "    <path d=\"M18.56 5.44l.94 2.06.94-2.06 2.06-.94-2.06-.94-.94-2.06-.94 2.06-2.06.94zm-11 1L8.5 8.5l.94-2.06 2.06-.94-2.06-.94L8.5 2.5l-.94 2.06-2.06.94zm10 10l.94 2.06.94-2.06 2.06-.94-2.06-.94-.94-2.06-.94 2.06-2.06.94z\"/><path d=\"M17.41 7.96l-1.37-1.37c-.4-.4-.92-.59-1.43-.59-.52 0-1.04.2-1.43.59L10.3 9.45l-7.72 7.72c-.78.78-.78 2.05 0 2.83L4 21.41c.39.39.9.59 1.41.59.51 0 1.02-.2 1.41-.59l7.78-7.78 2.81-2.81c.8-.78.8-2.07 0-2.86zM5.41 20L4 18.59l7.72-7.72 1.47 1.35L5.41 20z\"/>\n",
              "  </svg>\n",
              "      </button>\n",
              "      \n",
              "  <style>\n",
              "    .colab-df-container {\n",
              "      display:flex;\n",
              "      flex-wrap:wrap;\n",
              "      gap: 12px;\n",
              "    }\n",
              "\n",
              "    .colab-df-convert {\n",
              "      background-color: #E8F0FE;\n",
              "      border: none;\n",
              "      border-radius: 50%;\n",
              "      cursor: pointer;\n",
              "      display: none;\n",
              "      fill: #1967D2;\n",
              "      height: 32px;\n",
              "      padding: 0 0 0 0;\n",
              "      width: 32px;\n",
              "    }\n",
              "\n",
              "    .colab-df-convert:hover {\n",
              "      background-color: #E2EBFA;\n",
              "      box-shadow: 0px 1px 2px rgba(60, 64, 67, 0.3), 0px 1px 3px 1px rgba(60, 64, 67, 0.15);\n",
              "      fill: #174EA6;\n",
              "    }\n",
              "\n",
              "    [theme=dark] .colab-df-convert {\n",
              "      background-color: #3B4455;\n",
              "      fill: #D2E3FC;\n",
              "    }\n",
              "\n",
              "    [theme=dark] .colab-df-convert:hover {\n",
              "      background-color: #434B5C;\n",
              "      box-shadow: 0px 1px 3px 1px rgba(0, 0, 0, 0.15);\n",
              "      filter: drop-shadow(0px 1px 2px rgba(0, 0, 0, 0.3));\n",
              "      fill: #FFFFFF;\n",
              "    }\n",
              "  </style>\n",
              "\n",
              "      <script>\n",
              "        const buttonEl =\n",
              "          document.querySelector('#df-bd80fa8d-7bd6-40dc-a081-f8f95dfb50f4 button.colab-df-convert');\n",
              "        buttonEl.style.display =\n",
              "          google.colab.kernel.accessAllowed ? 'block' : 'none';\n",
              "\n",
              "        async function convertToInteractive(key) {\n",
              "          const element = document.querySelector('#df-bd80fa8d-7bd6-40dc-a081-f8f95dfb50f4');\n",
              "          const dataTable =\n",
              "            await google.colab.kernel.invokeFunction('convertToInteractive',\n",
              "                                                     [key], {});\n",
              "          if (!dataTable) return;\n",
              "\n",
              "          const docLinkHtml = 'Like what you see? Visit the ' +\n",
              "            '<a target=\"_blank\" href=https://colab.research.google.com/notebooks/data_table.ipynb>data table notebook</a>'\n",
              "            + ' to learn more about interactive tables.';\n",
              "          element.innerHTML = '';\n",
              "          dataTable['output_type'] = 'display_data';\n",
              "          await google.colab.output.renderOutput(dataTable, element);\n",
              "          const docLink = document.createElement('div');\n",
              "          docLink.innerHTML = docLinkHtml;\n",
              "          element.appendChild(docLink);\n",
              "        }\n",
              "      </script>\n",
              "    </div>\n",
              "  </div>\n",
              "  "
            ]
          },
          "metadata": {},
          "execution_count": 149
        }
      ]
    },
    {
      "cell_type": "code",
      "source": [
        "x_two_train[0:5]"
      ],
      "metadata": {
        "colab": {
          "base_uri": "https://localhost:8080/"
        },
        "id": "9tMA404EfES2",
        "outputId": "68b9ad22-9f34-40f6-ffe3-fb22531305f1"
      },
      "execution_count": null,
      "outputs": [
        {
          "output_type": "execute_result",
          "data": {
            "text/plain": [
              "array([[0, 0, 1],\n",
              "       [4, 0, 0],\n",
              "       [0, 0, 0],\n",
              "       [3, 0, 1],\n",
              "       [0, 0, 0]])"
            ]
          },
          "metadata": {},
          "execution_count": 74
        }
      ]
    },
    {
      "cell_type": "markdown",
      "source": [
        "### Params"
      ],
      "metadata": {
        "id": "Wu7gTv1sgx0l"
      }
    },
    {
      "cell_type": "markdown",
      "source": [
        "### Simple example"
      ],
      "metadata": {
        "id": "AM4KZKX0fKRk"
      }
    },
    {
      "cell_type": "code",
      "source": [
        "from tensorflow.keras.optimizers import Adam"
      ],
      "metadata": {
        "id": "164ltNdXfMZ6"
      },
      "execution_count": null,
      "outputs": []
    },
    {
      "cell_type": "code",
      "source": [
        "EARLY_STOP = EarlyStopping(monitor = \"val_acc\", mode = \"max\", \n",
        "                           patience = int(math.ceil(0.25 * EPOCHS) + 1), \n",
        "                           verbose = 1)"
      ],
      "metadata": {
        "id": "Zfklnhug-Q4-"
      },
      "execution_count": null,
      "outputs": []
    },
    {
      "cell_type": "code",
      "source": [
        "TRAINABLE = True\n",
        "EMBEDDING = embedding_matrix\n",
        "CKPT = set_up_checkpoint(\"multi_modal_checkpoint_05_05_2022_jay\")\n",
        "embedding_layer = Embedding(NUM_TOKENS,  EMBEDDING_DIMENSION, \n",
        "                            embeddings_initializer= Constant(embedding_matrix), \n",
        "                            trainable = TRAINABLE)\n",
        "int_sequences_input = Input(shape=(None,), dtype=\"int64\")\n",
        "embedded_sequences = embedding_layer(int_sequences_input)\n",
        "x1 = layers.LSTM(NODES)(embedded_sequences)\n",
        "x1 = layers.Dense(8, activation='relu')(x1)\n",
        "\n",
        "metadata_input = Input(shape=x_two_train[0].shape)\n",
        "x2 = layers.Dense(3, activation='relu')(metadata_input)\n",
        "\n",
        "# Merge -> output\n",
        "out = layers.Concatenate()([x1, x2])\n",
        "out = layers.Dense(32, activation='relu')(out)\n",
        "out = layers.Dense(len(classes), activation='softmax')(out)\n",
        "\n",
        "multi_model = Model(inputs=[int_sequences_input, metadata_input], outputs=out)\n",
        "multi_model.compile(optimizer=OPTIMIZER, loss=OBJECTIVE_FUNC, metrics=METRICS)\n",
        "multi_model.summary()\n",
        "multi_model.fit([x_train_message_vec, x_two_train], y_train_vec, \n",
        "                batch_size=BATCH_SIZE, \n",
        "                epochs=EPOCHS, \n",
        "                validation_data=([x_valid_message_vec, x_two_val], y_valid_vec),\n",
        "                callbacks = [EARLY_STOP, CKPT])"
      ],
      "metadata": {
        "id": "RTucq96ofOPx",
        "colab": {
          "base_uri": "https://localhost:8080/"
        },
        "outputId": "00aab88d-1d15-4824-b9c1-d886506ad35a"
      },
      "execution_count": null,
      "outputs": [
        {
          "output_type": "stream",
          "name": "stdout",
          "text": [
            "Model: \"model_32\"\n",
            "__________________________________________________________________________________________________\n",
            " Layer (type)                   Output Shape         Param #     Connected to                     \n",
            "==================================================================================================\n",
            " input_54 (InputLayer)          [(None, None)]       0           []                               \n",
            "                                                                                                  \n",
            " embedding_19 (Embedding)       (None, None, 200)    417600      ['input_54[0][0]']               \n",
            "                                                                                                  \n",
            " lstm_47 (LSTM)                 (None, 128)          168448      ['embedding_19[0][0]']           \n",
            "                                                                                                  \n",
            " input_55 (InputLayer)          [(None, 3)]          0           []                               \n",
            "                                                                                                  \n",
            " dense_95 (Dense)               (None, 8)            1032        ['lstm_47[0][0]']                \n",
            "                                                                                                  \n",
            " dense_96 (Dense)               (None, 3)            12          ['input_55[0][0]']               \n",
            "                                                                                                  \n",
            " concatenate_19 (Concatenate)   (None, 11)           0           ['dense_95[0][0]',               \n",
            "                                                                  'dense_96[0][0]']               \n",
            "                                                                                                  \n",
            " dense_97 (Dense)               (None, 32)           384         ['concatenate_19[0][0]']         \n",
            "                                                                                                  \n",
            " dense_98 (Dense)               (None, 3)            99          ['dense_97[0][0]']               \n",
            "                                                                                                  \n",
            "==================================================================================================\n",
            "Total params: 587,575\n",
            "Trainable params: 587,575\n",
            "Non-trainable params: 0\n",
            "__________________________________________________________________________________________________\n",
            "Epoch 1/32\n",
            "81/84 [===========================>..] - ETA: 0s - loss: 1.0822 - acc: 0.3897\n",
            "Epoch 1: val_acc improved from -inf to 0.38860, saving model to multi_modal_checkpoint_05_05_2022_jay\n",
            "84/84 [==============================] - 3s 17ms/step - loss: 1.0803 - acc: 0.3906 - val_loss: 1.0675 - val_acc: 0.3886\n",
            "Epoch 2/32\n",
            "84/84 [==============================] - ETA: 0s - loss: 1.0654 - acc: 0.3743\n",
            "Epoch 2: val_acc improved from 0.38860 to 0.41451, saving model to multi_modal_checkpoint_05_05_2022_jay\n",
            "84/84 [==============================] - 1s 8ms/step - loss: 1.0654 - acc: 0.3743 - val_loss: 1.0570 - val_acc: 0.4145\n",
            "Epoch 3/32\n",
            "81/84 [===========================>..] - ETA: 0s - loss: 1.0394 - acc: 0.4298\n",
            "Epoch 3: val_acc did not improve from 0.41451\n",
            "84/84 [==============================] - 1s 7ms/step - loss: 1.0394 - acc: 0.4278 - val_loss: 1.0571 - val_acc: 0.3990\n",
            "Epoch 4/32\n",
            "79/84 [===========================>..] - ETA: 0s - loss: 1.0494 - acc: 0.4573\n",
            "Epoch 4: val_acc improved from 0.41451 to 0.47668, saving model to multi_modal_checkpoint_05_05_2022_jay\n",
            "84/84 [==============================] - 1s 8ms/step - loss: 1.0510 - acc: 0.4554 - val_loss: 1.0484 - val_acc: 0.4767\n",
            "Epoch 5/32\n",
            "80/84 [===========================>..] - ETA: 0s - loss: 1.0477 - acc: 0.4570\n",
            "Epoch 5: val_acc did not improve from 0.47668\n",
            "84/84 [==============================] - 1s 7ms/step - loss: 1.0451 - acc: 0.4568 - val_loss: 1.0476 - val_acc: 0.4715\n",
            "Epoch 6/32\n",
            "78/84 [==========================>...] - ETA: 0s - loss: 1.0407 - acc: 0.4631\n",
            "Epoch 6: val_acc did not improve from 0.47668\n",
            "84/84 [==============================] - 1s 7ms/step - loss: 1.0396 - acc: 0.4635 - val_loss: 1.0471 - val_acc: 0.4767\n",
            "Epoch 7/32\n",
            "81/84 [===========================>..] - ETA: 0s - loss: 1.0379 - acc: 0.4707\n",
            "Epoch 7: val_acc did not improve from 0.47668\n",
            "84/84 [==============================] - 1s 7ms/step - loss: 1.0373 - acc: 0.4688 - val_loss: 1.0524 - val_acc: 0.4611\n",
            "Epoch 8/32\n",
            "82/84 [============================>.] - ETA: 0s - loss: 1.0569 - acc: 0.4169\n",
            "Epoch 8: val_acc did not improve from 0.47668\n",
            "84/84 [==============================] - 1s 7ms/step - loss: 1.0571 - acc: 0.4144 - val_loss: 1.0599 - val_acc: 0.4249\n",
            "Epoch 9/32\n",
            "82/84 [============================>.] - ETA: 0s - loss: 1.0591 - acc: 0.4093\n",
            "Epoch 9: val_acc did not improve from 0.47668\n",
            "84/84 [==============================] - 1s 7ms/step - loss: 1.0578 - acc: 0.4129 - val_loss: 1.0602 - val_acc: 0.4301\n",
            "Epoch 10/32\n",
            "82/84 [============================>.] - ETA: 0s - loss: 1.0572 - acc: 0.4230\n",
            "Epoch 10: val_acc did not improve from 0.47668\n",
            "84/84 [==============================] - 1s 7ms/step - loss: 1.0568 - acc: 0.4219 - val_loss: 1.0593 - val_acc: 0.4301\n",
            "Epoch 11/32\n",
            "82/84 [============================>.] - ETA: 0s - loss: 1.0548 - acc: 0.4245\n",
            "Epoch 11: val_acc did not improve from 0.47668\n",
            "84/84 [==============================] - 1s 7ms/step - loss: 1.0548 - acc: 0.4226 - val_loss: 1.0590 - val_acc: 0.4301\n",
            "Epoch 12/32\n",
            "80/84 [===========================>..] - ETA: 0s - loss: 1.0585 - acc: 0.4187\n",
            "Epoch 12: val_acc did not improve from 0.47668\n",
            "84/84 [==============================] - 1s 7ms/step - loss: 1.0552 - acc: 0.4182 - val_loss: 1.0590 - val_acc: 0.4301\n",
            "Epoch 13/32\n",
            "82/84 [============================>.] - ETA: 0s - loss: 1.0546 - acc: 0.4162\n",
            "Epoch 13: val_acc did not improve from 0.47668\n",
            "84/84 [==============================] - 1s 7ms/step - loss: 1.0549 - acc: 0.4159 - val_loss: 1.0592 - val_acc: 0.4249\n",
            "Epoch 13: early stopping\n"
          ]
        },
        {
          "output_type": "execute_result",
          "data": {
            "text/plain": [
              "<keras.callbacks.History at 0x7ff78a48b250>"
            ]
          },
          "metadata": {},
          "execution_count": 153
        }
      ]
    },
    {
      "cell_type": "code",
      "source": [
        "y_hat_twitch_multi = multi_model.predict([x_test_message_vec, x_two_test])\n",
        "pred_twitch_multi = output_prediction(y_hat_twitch_multi)\n",
        "PRED_LIST = [pred_twitch_multi]\n",
        "output_prediction_results(pred_list = PRED_LIST, \n",
        "                          name_list = NAME_LIST, \n",
        "                          test_vec = y_test_vec)"
      ],
      "metadata": {
        "id": "65VhTN7RfjHs",
        "colab": {
          "base_uri": "https://localhost:8080/",
          "height": 1000
        },
        "outputId": "444635ec-96b6-47c2-fad1-8c5333f0eb41"
      },
      "execution_count": null,
      "outputs": [
        {
          "output_type": "stream",
          "name": "stdout",
          "text": [
            "=================================================================\n",
            "pred_twitch_multi results:\n",
            "\n",
            "              precision    recall  f1-score   support\n",
            "\n",
            "           0      0.000     0.000     0.000        81\n",
            "           1      0.424     0.167     0.239       150\n",
            "           2      0.402     0.851     0.546       154\n",
            "\n",
            "    accuracy                          0.405       385\n",
            "   macro avg      0.275     0.339     0.262       385\n",
            "weighted avg      0.326     0.405     0.312       385\n",
            "\n",
            "\n",
            "Confusion Matrix:\n",
            "[[  0  11  70]\n",
            " [  0  25 125]\n",
            " [  0  23 131]]\n"
          ]
        },
        {
          "output_type": "stream",
          "name": "stderr",
          "text": [
            "/usr/local/lib/python3.7/dist-packages/sklearn/metrics/_classification.py:1318: UndefinedMetricWarning: Precision and F-score are ill-defined and being set to 0.0 in labels with no predicted samples. Use `zero_division` parameter to control this behavior.\n",
            "  _warn_prf(average, modifier, msg_start, len(result))\n",
            "/usr/local/lib/python3.7/dist-packages/sklearn/metrics/_classification.py:1318: UndefinedMetricWarning: Precision and F-score are ill-defined and being set to 0.0 in labels with no predicted samples. Use `zero_division` parameter to control this behavior.\n",
            "  _warn_prf(average, modifier, msg_start, len(result))\n",
            "/usr/local/lib/python3.7/dist-packages/sklearn/metrics/_classification.py:1318: UndefinedMetricWarning: Precision and F-score are ill-defined and being set to 0.0 in labels with no predicted samples. Use `zero_division` parameter to control this behavior.\n",
            "  _warn_prf(average, modifier, msg_start, len(result))\n"
          ]
        },
        {
          "output_type": "display_data",
          "data": {
            "text/plain": [
              "<Figure size 432x288 with 2 Axes>"
            ],
            "image/png": "[encoded data removed]"
          },
          "metadata": {
            "needs_background": "light"
          }
        },
        {
          "output_type": "display_data",
          "data": {
            "text/plain": [
              "<Figure size 432x288 with 2 Axes>"
            ],
            "image/png": "[encoded data removed]"
          },
          "metadata": {
            "needs_background": "light"
          }
        }
      ]
    },
    {
      "cell_type": "markdown",
      "source": [
        "### Multimodal, Bidirectional LSTM"
      ],
      "metadata": {
        "id": "V7Obwvojf2fw"
      }
    },
    {
      "cell_type": "code",
      "source": [
        "TRAINABLE = True\n",
        "EMBEDDING = twitch_embedding_matrix\n",
        "CKPT = set_up_checkpoint(\"multi_modal_checkpoint_05_05_2022_jay\")\n",
        "embedding_layer = Embedding(NUM_TOKENS,  EMBEDDING_DIMENSION, \n",
        "                            embeddings_initializer= Constant(EMBEDDING), \n",
        "                            trainable = TRAINABLE)\n",
        "# The question network\n",
        "int_sequences_input = Input(shape=(None,), dtype=\"int64\")\n",
        "embedded_sequences = embedding_layer(int_sequences_input)\n",
        "x1 = layers.Bidirectional(layers.LSTM(NODES))(embedded_sequences)\n",
        "x1 = layers.Dense(8, activation='relu')(x1)\n",
        "\n",
        "metadata_input = Input(shape=x_two_train[0].shape)\n",
        "x2 = layers.Dense(3, activation='relu')(metadata_input)\n",
        "\n",
        "# Merge -> output\n",
        "out = layers.Concatenate()([x1, x2])\n",
        "out = layers.Dense(32, activation='relu')(out)\n",
        "out = layers.Dense(len(classes), activation='softmax')(out)\n",
        "\n",
        "multi_model = Model(inputs=[int_sequences_input, metadata_input], outputs=out)\n",
        "multi_model.compile(optimizer=OPTIMIZER, loss=OBJECTIVE_FUNC, metrics=METRICS)\n",
        "multi_model.summary()\n",
        "multi_model.fit([x_train_message_vec, x_two_train], y_train_vec, \n",
        "                batch_size=BATCH_SIZE, \n",
        "                epochs=EPOCHS, \n",
        "                validation_data=([x_valid_message_vec, x_two_val], y_valid_vec),\n",
        "                callbacks = [EARLY_STOP, CKPT])"
      ],
      "metadata": {
        "id": "fH97M-R0gJum",
        "colab": {
          "base_uri": "https://localhost:8080/"
        },
        "outputId": "234e32be-4acf-4acc-a393-55527a8b8c1f"
      },
      "execution_count": 202,
      "outputs": [
        {
          "output_type": "stream",
          "name": "stdout",
          "text": [
            "Model: \"model_45\"\n",
            "__________________________________________________________________________________________________\n",
            " Layer (type)                   Output Shape         Param #     Connected to                     \n",
            "==================================================================================================\n",
            " input_80 (InputLayer)          [(None, None)]       0           []                               \n",
            "                                                                                                  \n",
            " embedding_32 (Embedding)       (None, None, 200)    417600      ['input_80[0][0]']               \n",
            "                                                                                                  \n",
            " bidirectional_67 (Bidirectiona  (None, 256)         336896      ['embedding_32[0][0]']           \n",
            " l)                                                                                               \n",
            "                                                                                                  \n",
            " input_81 (InputLayer)          [(None, 3)]          0           []                               \n",
            "                                                                                                  \n",
            " dense_147 (Dense)              (None, 8)            2056        ['bidirectional_67[0][0]']       \n",
            "                                                                                                  \n",
            " dense_148 (Dense)              (None, 3)            12          ['input_81[0][0]']               \n",
            "                                                                                                  \n",
            " concatenate_32 (Concatenate)   (None, 11)           0           ['dense_147[0][0]',              \n",
            "                                                                  'dense_148[0][0]']              \n",
            "                                                                                                  \n",
            " dense_149 (Dense)              (None, 32)           384         ['concatenate_32[0][0]']         \n",
            "                                                                                                  \n",
            " dense_150 (Dense)              (None, 3)            99          ['dense_149[0][0]']              \n",
            "                                                                                                  \n",
            "==================================================================================================\n",
            "Total params: 757,047\n",
            "Trainable params: 757,047\n",
            "Non-trainable params: 0\n",
            "__________________________________________________________________________________________________\n",
            "Epoch 1/32\n",
            "82/84 [============================>.] - ETA: 0s - loss: 1.0008 - acc: 0.4581\n",
            "Epoch 1: val_acc improved from -inf to 0.54922, saving model to multi_modal_checkpoint_05_05_2022_jay\n",
            "84/84 [==============================] - 4s 21ms/step - loss: 0.9993 - acc: 0.4621 - val_loss: 0.8926 - val_acc: 0.5492\n",
            "Epoch 2/32\n",
            "79/84 [===========================>..] - ETA: 0s - loss: 0.7297 - acc: 0.6780\n",
            "Epoch 2: val_acc improved from 0.54922 to 0.62694, saving model to multi_modal_checkpoint_05_05_2022_jay\n",
            "84/84 [==============================] - 1s 11ms/step - loss: 0.7299 - acc: 0.6771 - val_loss: 0.8190 - val_acc: 0.6269\n",
            "Epoch 3/32\n",
            "80/84 [===========================>..] - ETA: 0s - loss: 0.5374 - acc: 0.7922\n",
            "Epoch 3: val_acc improved from 0.62694 to 0.66839, saving model to multi_modal_checkpoint_05_05_2022_jay\n",
            "84/84 [==============================] - 1s 11ms/step - loss: 0.5309 - acc: 0.7946 - val_loss: 0.8677 - val_acc: 0.6684\n",
            "Epoch 4/32\n",
            "79/84 [===========================>..] - ETA: 0s - loss: 0.3836 - acc: 0.8536\n",
            "Epoch 4: val_acc did not improve from 0.66839\n",
            "84/84 [==============================] - 1s 10ms/step - loss: 0.3786 - acc: 0.8542 - val_loss: 0.9948 - val_acc: 0.6269\n",
            "Epoch 5/32\n",
            "79/84 [===========================>..] - ETA: 0s - loss: 0.2747 - acc: 0.8948\n",
            "Epoch 5: val_acc did not improve from 0.66839\n",
            "84/84 [==============================] - 1s 10ms/step - loss: 0.2802 - acc: 0.8921 - val_loss: 1.0514 - val_acc: 0.6218\n",
            "Epoch 6/32\n",
            "84/84 [==============================] - ETA: 0s - loss: 0.2208 - acc: 0.9271\n",
            "Epoch 6: val_acc improved from 0.66839 to 0.67358, saving model to multi_modal_checkpoint_05_05_2022_jay\n",
            "84/84 [==============================] - 1s 11ms/step - loss: 0.2208 - acc: 0.9271 - val_loss: 1.0473 - val_acc: 0.6736\n",
            "Epoch 7/32\n",
            "79/84 [===========================>..] - ETA: 0s - loss: 0.1716 - acc: 0.9375\n",
            "Epoch 7: val_acc did not improve from 0.67358\n",
            "84/84 [==============================] - 1s 10ms/step - loss: 0.1751 - acc: 0.9368 - val_loss: 1.3159 - val_acc: 0.6477\n",
            "Epoch 8/32\n",
            "79/84 [===========================>..] - ETA: 0s - loss: 0.1618 - acc: 0.9383\n",
            "Epoch 8: val_acc did not improve from 0.67358\n",
            "84/84 [==============================] - 1s 10ms/step - loss: 0.1606 - acc: 0.9397 - val_loss: 1.2151 - val_acc: 0.6580\n",
            "Epoch 9/32\n",
            "79/84 [===========================>..] - ETA: 0s - loss: 0.1449 - acc: 0.9438\n",
            "Epoch 9: val_acc did not improve from 0.67358\n",
            "84/84 [==============================] - 1s 10ms/step - loss: 0.1431 - acc: 0.9457 - val_loss: 1.2656 - val_acc: 0.6684\n",
            "Epoch 10/32\n",
            "84/84 [==============================] - ETA: 0s - loss: 0.1356 - acc: 0.9412\n",
            "Epoch 10: val_acc did not improve from 0.67358\n",
            "84/84 [==============================] - 1s 10ms/step - loss: 0.1356 - acc: 0.9412 - val_loss: 1.3018 - val_acc: 0.6632\n",
            "Epoch 11/32\n",
            "79/84 [===========================>..] - ETA: 0s - loss: 0.1311 - acc: 0.9502\n",
            "Epoch 11: val_acc did not improve from 0.67358\n",
            "84/84 [==============================] - 1s 10ms/step - loss: 0.1320 - acc: 0.9487 - val_loss: 1.4351 - val_acc: 0.6321\n",
            "Epoch 12/32\n",
            "79/84 [===========================>..] - ETA: 0s - loss: 0.1284 - acc: 0.9470\n",
            "Epoch 12: val_acc did not improve from 0.67358\n",
            "84/84 [==============================] - 1s 10ms/step - loss: 0.1268 - acc: 0.9472 - val_loss: 1.3912 - val_acc: 0.6477\n",
            "Epoch 13/32\n",
            "84/84 [==============================] - ETA: 0s - loss: 0.1145 - acc: 0.9494\n",
            "Epoch 13: val_acc did not improve from 0.67358\n",
            "84/84 [==============================] - 1s 10ms/step - loss: 0.1145 - acc: 0.9494 - val_loss: 1.4794 - val_acc: 0.6632\n",
            "Epoch 14/32\n",
            "79/84 [===========================>..] - ETA: 0s - loss: 0.1145 - acc: 0.9486\n",
            "Epoch 14: val_acc did not improve from 0.67358\n",
            "84/84 [==============================] - 1s 10ms/step - loss: 0.1160 - acc: 0.9487 - val_loss: 1.4009 - val_acc: 0.6632\n",
            "Epoch 15/32\n",
            "79/84 [===========================>..] - ETA: 0s - loss: 0.1090 - acc: 0.9525\n",
            "Epoch 15: val_acc did not improve from 0.67358\n",
            "84/84 [==============================] - 1s 10ms/step - loss: 0.1075 - acc: 0.9524 - val_loss: 1.4470 - val_acc: 0.6632\n",
            "Epoch 15: early stopping\n"
          ]
        },
        {
          "output_type": "execute_result",
          "data": {
            "text/plain": [
              "<keras.callbacks.History at 0x7ff694575bd0>"
            ]
          },
          "metadata": {},
          "execution_count": 202
        }
      ]
    },
    {
      "cell_type": "code",
      "source": [
        "y_hat_twitch_multi = multi_model.predict([x_test_message_vec, x_two_test])\n",
        "pred_twitch_multi = output_prediction(y_hat_twitch_multi)\n",
        "PRED_LIST = [pred_twitch_multi]\n",
        "NAME_LIST = [\"pred_twitch_multi\"]\n",
        "output_prediction_results(pred_list = PRED_LIST, \n",
        "                          name_list = NAME_LIST, \n",
        "                          test_vec = y_test_vec)"
      ],
      "metadata": {
        "colab": {
          "base_uri": "https://localhost:8080/",
          "height": 886
        },
        "id": "QWFCTPE2hHhb",
        "outputId": "5ab11cb8-1bfd-4df4-be8c-6662d6117e97"
      },
      "execution_count": 203,
      "outputs": [
        {
          "output_type": "stream",
          "name": "stdout",
          "text": [
            "=================================================================\n",
            "pred_twitch_multi results:\n",
            "\n",
            "              precision    recall  f1-score   support\n",
            "\n",
            "           0      0.487     0.481     0.484        81\n",
            "           1      0.593     0.593     0.593       150\n",
            "           2      0.723     0.727     0.725       154\n",
            "\n",
            "    accuracy                          0.623       385\n",
            "   macro avg      0.601     0.601     0.601       385\n",
            "weighted avg      0.623     0.623     0.623       385\n",
            "\n",
            "\n",
            "Confusion Matrix:\n",
            "[[ 39  28  14]\n",
            " [ 32  89  29]\n",
            " [  9  33 112]]\n"
          ]
        },
        {
          "output_type": "display_data",
          "data": {
            "text/plain": [
              "<Figure size 432x288 with 2 Axes>"
            ],
            "image/png": "[encoded data removed]"
          },
          "metadata": {
            "needs_background": "light"
          }
        },
        {
          "output_type": "display_data",
          "data": {
            "text/plain": [
              "<Figure size 432x288 with 2 Axes>"
            ],
            "image/png": "[encoded data removed]"
          },
          "metadata": {
            "needs_background": "light"
          }
        }
      ]
    },
    {
      "cell_type": "markdown",
      "source": [
        "### 2-layer bidirectional"
      ],
      "metadata": {
        "id": "mBPikjaOhScU"
      }
    },
    {
      "cell_type": "code",
      "source": [
        "NODES/8"
      ],
      "metadata": {
        "colab": {
          "base_uri": "https://localhost:8080/"
        },
        "id": "18GtjBeV7LDK",
        "outputId": "8ccf7b68-c556-467e-b4ec-dc809ebb66e1"
      },
      "execution_count": 198,
      "outputs": [
        {
          "output_type": "execute_result",
          "data": {
            "text/plain": [
              "16.0"
            ]
          },
          "metadata": {},
          "execution_count": 198
        }
      ]
    },
    {
      "cell_type": "code",
      "source": [
        "x_two_train[0].shape"
      ],
      "metadata": {
        "colab": {
          "base_uri": "https://localhost:8080/"
        },
        "id": "lznG8osJ7QX3",
        "outputId": "88abfffc-46ca-46c9-deeb-6adf6b58f017"
      },
      "execution_count": null,
      "outputs": [
        {
          "output_type": "execute_result",
          "data": {
            "text/plain": [
              "(3,)"
            ]
          },
          "metadata": {},
          "execution_count": 129
        }
      ]
    },
    {
      "cell_type": "code",
      "source": [
        "# The question network\n",
        "int_sequences_input = Input(shape=(None,), dtype=\"int64\")\n",
        "embedded_sequences = embedding_layer(int_sequences_input)\n",
        "x1 = layers.Bidirectional(layers.LSTM(NODES, return_sequences=True))(embedded_sequences)\n",
        "x1 = layers.Bidirectional(layers.LSTM(NODES))(x1)\n",
        "x1 = layers.Dense(int(math.floor(NODES/8)), activation='relu')(x1)\n",
        "x1 = layers.normalization.batch_normalization.BatchNormalization()(x1)\n",
        "\n",
        "metadata_input = Input(shape=x_two_train[0].shape)\n",
        "x2 = layers.Dense(3, activation='relu')(metadata_input)\n",
        "x2 = layers.Dropout(.5)(x2)\n",
        "x2 = layers.Dense(3, activation='relu')(x2)\n",
        "x2 = layers.normalization.batch_normalization.BatchNormalization()(x2)\n",
        "\n",
        "# Merge -> output\n",
        "out = layers.Concatenate()([x1, x2])\n",
        "out = layers.Dense(16, activation='relu')(out)\n",
        "out = layers.Dense(len(classes), activation='softmax')(out)\n",
        "\n",
        "multi_model = Model(inputs=[int_sequences_input, metadata_input], outputs=out)\n",
        "multi_model.compile(optimizer=OPTIMIZER, loss=OBJECTIVE_FUNC, metrics=METRICS)"
      ],
      "metadata": {
        "id": "KYyEk-zohU8j"
      },
      "execution_count": 204,
      "outputs": []
    },
    {
      "cell_type": "code",
      "source": [
        "multi_model.summary()"
      ],
      "metadata": {
        "colab": {
          "base_uri": "https://localhost:8080/"
        },
        "id": "fqrNoBqbheat",
        "outputId": "cabca9ce-191e-4efa-9b96-4e4c6e998c65"
      },
      "execution_count": 205,
      "outputs": [
        {
          "output_type": "stream",
          "name": "stdout",
          "text": [
            "Model: \"model_46\"\n",
            "__________________________________________________________________________________________________\n",
            " Layer (type)                   Output Shape         Param #     Connected to                     \n",
            "==================================================================================================\n",
            " input_82 (InputLayer)          [(None, None)]       0           []                               \n",
            "                                                                                                  \n",
            " embedding_32 (Embedding)       (None, None, 200)    417600      ['input_82[0][0]']               \n",
            "                                                                                                  \n",
            " input_83 (InputLayer)          [(None, 3)]          0           []                               \n",
            "                                                                                                  \n",
            " bidirectional_68 (Bidirectiona  (None, None, 256)   336896      ['embedding_32[1][0]']           \n",
            " l)                                                                                               \n",
            "                                                                                                  \n",
            " dense_152 (Dense)              (None, 3)            12          ['input_83[0][0]']               \n",
            "                                                                                                  \n",
            " bidirectional_69 (Bidirectiona  (None, 256)         394240      ['bidirectional_68[0][0]']       \n",
            " l)                                                                                               \n",
            "                                                                                                  \n",
            " dropout_6 (Dropout)            (None, 3)            0           ['dense_152[0][0]']              \n",
            "                                                                                                  \n",
            " dense_151 (Dense)              (None, 16)           4112        ['bidirectional_69[0][0]']       \n",
            "                                                                                                  \n",
            " dense_153 (Dense)              (None, 3)            12          ['dropout_6[0][0]']              \n",
            "                                                                                                  \n",
            " batch_normalization_8 (BatchNo  (None, 16)          64          ['dense_151[0][0]']              \n",
            " rmalization)                                                                                     \n",
            "                                                                                                  \n",
            " batch_normalization_9 (BatchNo  (None, 3)           12          ['dense_153[0][0]']              \n",
            " rmalization)                                                                                     \n",
            "                                                                                                  \n",
            " concatenate_33 (Concatenate)   (None, 19)           0           ['batch_normalization_8[0][0]',  \n",
            "                                                                  'batch_normalization_9[0][0]']  \n",
            "                                                                                                  \n",
            " dense_154 (Dense)              (None, 16)           320         ['concatenate_33[0][0]']         \n",
            "                                                                                                  \n",
            " dense_155 (Dense)              (None, 3)            51          ['dense_154[0][0]']              \n",
            "                                                                                                  \n",
            "==================================================================================================\n",
            "Total params: 1,153,319\n",
            "Trainable params: 1,153,281\n",
            "Non-trainable params: 38\n",
            "__________________________________________________________________________________________________\n"
          ]
        }
      ]
    },
    {
      "cell_type": "code",
      "source": [
        "CKPT = set_up_checkpoint(\"multi_modal_checkpoint_05_05_2022_3\")"
      ],
      "metadata": {
        "id": "tCpIYiPO5h7g"
      },
      "execution_count": 206,
      "outputs": []
    },
    {
      "cell_type": "code",
      "source": [
        "multi_model.fit([x_train_message_vec, x_two_train], y_train_vec, \n",
        "                batch_size=BATCH_SIZE, \n",
        "                epochs=EPOCHS, \n",
        "                validation_data=([x_valid_message_vec, x_two_val], y_valid_vec),\n",
        "                callbacks = [EARLY_STOP, CKPT])"
      ],
      "metadata": {
        "colab": {
          "base_uri": "https://localhost:8080/"
        },
        "id": "FaXOJSbhhe2C",
        "outputId": "e4859044-4dce-4975-8558-5f1d9123de4e"
      },
      "execution_count": 207,
      "outputs": [
        {
          "output_type": "stream",
          "name": "stdout",
          "text": [
            "Epoch 1/32\n",
            "84/84 [==============================] - ETA: 0s - loss: 0.8412 - acc: 0.6369\n",
            "Epoch 1: val_acc improved from -inf to 0.60622, saving model to multi_modal_checkpoint_05_05_2022_3\n",
            "84/84 [==============================] - 8s 37ms/step - loss: 0.8412 - acc: 0.6369 - val_loss: 0.9111 - val_acc: 0.6062\n",
            "Epoch 2/32\n",
            "81/84 [===========================>..] - ETA: 0s - loss: 0.5119 - acc: 0.8164\n",
            "Epoch 2: val_acc improved from 0.60622 to 0.62176, saving model to multi_modal_checkpoint_05_05_2022_3\n",
            "84/84 [==============================] - 2s 21ms/step - loss: 0.5141 - acc: 0.8162 - val_loss: 0.8511 - val_acc: 0.6218\n",
            "Epoch 3/32\n",
            "84/84 [==============================] - ETA: 0s - loss: 0.3617 - acc: 0.8780\n",
            "Epoch 3: val_acc improved from 0.62176 to 0.62694, saving model to multi_modal_checkpoint_05_05_2022_3\n",
            "84/84 [==============================] - 2s 19ms/step - loss: 0.3617 - acc: 0.8780 - val_loss: 0.8854 - val_acc: 0.6269\n",
            "Epoch 4/32\n",
            "84/84 [==============================] - ETA: 0s - loss: 0.2997 - acc: 0.8958\n",
            "Epoch 4: val_acc improved from 0.62694 to 0.65285, saving model to multi_modal_checkpoint_05_05_2022_3\n",
            "84/84 [==============================] - 2s 20ms/step - loss: 0.2997 - acc: 0.8958 - val_loss: 0.9738 - val_acc: 0.6528\n",
            "Epoch 5/32\n",
            "83/84 [============================>.] - ETA: 0s - loss: 0.2521 - acc: 0.9059\n",
            "Epoch 5: val_acc did not improve from 0.65285\n",
            "84/84 [==============================] - 1s 18ms/step - loss: 0.2533 - acc: 0.9055 - val_loss: 1.2367 - val_acc: 0.6166\n",
            "Epoch 6/32\n",
            "82/84 [============================>.] - ETA: 0s - loss: 0.2627 - acc: 0.8994\n",
            "Epoch 6: val_acc did not improve from 0.65285\n",
            "84/84 [==============================] - 1s 17ms/step - loss: 0.2647 - acc: 0.8981 - val_loss: 1.1263 - val_acc: 0.6425\n",
            "Epoch 7/32\n",
            "81/84 [===========================>..] - ETA: 0s - loss: 0.2090 - acc: 0.9221\n",
            "Epoch 7: val_acc did not improve from 0.65285\n",
            "84/84 [==============================] - 1s 18ms/step - loss: 0.2110 - acc: 0.9204 - val_loss: 1.1143 - val_acc: 0.6528\n",
            "Epoch 8/32\n",
            "82/84 [============================>.] - ETA: 0s - loss: 0.1991 - acc: 0.9291\n",
            "Epoch 8: val_acc did not improve from 0.65285\n",
            "84/84 [==============================] - 2s 18ms/step - loss: 0.2025 - acc: 0.9293 - val_loss: 1.1948 - val_acc: 0.6166\n",
            "Epoch 9/32\n",
            "81/84 [===========================>..] - ETA: 0s - loss: 0.1726 - acc: 0.9344\n",
            "Epoch 9: val_acc did not improve from 0.65285\n",
            "84/84 [==============================] - 2s 18ms/step - loss: 0.1708 - acc: 0.9360 - val_loss: 1.2174 - val_acc: 0.6477\n",
            "Epoch 10/32\n",
            "84/84 [==============================] - ETA: 0s - loss: 0.1813 - acc: 0.9308\n",
            "Epoch 10: val_acc did not improve from 0.65285\n",
            "84/84 [==============================] - 2s 18ms/step - loss: 0.1813 - acc: 0.9308 - val_loss: 1.2493 - val_acc: 0.6218\n",
            "Epoch 11/32\n",
            "83/84 [============================>.] - ETA: 0s - loss: 0.1814 - acc: 0.9345\n",
            "Epoch 11: val_acc did not improve from 0.65285\n",
            "84/84 [==============================] - 2s 18ms/step - loss: 0.1805 - acc: 0.9345 - val_loss: 1.1892 - val_acc: 0.6269\n",
            "Epoch 12/32\n",
            "84/84 [==============================] - ETA: 0s - loss: 0.1584 - acc: 0.9449\n",
            "Epoch 12: val_acc improved from 0.65285 to 0.65803, saving model to multi_modal_checkpoint_05_05_2022_3\n",
            "84/84 [==============================] - 2s 19ms/step - loss: 0.1584 - acc: 0.9449 - val_loss: 1.2310 - val_acc: 0.6580\n",
            "Epoch 13/32\n",
            "83/84 [============================>.] - ETA: 0s - loss: 0.1481 - acc: 0.9435\n",
            "Epoch 13: val_acc did not improve from 0.65803\n",
            "84/84 [==============================] - 2s 18ms/step - loss: 0.1487 - acc: 0.9435 - val_loss: 1.2237 - val_acc: 0.6477\n",
            "Epoch 14/32\n",
            "82/84 [============================>.] - ETA: 0s - loss: 0.1452 - acc: 0.9421\n",
            "Epoch 14: val_acc improved from 0.65803 to 0.66321, saving model to multi_modal_checkpoint_05_05_2022_3\n",
            "84/84 [==============================] - 2s 20ms/step - loss: 0.1441 - acc: 0.9427 - val_loss: 1.3578 - val_acc: 0.6632\n",
            "Epoch 15/32\n",
            "84/84 [==============================] - ETA: 0s - loss: 0.1370 - acc: 0.9487\n",
            "Epoch 15: val_acc did not improve from 0.66321\n",
            "84/84 [==============================] - 2s 18ms/step - loss: 0.1370 - acc: 0.9487 - val_loss: 1.2644 - val_acc: 0.6632\n",
            "Epoch 16/32\n",
            "83/84 [============================>.] - ETA: 0s - loss: 0.1293 - acc: 0.9488\n",
            "Epoch 16: val_acc did not improve from 0.66321\n",
            "84/84 [==============================] - 2s 18ms/step - loss: 0.1279 - acc: 0.9494 - val_loss: 1.3133 - val_acc: 0.6425\n",
            "Epoch 17/32\n",
            "81/84 [===========================>..] - ETA: 0s - loss: 0.1257 - acc: 0.9498\n",
            "Epoch 17: val_acc did not improve from 0.66321\n",
            "84/84 [==============================] - 2s 18ms/step - loss: 0.1257 - acc: 0.9494 - val_loss: 1.2062 - val_acc: 0.6373\n",
            "Epoch 18/32\n",
            "84/84 [==============================] - ETA: 0s - loss: 0.1240 - acc: 0.9479\n",
            "Epoch 18: val_acc did not improve from 0.66321\n",
            "84/84 [==============================] - 2s 18ms/step - loss: 0.1240 - acc: 0.9479 - val_loss: 1.3575 - val_acc: 0.6477\n",
            "Epoch 19/32\n",
            "83/84 [============================>.] - ETA: 0s - loss: 0.1172 - acc: 0.9480\n",
            "Epoch 19: val_acc improved from 0.66321 to 0.66839, saving model to multi_modal_checkpoint_05_05_2022_3\n",
            "84/84 [==============================] - 2s 20ms/step - loss: 0.1172 - acc: 0.9479 - val_loss: 1.4983 - val_acc: 0.6684\n",
            "Epoch 20/32\n",
            "82/84 [============================>.] - ETA: 0s - loss: 0.1146 - acc: 0.9543\n",
            "Epoch 20: val_acc did not improve from 0.66839\n",
            "84/84 [==============================] - 2s 18ms/step - loss: 0.1154 - acc: 0.9531 - val_loss: 1.4104 - val_acc: 0.6477\n",
            "Epoch 21/32\n",
            "82/84 [============================>.] - ETA: 0s - loss: 0.1333 - acc: 0.9459\n",
            "Epoch 21: val_acc did not improve from 0.66839\n",
            "84/84 [==============================] - 2s 18ms/step - loss: 0.1360 - acc: 0.9449 - val_loss: 1.4313 - val_acc: 0.6321\n",
            "Epoch 22/32\n",
            "84/84 [==============================] - ETA: 0s - loss: 0.1427 - acc: 0.9449\n",
            "Epoch 22: val_acc did not improve from 0.66839\n",
            "84/84 [==============================] - 2s 19ms/step - loss: 0.1427 - acc: 0.9449 - val_loss: 1.4124 - val_acc: 0.6010\n",
            "Epoch 23/32\n",
            "83/84 [============================>.] - ETA: 0s - loss: 0.1467 - acc: 0.9375\n",
            "Epoch 23: val_acc did not improve from 0.66839\n",
            "84/84 [==============================] - 2s 18ms/step - loss: 0.1460 - acc: 0.9375 - val_loss: 1.5507 - val_acc: 0.6321\n",
            "Epoch 24/32\n",
            "83/84 [============================>.] - ETA: 0s - loss: 0.1183 - acc: 0.9458\n",
            "Epoch 24: val_acc did not improve from 0.66839\n",
            "84/84 [==============================] - 1s 18ms/step - loss: 0.1210 - acc: 0.9457 - val_loss: 1.4957 - val_acc: 0.6477\n",
            "Epoch 25/32\n",
            "81/84 [===========================>..] - ETA: 0s - loss: 0.1088 - acc: 0.9529\n",
            "Epoch 25: val_acc did not improve from 0.66839\n",
            "84/84 [==============================] - 2s 18ms/step - loss: 0.1093 - acc: 0.9539 - val_loss: 1.6847 - val_acc: 0.6269\n",
            "Epoch 26/32\n",
            "81/84 [===========================>..] - ETA: 0s - loss: 0.1192 - acc: 0.9437\n",
            "Epoch 26: val_acc did not improve from 0.66839\n",
            "84/84 [==============================] - 2s 18ms/step - loss: 0.1167 - acc: 0.9449 - val_loss: 1.5849 - val_acc: 0.6321\n",
            "Epoch 27/32\n",
            "84/84 [==============================] - ETA: 0s - loss: 0.1124 - acc: 0.9494\n",
            "Epoch 27: val_acc did not improve from 0.66839\n",
            "84/84 [==============================] - 2s 18ms/step - loss: 0.1124 - acc: 0.9494 - val_loss: 1.5874 - val_acc: 0.6321\n",
            "Epoch 28/32\n",
            "84/84 [==============================] - ETA: 0s - loss: 0.1065 - acc: 0.9539\n",
            "Epoch 28: val_acc did not improve from 0.66839\n",
            "84/84 [==============================] - 2s 18ms/step - loss: 0.1065 - acc: 0.9539 - val_loss: 1.6000 - val_acc: 0.6373\n",
            "Epoch 28: early stopping\n"
          ]
        },
        {
          "output_type": "execute_result",
          "data": {
            "text/plain": [
              "<keras.callbacks.History at 0x7ff6947bbf10>"
            ]
          },
          "metadata": {},
          "execution_count": 207
        }
      ]
    },
    {
      "cell_type": "code",
      "source": [
        "y_hat_twitch_multi = multi_model.predict([x_test_message_vec, x_two_test])\n",
        "pred_twitch_multi = output_prediction(y_hat_twitch_multi)\n",
        "PRED_LIST = [pred_twitch_multi]\n",
        "NAME_LIST = [\"pred_twitch_multi\"]\n",
        "output_prediction_results(pred_list = PRED_LIST, \n",
        "                          name_list = NAME_LIST, \n",
        "                          test_vec = y_test_vec)"
      ],
      "metadata": {
        "colab": {
          "base_uri": "https://localhost:8080/",
          "height": 886
        },
        "id": "sW-RAJnkhtU8",
        "outputId": "e2f39d39-73a8-47d7-fc99-bea1f66065f9"
      },
      "execution_count": 199,
      "outputs": [
        {
          "output_type": "stream",
          "name": "stdout",
          "text": [
            "=================================================================\n",
            "pred_twitch_multi results:\n",
            "\n",
            "              precision    recall  f1-score   support\n",
            "\n",
            "           0      0.474     0.444     0.459        81\n",
            "           1      0.583     0.653     0.616       150\n",
            "           2      0.738     0.675     0.705       154\n",
            "\n",
            "    accuracy                          0.618       385\n",
            "   macro avg      0.598     0.591     0.593       385\n",
            "weighted avg      0.622     0.618     0.619       385\n",
            "\n",
            "\n",
            "Confusion Matrix:\n",
            "[[ 36  31  14]\n",
            " [ 29  98  23]\n",
            " [ 11  39 104]]\n"
          ]
        },
        {
          "output_type": "display_data",
          "data": {
            "text/plain": [
              "<Figure size 432x288 with 2 Axes>"
            ],
            "image/png": "[encoded data removed]"
          },
          "metadata": {
            "needs_background": "light"
          }
        },
        {
          "output_type": "display_data",
          "data": {
            "text/plain": [
              "<Figure size 432x288 with 2 Axes>"
            ],
            "image/png": "[encoded data removed]"
          },
          "metadata": {
            "needs_background": "light"
          }
        }
      ]
    },
    {
      "cell_type": "markdown",
      "source": [
        "# Multimodal GRU"
      ],
      "metadata": {
        "id": "DUZpfH2-jyPr"
      }
    },
    {
      "cell_type": "markdown",
      "source": [
        "### Simple GRU"
      ],
      "metadata": {
        "id": "H0BRebDEkAxj"
      }
    },
    {
      "cell_type": "code",
      "source": [
        "# The question network\n",
        "int_sequences_input = Input(shape=(None,), dtype=\"int64\")\n",
        "embedded_sequences = embedding_layer(int_sequences_input)\n",
        "x1 = layers.GRU(NODES)(embedded_sequences)\n",
        "x1 = layers.Dense(8, activation='relu')(x1)\n",
        "\n",
        "metadata_input = Input(shape=x_two_train[0].shape)\n",
        "x2 = layers.Dense(3, activation='relu')(metadata_input)\n",
        "\n",
        "# Merge -> output\n",
        "out = layers.Concatenate()([x1, x2])\n",
        "out = layers.Dense(32, activation='relu')(out)\n",
        "out = layers.Dense(len(classes), activation='softmax')(out)\n",
        "\n",
        "multi_model = Model(inputs=[int_sequences_input, metadata_input], outputs=out)\n",
        "multi_model.compile(optimizer = OPTIMIZER, loss=OBJECTIVE_FUNC, metrics=METRICS)"
      ],
      "metadata": {
        "id": "Ss2OYgi0j0b2"
      },
      "execution_count": null,
      "outputs": []
    },
    {
      "cell_type": "code",
      "source": [
        "multi_model.summary()"
      ],
      "metadata": {
        "colab": {
          "base_uri": "https://localhost:8080/"
        },
        "id": "6x_d1jFrkAEA",
        "outputId": "9f659b29-96c3-4f5e-fca6-c18d52244e49"
      },
      "execution_count": null,
      "outputs": [
        {
          "output_type": "stream",
          "name": "stdout",
          "text": [
            "Model: \"model_21\"\n",
            "__________________________________________________________________________________________________\n",
            " Layer (type)                   Output Shape         Param #     Connected to                     \n",
            "==================================================================================================\n",
            " input_28 (InputLayer)          [(None, None)]       0           []                               \n",
            "                                                                                                  \n",
            " embedding_16 (Embedding)       (None, None, 200)    417600      ['input_28[0][0]']               \n",
            "                                                                                                  \n",
            " gru_13 (GRU)                   (None, 128)          126720      ['embedding_16[4][0]']           \n",
            "                                                                                                  \n",
            " input_29 (InputLayer)          [(None, 3)]          0           []                               \n",
            "                                                                                                  \n",
            " dense_39 (Dense)               (None, 8)            1032        ['gru_13[0][0]']                 \n",
            "                                                                                                  \n",
            " dense_40 (Dense)               (None, 3)            12          ['input_29[0][0]']               \n",
            "                                                                                                  \n",
            " concatenate_6 (Concatenate)    (None, 11)           0           ['dense_39[0][0]',               \n",
            "                                                                  'dense_40[0][0]']               \n",
            "                                                                                                  \n",
            " dense_41 (Dense)               (None, 32)           384         ['concatenate_6[0][0]']          \n",
            "                                                                                                  \n",
            " dense_42 (Dense)               (None, 3)            99          ['dense_41[0][0]']               \n",
            "                                                                                                  \n",
            "==================================================================================================\n",
            "Total params: 545,847\n",
            "Trainable params: 128,247\n",
            "Non-trainable params: 417,600\n",
            "__________________________________________________________________________________________________\n"
          ]
        }
      ]
    },
    {
      "cell_type": "code",
      "source": [
        "multi_model.fit([x_train_message_vec, x_two_train], y_train_vec, \n",
        "                batch_size=BATCH_SIZE, \n",
        "                epochs=EPOCHS, \n",
        "                validation_data=([x_valid_message_vec, x_two_val], y_valid_vec),\n",
        "                callbacks = [EARLY_STOP, CKPT])"
      ],
      "metadata": {
        "colab": {
          "base_uri": "https://localhost:8080/"
        },
        "id": "fqJyr1LBkDG9",
        "outputId": "5340fb2a-5d32-498d-ed46-91370e224bd1"
      },
      "execution_count": null,
      "outputs": [
        {
          "output_type": "stream",
          "name": "stdout",
          "text": [
            "Epoch 1/32\n",
            "82/84 [============================>.] - ETA: 0s - loss: 1.0926 - acc: 0.3720\n",
            "Epoch 1: val_acc did not improve from 0.67358\n",
            "84/84 [==============================] - 3s 15ms/step - loss: 1.0908 - acc: 0.3728 - val_loss: 1.0688 - val_acc: 0.3679\n",
            "Epoch 2/32\n",
            "83/84 [============================>.] - ETA: 0s - loss: 1.0643 - acc: 0.3765\n",
            "Epoch 2: val_acc did not improve from 0.67358\n",
            "84/84 [==============================] - 1s 8ms/step - loss: 1.0656 - acc: 0.3743 - val_loss: 1.0626 - val_acc: 0.4093\n",
            "Epoch 3/32\n",
            "79/84 [===========================>..] - ETA: 0s - loss: 1.0620 - acc: 0.3972\n",
            "Epoch 3: val_acc did not improve from 0.67358\n",
            "84/84 [==============================] - 1s 8ms/step - loss: 1.0605 - acc: 0.4018 - val_loss: 1.0703 - val_acc: 0.4041\n",
            "Epoch 4/32\n",
            "83/84 [============================>.] - ETA: 0s - loss: 1.0604 - acc: 0.3946\n",
            "Epoch 4: val_acc did not improve from 0.67358\n",
            "84/84 [==============================] - 1s 8ms/step - loss: 1.0614 - acc: 0.3929 - val_loss: 1.0603 - val_acc: 0.4093\n",
            "Epoch 5/32\n",
            "82/84 [============================>.] - ETA: 0s - loss: 1.0587 - acc: 0.4055\n",
            "Epoch 5: val_acc did not improve from 0.67358\n",
            "84/84 [==============================] - 1s 8ms/step - loss: 1.0596 - acc: 0.4033 - val_loss: 1.0605 - val_acc: 0.4145\n",
            "Epoch 6/32\n",
            "79/84 [===========================>..] - ETA: 0s - loss: 1.0591 - acc: 0.4169\n",
            "Epoch 6: val_acc did not improve from 0.67358\n",
            "84/84 [==============================] - 1s 9ms/step - loss: 1.0581 - acc: 0.4182 - val_loss: 1.0678 - val_acc: 0.3990\n",
            "Epoch 7/32\n",
            "77/84 [==========================>...] - ETA: 0s - loss: 1.0559 - acc: 0.3994\n",
            "Epoch 7: val_acc did not improve from 0.67358\n",
            "84/84 [==============================] - 1s 7ms/step - loss: 1.0590 - acc: 0.3943 - val_loss: 1.0645 - val_acc: 0.4093\n",
            "Epoch 8/32\n",
            "82/84 [============================>.] - ETA: 0s - loss: 1.0568 - acc: 0.4032\n",
            "Epoch 8: val_acc did not improve from 0.67358\n",
            "84/84 [==============================] - 1s 7ms/step - loss: 1.0578 - acc: 0.4010 - val_loss: 1.0620 - val_acc: 0.4197\n",
            "Epoch 9/32\n",
            "81/84 [===========================>..] - ETA: 0s - loss: 1.0341 - acc: 0.4414\n",
            "Epoch 9: val_acc did not improve from 0.67358\n",
            "84/84 [==============================] - 1s 7ms/step - loss: 1.0397 - acc: 0.4345 - val_loss: 1.0761 - val_acc: 0.3990\n",
            "Epoch 10/32\n",
            "83/84 [============================>.] - ETA: 0s - loss: 0.9834 - acc: 0.4518\n",
            "Epoch 10: val_acc did not improve from 0.67358\n",
            "84/84 [==============================] - 1s 7ms/step - loss: 0.9824 - acc: 0.4509 - val_loss: 0.9833 - val_acc: 0.4819\n",
            "Epoch 11/32\n",
            "82/84 [============================>.] - ETA: 0s - loss: 0.8763 - acc: 0.5259\n",
            "Epoch 11: val_acc did not improve from 0.67358\n",
            "84/84 [==============================] - 1s 7ms/step - loss: 0.8749 - acc: 0.5260 - val_loss: 0.9874 - val_acc: 0.4922\n",
            "Epoch 12/32\n",
            "82/84 [============================>.] - ETA: 0s - loss: 0.8272 - acc: 0.5564\n",
            "Epoch 12: val_acc did not improve from 0.67358\n",
            "84/84 [==============================] - 1s 7ms/step - loss: 0.8304 - acc: 0.5543 - val_loss: 1.0251 - val_acc: 0.4767\n",
            "Epoch 13/32\n",
            "81/84 [===========================>..] - ETA: 0s - loss: 0.8123 - acc: 0.5610\n",
            "Epoch 13: val_acc did not improve from 0.67358\n",
            "84/84 [==============================] - 1s 7ms/step - loss: 0.8102 - acc: 0.5603 - val_loss: 0.9778 - val_acc: 0.4819\n",
            "Epoch 14/32\n",
            "82/84 [============================>.] - ETA: 0s - loss: 0.7803 - acc: 0.5739\n",
            "Epoch 14: val_acc did not improve from 0.67358\n",
            "84/84 [==============================] - 1s 7ms/step - loss: 0.7762 - acc: 0.5744 - val_loss: 0.9713 - val_acc: 0.4974\n",
            "Epoch 15/32\n",
            "82/84 [============================>.] - ETA: 0s - loss: 0.7590 - acc: 0.5983\n",
            "Epoch 15: val_acc did not improve from 0.67358\n",
            "84/84 [==============================] - 1s 7ms/step - loss: 0.7577 - acc: 0.5990 - val_loss: 0.9594 - val_acc: 0.5440\n",
            "Epoch 16/32\n",
            "83/84 [============================>.] - ETA: 0s - loss: 0.7120 - acc: 0.6860\n",
            "Epoch 16: val_acc did not improve from 0.67358\n",
            "84/84 [==============================] - 1s 7ms/step - loss: 0.7113 - acc: 0.6860 - val_loss: 0.8808 - val_acc: 0.6166\n",
            "Epoch 17/32\n",
            "82/84 [============================>.] - ETA: 0s - loss: 0.5896 - acc: 0.7790\n",
            "Epoch 17: val_acc did not improve from 0.67358\n",
            "84/84 [==============================] - 1s 7ms/step - loss: 0.5941 - acc: 0.7783 - val_loss: 0.8868 - val_acc: 0.6477\n",
            "Epoch 18/32\n",
            "82/84 [============================>.] - ETA: 0s - loss: 0.4906 - acc: 0.8216\n",
            "Epoch 18: val_acc did not improve from 0.67358\n",
            "84/84 [==============================] - 1s 7ms/step - loss: 0.4924 - acc: 0.8222 - val_loss: 0.9504 - val_acc: 0.6632\n",
            "Epoch 19/32\n",
            "82/84 [============================>.] - ETA: 0s - loss: 0.4312 - acc: 0.8544\n",
            "Epoch 19: val_acc did not improve from 0.67358\n",
            "84/84 [==============================] - 1s 7ms/step - loss: 0.4303 - acc: 0.8542 - val_loss: 1.0211 - val_acc: 0.6580\n",
            "Epoch 20/32\n",
            "82/84 [============================>.] - ETA: 0s - loss: 0.4079 - acc: 0.8651\n",
            "Epoch 20: val_acc did not improve from 0.67358\n",
            "84/84 [==============================] - 1s 7ms/step - loss: 0.4065 - acc: 0.8661 - val_loss: 0.9723 - val_acc: 0.6425\n",
            "Epoch 21/32\n",
            "79/84 [===========================>..] - ETA: 0s - loss: 0.3613 - acc: 0.8813\n",
            "Epoch 21: val_acc did not improve from 0.67358\n",
            "84/84 [==============================] - 1s 7ms/step - loss: 0.3611 - acc: 0.8802 - val_loss: 1.0454 - val_acc: 0.6373\n",
            "Epoch 22/32\n",
            "79/84 [===========================>..] - ETA: 0s - loss: 0.3442 - acc: 0.8821\n",
            "Epoch 22: val_acc did not improve from 0.67358\n",
            "84/84 [==============================] - 1s 7ms/step - loss: 0.3407 - acc: 0.8832 - val_loss: 1.0834 - val_acc: 0.6528\n",
            "Epoch 23/32\n",
            "82/84 [============================>.] - ETA: 0s - loss: 0.3146 - acc: 0.8941\n",
            "Epoch 23: val_acc did not improve from 0.67358\n",
            "84/84 [==============================] - 1s 7ms/step - loss: 0.3170 - acc: 0.8943 - val_loss: 1.1353 - val_acc: 0.6269\n",
            "Epoch 24/32\n",
            "76/84 [==========================>...] - ETA: 0s - loss: 0.3102 - acc: 0.8988\n",
            "Epoch 24: val_acc did not improve from 0.67358\n",
            "84/84 [==============================] - 1s 7ms/step - loss: 0.3078 - acc: 0.8996 - val_loss: 1.0666 - val_acc: 0.6321\n",
            "Epoch 25/32\n",
            "80/84 [===========================>..] - ETA: 0s - loss: 0.2965 - acc: 0.9055\n",
            "Epoch 25: val_acc did not improve from 0.67358\n",
            "84/84 [==============================] - 1s 7ms/step - loss: 0.2955 - acc: 0.9055 - val_loss: 1.1283 - val_acc: 0.6373\n",
            "Epoch 26/32\n",
            "82/84 [============================>.] - ETA: 0s - loss: 0.2926 - acc: 0.8963\n",
            "Epoch 26: val_acc did not improve from 0.67358\n",
            "84/84 [==============================] - 1s 7ms/step - loss: 0.2886 - acc: 0.8981 - val_loss: 1.1372 - val_acc: 0.6580\n",
            "Epoch 27/32\n",
            "82/84 [============================>.] - ETA: 0s - loss: 0.2784 - acc: 0.9009\n",
            "Epoch 27: val_acc did not improve from 0.67358\n",
            "84/84 [==============================] - 1s 7ms/step - loss: 0.2814 - acc: 0.8996 - val_loss: 1.1536 - val_acc: 0.6269\n",
            "Epoch 27: early stopping\n"
          ]
        },
        {
          "output_type": "execute_result",
          "data": {
            "text/plain": [
              "<keras.callbacks.History at 0x7ff7af605f50>"
            ]
          },
          "metadata": {},
          "execution_count": 100
        }
      ]
    },
    {
      "cell_type": "code",
      "source": [
        "y_hat_twitch_multi = multi_model.predict([x_test_message_vec, x_two_test])\n",
        "pred_twitch_multi = output_prediction(y_hat_twitch_multi)\n",
        "PRED_LIST = [pred_twitch_multi]\n",
        "NAME_LIST = [\"pred_twitch_multi\"]\n",
        "output_prediction_results(pred_list = PRED_LIST, \n",
        "                          name_list = NAME_LIST, \n",
        "                          test_vec = y_test_vec)"
      ],
      "metadata": {
        "colab": {
          "base_uri": "https://localhost:8080/",
          "height": 886
        },
        "id": "H2EwseyYkF-i",
        "outputId": "24b2abcb-1192-4580-e9a2-71a2b8f3206e"
      },
      "execution_count": null,
      "outputs": [
        {
          "output_type": "stream",
          "name": "stdout",
          "text": [
            "=================================================================\n",
            "pred_twitch_multi results:\n",
            "\n",
            "              precision    recall  f1-score   support\n",
            "\n",
            "           0      0.580     0.358     0.443        81\n",
            "           1      0.571     0.773     0.657       150\n",
            "           2      0.773     0.662     0.713       154\n",
            "\n",
            "    accuracy                          0.642       385\n",
            "   macro avg      0.641     0.598     0.604       385\n",
            "weighted avg      0.654     0.642     0.635       385\n",
            "\n",
            "\n",
            "Confusion Matrix:\n",
            "[[ 29  40  12]\n",
            " [ 16 116  18]\n",
            " [  5  47 102]]\n"
          ]
        },
        {
          "output_type": "display_data",
          "data": {
            "text/plain": [
              "<Figure size 432x288 with 2 Axes>"
            ],
            "image/png": "[encoded data removed]"
          },
          "metadata": {
            "needs_background": "light"
          }
        },
        {
          "output_type": "display_data",
          "data": {
            "text/plain": [
              "<Figure size 432x288 with 2 Axes>"
            ],
            "image/png": "[encoded data removed]"
          },
          "metadata": {
            "needs_background": "light"
          }
        }
      ]
    },
    {
      "cell_type": "markdown",
      "source": [
        "# Multimodal zero embeddings"
      ],
      "metadata": {
        "id": "8arTA9kEkmuQ"
      }
    },
    {
      "cell_type": "code",
      "source": [
        "TRAINABLE = True\n",
        "embedding_layer = Embedding(NUM_TOKENS,  EMBEDDING_DIMENSION, \n",
        "                            embeddings_initializer= Constant(zero_matrix), \n",
        "                            trainable = TRAINABLE)"
      ],
      "metadata": {
        "id": "qYv1xdXLkxaZ"
      },
      "execution_count": null,
      "outputs": []
    },
    {
      "cell_type": "code",
      "source": [
        "# The question network\n",
        "int_sequences_input = Input(shape=(None,), dtype=\"int64\")\n",
        "embedded_sequences = embedding_layer(int_sequences_input)\n",
        "x1 = layers.LSTM(32)(embedded_sequences)\n",
        "x1 = layers.Dense(16, activation='relu')(x1)\n",
        "\n",
        "metadata_input = Input(shape=x_two_train[0].shape)\n",
        "x2 = layers.Dense(2, activation='relu')(metadata_input)\n",
        "\n",
        "# Merge -> output\n",
        "out = layers.Concatenate()([x1, x2])\n",
        "out = layers.Dense(24, activation='tanh')(out)\n",
        "out = layers.Dense(len(classes), activation='softmax')(out)\n",
        "\n",
        "multi_model = Model(inputs=[int_sequences_input, metadata_input], outputs=out)\n",
        "multi_model.compile(Adam(lr=5e-4), loss='sparse_categorical_crossentropy', metrics=['accuracy'])"
      ],
      "metadata": {
        "colab": {
          "base_uri": "https://localhost:8080/"
        },
        "id": "PPRiTV01ko_w",
        "outputId": "426db162-442e-403c-e302-d82b74fb1c42"
      },
      "execution_count": null,
      "outputs": [
        {
          "output_type": "stream",
          "name": "stderr",
          "text": [
            "/usr/local/lib/python3.7/dist-packages/keras/optimizer_v2/adam.py:105: UserWarning: The `lr` argument is deprecated, use `learning_rate` instead.\n",
            "  super(Adam, self).__init__(name, **kwargs)\n"
          ]
        }
      ]
    },
    {
      "cell_type": "code",
      "source": [
        "multi_model.summary()"
      ],
      "metadata": {
        "colab": {
          "base_uri": "https://localhost:8080/"
        },
        "id": "dTRB9IhRk1bZ",
        "outputId": "6f3ec5ac-1b5d-4612-d92d-cf1682ad78e8"
      },
      "execution_count": null,
      "outputs": [
        {
          "output_type": "stream",
          "name": "stdout",
          "text": [
            "Model: \"model_24\"\n",
            "__________________________________________________________________________________________________\n",
            " Layer (type)                   Output Shape         Param #     Connected to                     \n",
            "==================================================================================================\n",
            " input_49 (InputLayer)          [(None, None)]       0           []                               \n",
            "                                                                                                  \n",
            " embedding_16 (Embedding)       (None, None, 200)    417600      ['input_49[0][0]']               \n",
            "                                                                                                  \n",
            " lstm_23 (LSTM)                 (None, 32)           29824       ['embedding_16[0][0]']           \n",
            "                                                                                                  \n",
            " input_50 (InputLayer)          [(None, 2)]          0           []                               \n",
            "                                                                                                  \n",
            " dense_96 (Dense)               (None, 16)           528         ['lstm_23[0][0]']                \n",
            "                                                                                                  \n",
            " dense_97 (Dense)               (None, 2)            6           ['input_50[0][0]']               \n",
            "                                                                                                  \n",
            " concatenate_24 (Concatenate)   (None, 18)           0           ['dense_96[0][0]',               \n",
            "                                                                  'dense_97[0][0]']               \n",
            "                                                                                                  \n",
            " dense_98 (Dense)               (None, 24)           456         ['concatenate_24[0][0]']         \n",
            "                                                                                                  \n",
            " dense_99 (Dense)               (None, 3)            75          ['dense_98[0][0]']               \n",
            "                                                                                                  \n",
            "==================================================================================================\n",
            "Total params: 448,489\n",
            "Trainable params: 30,889\n",
            "Non-trainable params: 417,600\n",
            "__________________________________________________________________________________________________\n"
          ]
        }
      ]
    },
    {
      "cell_type": "code",
      "source": [
        "multi_model.fit([x_train_message_vec, x_two_train], y_train_vec, \n",
        "                batch_size=batch_len, \n",
        "                epochs=num_epochs + 50, \n",
        "                validation_data=([x_valid_message_vec, x_two_val], y_valid_vec))\n",
        "                # callbacks = [EARLY_STOP])"
      ],
      "metadata": {
        "colab": {
          "base_uri": "https://localhost:8080/",
          "height": 989
        },
        "id": "gbB_ChNIlNeV",
        "outputId": "fa667d6b-90d4-4037-f31c-825e1835b77a"
      },
      "execution_count": null,
      "outputs": [
        {
          "output_type": "stream",
          "name": "stdout",
          "text": [
            "Epoch 1/100\n",
            "84/84 [==============================] - 2s 11ms/step - loss: 1.0793 - accuracy: 0.3869 - val_loss: 1.0749 - val_accuracy: 0.4301\n",
            "Epoch 2/100\n",
            "84/84 [==============================] - 1s 6ms/step - loss: 1.0679 - accuracy: 0.4010 - val_loss: 1.0695 - val_accuracy: 0.4301\n",
            "Epoch 3/100\n",
            "84/84 [==============================] - 1s 7ms/step - loss: 1.0649 - accuracy: 0.4122 - val_loss: 1.0677 - val_accuracy: 0.4301\n",
            "Epoch 4/100\n",
            "84/84 [==============================] - 1s 6ms/step - loss: 1.0633 - accuracy: 0.4159 - val_loss: 1.0661 - val_accuracy: 0.4301\n",
            "Epoch 5/100\n",
            "84/84 [==============================] - 1s 6ms/step - loss: 1.0627 - accuracy: 0.4152 - val_loss: 1.0650 - val_accuracy: 0.4301\n",
            "Epoch 6/100\n",
            "84/84 [==============================] - 1s 6ms/step - loss: 1.0621 - accuracy: 0.4167 - val_loss: 1.0640 - val_accuracy: 0.4301\n",
            "Epoch 7/100\n",
            "84/84 [==============================] - 1s 7ms/step - loss: 1.0617 - accuracy: 0.4159 - val_loss: 1.0633 - val_accuracy: 0.4301\n",
            "Epoch 8/100\n",
            "84/84 [==============================] - 1s 6ms/step - loss: 1.0617 - accuracy: 0.4159 - val_loss: 1.0630 - val_accuracy: 0.4301\n",
            "Epoch 9/100\n",
            "84/84 [==============================] - 1s 6ms/step - loss: 1.0615 - accuracy: 0.4159 - val_loss: 1.0626 - val_accuracy: 0.4301\n",
            "Epoch 10/100\n",
            "84/84 [==============================] - 1s 6ms/step - loss: 1.0614 - accuracy: 0.4159 - val_loss: 1.0620 - val_accuracy: 0.4301\n",
            "Epoch 11/100\n",
            "84/84 [==============================] - 1s 6ms/step - loss: 1.0610 - accuracy: 0.4159 - val_loss: 1.0618 - val_accuracy: 0.4301\n",
            "Epoch 12/100\n",
            "84/84 [==============================] - 1s 6ms/step - loss: 1.0609 - accuracy: 0.4159 - val_loss: 1.0617 - val_accuracy: 0.4301\n",
            "Epoch 13/100\n",
            "84/84 [==============================] - 1s 6ms/step - loss: 1.0612 - accuracy: 0.4159 - val_loss: 1.0616 - val_accuracy: 0.4301\n",
            "Epoch 14/100\n",
            "84/84 [==============================] - 0s 6ms/step - loss: 1.0611 - accuracy: 0.4167 - val_loss: 1.0614 - val_accuracy: 0.4301\n",
            "Epoch 15/100\n",
            "84/84 [==============================] - 1s 6ms/step - loss: 1.0607 - accuracy: 0.4159 - val_loss: 1.0612 - val_accuracy: 0.4301\n",
            "Epoch 16/100\n",
            "84/84 [==============================] - 1s 6ms/step - loss: 1.0606 - accuracy: 0.4159 - val_loss: 1.0609 - val_accuracy: 0.4301\n",
            "Epoch 17/100\n",
            "84/84 [==============================] - 1s 6ms/step - loss: 1.0609 - accuracy: 0.4159 - val_loss: 1.0609 - val_accuracy: 0.4301\n",
            "Epoch 18/100\n",
            "77/84 [==========================>...] - ETA: 0s - loss: 1.0609 - accuracy: 0.4205"
          ]
        },
        {
          "output_type": "error",
          "ename": "KeyboardInterrupt",
          "evalue": "ignored",
          "traceback": [
            "\u001b[0;31m---------------------------------------------------------------------------\u001b[0m",
            "\u001b[0;31mKeyboardInterrupt\u001b[0m                         Traceback (most recent call last)",
            "\u001b[0;32m<ipython-input-185-5bb71e7169c5>\u001b[0m in \u001b[0;36m<module>\u001b[0;34m()\u001b[0m\n\u001b[1;32m      2\u001b[0m                 \u001b[0mbatch_size\u001b[0m\u001b[0;34m=\u001b[0m\u001b[0mbatch_len\u001b[0m\u001b[0;34m,\u001b[0m\u001b[0;34m\u001b[0m\u001b[0;34m\u001b[0m\u001b[0m\n\u001b[1;32m      3\u001b[0m                 \u001b[0mepochs\u001b[0m\u001b[0;34m=\u001b[0m\u001b[0mnum_epochs\u001b[0m \u001b[0;34m+\u001b[0m \u001b[0;36m50\u001b[0m\u001b[0;34m,\u001b[0m\u001b[0;34m\u001b[0m\u001b[0;34m\u001b[0m\u001b[0m\n\u001b[0;32m----> 4\u001b[0;31m                 validation_data=([x_valid_message_vec, x_two_val], y_valid_vec))\n\u001b[0m\u001b[1;32m      5\u001b[0m                 \u001b[0;31m# callbacks = [EARLY_STOP])\u001b[0m\u001b[0;34m\u001b[0m\u001b[0;34m\u001b[0m\u001b[0;34m\u001b[0m\u001b[0m\n",
            "\u001b[0;32m/usr/local/lib/python3.7/dist-packages/keras/utils/traceback_utils.py\u001b[0m in \u001b[0;36merror_handler\u001b[0;34m(*args, **kwargs)\u001b[0m\n\u001b[1;32m     62\u001b[0m     \u001b[0mfiltered_tb\u001b[0m \u001b[0;34m=\u001b[0m \u001b[0;32mNone\u001b[0m\u001b[0;34m\u001b[0m\u001b[0;34m\u001b[0m\u001b[0m\n\u001b[1;32m     63\u001b[0m     \u001b[0;32mtry\u001b[0m\u001b[0;34m:\u001b[0m\u001b[0;34m\u001b[0m\u001b[0;34m\u001b[0m\u001b[0m\n\u001b[0;32m---> 64\u001b[0;31m       \u001b[0;32mreturn\u001b[0m \u001b[0mfn\u001b[0m\u001b[0;34m(\u001b[0m\u001b[0;34m*\u001b[0m\u001b[0margs\u001b[0m\u001b[0;34m,\u001b[0m \u001b[0;34m**\u001b[0m\u001b[0mkwargs\u001b[0m\u001b[0;34m)\u001b[0m\u001b[0;34m\u001b[0m\u001b[0;34m\u001b[0m\u001b[0m\n\u001b[0m\u001b[1;32m     65\u001b[0m     \u001b[0;32mexcept\u001b[0m \u001b[0mException\u001b[0m \u001b[0;32mas\u001b[0m \u001b[0me\u001b[0m\u001b[0;34m:\u001b[0m  \u001b[0;31m# pylint: disable=broad-except\u001b[0m\u001b[0;34m\u001b[0m\u001b[0;34m\u001b[0m\u001b[0m\n\u001b[1;32m     66\u001b[0m       \u001b[0mfiltered_tb\u001b[0m \u001b[0;34m=\u001b[0m \u001b[0m_process_traceback_frames\u001b[0m\u001b[0;34m(\u001b[0m\u001b[0me\u001b[0m\u001b[0;34m.\u001b[0m\u001b[0m__traceback__\u001b[0m\u001b[0;34m)\u001b[0m\u001b[0;34m\u001b[0m\u001b[0;34m\u001b[0m\u001b[0m\n",
            "\u001b[0;32m/usr/local/lib/python3.7/dist-packages/keras/engine/training.py\u001b[0m in \u001b[0;36mfit\u001b[0;34m(self, x, y, batch_size, epochs, verbose, callbacks, validation_split, validation_data, shuffle, class_weight, sample_weight, initial_epoch, steps_per_epoch, validation_steps, validation_batch_size, validation_freq, max_queue_size, workers, use_multiprocessing)\u001b[0m\n\u001b[1;32m   1387\u001b[0m               \u001b[0mlogs\u001b[0m \u001b[0;34m=\u001b[0m \u001b[0mtmp_logs\u001b[0m  \u001b[0;31m# No error, now safe to assign to logs.\u001b[0m\u001b[0;34m\u001b[0m\u001b[0;34m\u001b[0m\u001b[0m\n\u001b[1;32m   1388\u001b[0m               \u001b[0mend_step\u001b[0m \u001b[0;34m=\u001b[0m \u001b[0mstep\u001b[0m \u001b[0;34m+\u001b[0m \u001b[0mdata_handler\u001b[0m\u001b[0;34m.\u001b[0m\u001b[0mstep_increment\u001b[0m\u001b[0;34m\u001b[0m\u001b[0;34m\u001b[0m\u001b[0m\n\u001b[0;32m-> 1389\u001b[0;31m               \u001b[0mcallbacks\u001b[0m\u001b[0;34m.\u001b[0m\u001b[0mon_train_batch_end\u001b[0m\u001b[0;34m(\u001b[0m\u001b[0mend_step\u001b[0m\u001b[0;34m,\u001b[0m \u001b[0mlogs\u001b[0m\u001b[0;34m)\u001b[0m\u001b[0;34m\u001b[0m\u001b[0;34m\u001b[0m\u001b[0m\n\u001b[0m\u001b[1;32m   1390\u001b[0m               \u001b[0;32mif\u001b[0m \u001b[0mself\u001b[0m\u001b[0;34m.\u001b[0m\u001b[0mstop_training\u001b[0m\u001b[0;34m:\u001b[0m\u001b[0;34m\u001b[0m\u001b[0;34m\u001b[0m\u001b[0m\n\u001b[1;32m   1391\u001b[0m                 \u001b[0;32mbreak\u001b[0m\u001b[0;34m\u001b[0m\u001b[0;34m\u001b[0m\u001b[0m\n",
            "\u001b[0;32m/usr/local/lib/python3.7/dist-packages/keras/callbacks.py\u001b[0m in \u001b[0;36mon_train_batch_end\u001b[0;34m(self, batch, logs)\u001b[0m\n\u001b[1;32m    436\u001b[0m     \"\"\"\n\u001b[1;32m    437\u001b[0m     \u001b[0;32mif\u001b[0m \u001b[0mself\u001b[0m\u001b[0;34m.\u001b[0m\u001b[0m_should_call_train_batch_hooks\u001b[0m\u001b[0;34m:\u001b[0m\u001b[0;34m\u001b[0m\u001b[0;34m\u001b[0m\u001b[0m\n\u001b[0;32m--> 438\u001b[0;31m       \u001b[0mself\u001b[0m\u001b[0;34m.\u001b[0m\u001b[0m_call_batch_hook\u001b[0m\u001b[0;34m(\u001b[0m\u001b[0mModeKeys\u001b[0m\u001b[0;34m.\u001b[0m\u001b[0mTRAIN\u001b[0m\u001b[0;34m,\u001b[0m \u001b[0;34m'end'\u001b[0m\u001b[0;34m,\u001b[0m \u001b[0mbatch\u001b[0m\u001b[0;34m,\u001b[0m \u001b[0mlogs\u001b[0m\u001b[0;34m=\u001b[0m\u001b[0mlogs\u001b[0m\u001b[0;34m)\u001b[0m\u001b[0;34m\u001b[0m\u001b[0;34m\u001b[0m\u001b[0m\n\u001b[0m\u001b[1;32m    439\u001b[0m \u001b[0;34m\u001b[0m\u001b[0m\n\u001b[1;32m    440\u001b[0m   \u001b[0;32mdef\u001b[0m \u001b[0mon_test_batch_begin\u001b[0m\u001b[0;34m(\u001b[0m\u001b[0mself\u001b[0m\u001b[0;34m,\u001b[0m \u001b[0mbatch\u001b[0m\u001b[0;34m,\u001b[0m \u001b[0mlogs\u001b[0m\u001b[0;34m=\u001b[0m\u001b[0;32mNone\u001b[0m\u001b[0;34m)\u001b[0m\u001b[0;34m:\u001b[0m\u001b[0;34m\u001b[0m\u001b[0;34m\u001b[0m\u001b[0m\n",
            "\u001b[0;32m/usr/local/lib/python3.7/dist-packages/keras/callbacks.py\u001b[0m in \u001b[0;36m_call_batch_hook\u001b[0;34m(self, mode, hook, batch, logs)\u001b[0m\n\u001b[1;32m    295\u001b[0m       \u001b[0mself\u001b[0m\u001b[0;34m.\u001b[0m\u001b[0m_call_batch_begin_hook\u001b[0m\u001b[0;34m(\u001b[0m\u001b[0mmode\u001b[0m\u001b[0;34m,\u001b[0m \u001b[0mbatch\u001b[0m\u001b[0;34m,\u001b[0m \u001b[0mlogs\u001b[0m\u001b[0;34m)\u001b[0m\u001b[0;34m\u001b[0m\u001b[0;34m\u001b[0m\u001b[0m\n\u001b[1;32m    296\u001b[0m     \u001b[0;32melif\u001b[0m \u001b[0mhook\u001b[0m \u001b[0;34m==\u001b[0m \u001b[0;34m'end'\u001b[0m\u001b[0;34m:\u001b[0m\u001b[0;34m\u001b[0m\u001b[0;34m\u001b[0m\u001b[0m\n\u001b[0;32m--> 297\u001b[0;31m       \u001b[0mself\u001b[0m\u001b[0;34m.\u001b[0m\u001b[0m_call_batch_end_hook\u001b[0m\u001b[0;34m(\u001b[0m\u001b[0mmode\u001b[0m\u001b[0;34m,\u001b[0m \u001b[0mbatch\u001b[0m\u001b[0;34m,\u001b[0m \u001b[0mlogs\u001b[0m\u001b[0;34m)\u001b[0m\u001b[0;34m\u001b[0m\u001b[0;34m\u001b[0m\u001b[0m\n\u001b[0m\u001b[1;32m    298\u001b[0m     \u001b[0;32melse\u001b[0m\u001b[0;34m:\u001b[0m\u001b[0;34m\u001b[0m\u001b[0;34m\u001b[0m\u001b[0m\n\u001b[1;32m    299\u001b[0m       raise ValueError(\n",
            "\u001b[0;32m/usr/local/lib/python3.7/dist-packages/keras/callbacks.py\u001b[0m in \u001b[0;36m_call_batch_end_hook\u001b[0;34m(self, mode, batch, logs)\u001b[0m\n\u001b[1;32m    316\u001b[0m       \u001b[0mself\u001b[0m\u001b[0;34m.\u001b[0m\u001b[0m_batch_times\u001b[0m\u001b[0;34m.\u001b[0m\u001b[0mappend\u001b[0m\u001b[0;34m(\u001b[0m\u001b[0mbatch_time\u001b[0m\u001b[0;34m)\u001b[0m\u001b[0;34m\u001b[0m\u001b[0;34m\u001b[0m\u001b[0m\n\u001b[1;32m    317\u001b[0m \u001b[0;34m\u001b[0m\u001b[0m\n\u001b[0;32m--> 318\u001b[0;31m     \u001b[0mself\u001b[0m\u001b[0;34m.\u001b[0m\u001b[0m_call_batch_hook_helper\u001b[0m\u001b[0;34m(\u001b[0m\u001b[0mhook_name\u001b[0m\u001b[0;34m,\u001b[0m \u001b[0mbatch\u001b[0m\u001b[0;34m,\u001b[0m \u001b[0mlogs\u001b[0m\u001b[0;34m)\u001b[0m\u001b[0;34m\u001b[0m\u001b[0;34m\u001b[0m\u001b[0m\n\u001b[0m\u001b[1;32m    319\u001b[0m \u001b[0;34m\u001b[0m\u001b[0m\n\u001b[1;32m    320\u001b[0m     \u001b[0;32mif\u001b[0m \u001b[0mlen\u001b[0m\u001b[0;34m(\u001b[0m\u001b[0mself\u001b[0m\u001b[0;34m.\u001b[0m\u001b[0m_batch_times\u001b[0m\u001b[0;34m)\u001b[0m \u001b[0;34m>=\u001b[0m \u001b[0mself\u001b[0m\u001b[0;34m.\u001b[0m\u001b[0m_num_batches_for_timing_check\u001b[0m\u001b[0;34m:\u001b[0m\u001b[0;34m\u001b[0m\u001b[0;34m\u001b[0m\u001b[0m\n",
            "\u001b[0;32m/usr/local/lib/python3.7/dist-packages/keras/callbacks.py\u001b[0m in \u001b[0;36m_call_batch_hook_helper\u001b[0;34m(self, hook_name, batch, logs)\u001b[0m\n\u001b[1;32m    354\u001b[0m     \u001b[0;32mfor\u001b[0m \u001b[0mcallback\u001b[0m \u001b[0;32min\u001b[0m \u001b[0mself\u001b[0m\u001b[0;34m.\u001b[0m\u001b[0mcallbacks\u001b[0m\u001b[0;34m:\u001b[0m\u001b[0;34m\u001b[0m\u001b[0;34m\u001b[0m\u001b[0m\n\u001b[1;32m    355\u001b[0m       \u001b[0mhook\u001b[0m \u001b[0;34m=\u001b[0m \u001b[0mgetattr\u001b[0m\u001b[0;34m(\u001b[0m\u001b[0mcallback\u001b[0m\u001b[0;34m,\u001b[0m \u001b[0mhook_name\u001b[0m\u001b[0;34m)\u001b[0m\u001b[0;34m\u001b[0m\u001b[0;34m\u001b[0m\u001b[0m\n\u001b[0;32m--> 356\u001b[0;31m       \u001b[0mhook\u001b[0m\u001b[0;34m(\u001b[0m\u001b[0mbatch\u001b[0m\u001b[0;34m,\u001b[0m \u001b[0mlogs\u001b[0m\u001b[0;34m)\u001b[0m\u001b[0;34m\u001b[0m\u001b[0;34m\u001b[0m\u001b[0m\n\u001b[0m\u001b[1;32m    357\u001b[0m \u001b[0;34m\u001b[0m\u001b[0m\n\u001b[1;32m    358\u001b[0m     \u001b[0;32mif\u001b[0m \u001b[0mself\u001b[0m\u001b[0;34m.\u001b[0m\u001b[0m_check_timing\u001b[0m\u001b[0;34m:\u001b[0m\u001b[0;34m\u001b[0m\u001b[0;34m\u001b[0m\u001b[0m\n",
            "\u001b[0;32m/usr/local/lib/python3.7/dist-packages/keras/callbacks.py\u001b[0m in \u001b[0;36mon_train_batch_end\u001b[0;34m(self, batch, logs)\u001b[0m\n\u001b[1;32m   1032\u001b[0m \u001b[0;34m\u001b[0m\u001b[0m\n\u001b[1;32m   1033\u001b[0m   \u001b[0;32mdef\u001b[0m \u001b[0mon_train_batch_end\u001b[0m\u001b[0;34m(\u001b[0m\u001b[0mself\u001b[0m\u001b[0;34m,\u001b[0m \u001b[0mbatch\u001b[0m\u001b[0;34m,\u001b[0m \u001b[0mlogs\u001b[0m\u001b[0;34m=\u001b[0m\u001b[0;32mNone\u001b[0m\u001b[0;34m)\u001b[0m\u001b[0;34m:\u001b[0m\u001b[0;34m\u001b[0m\u001b[0;34m\u001b[0m\u001b[0m\n\u001b[0;32m-> 1034\u001b[0;31m     \u001b[0mself\u001b[0m\u001b[0;34m.\u001b[0m\u001b[0m_batch_update_progbar\u001b[0m\u001b[0;34m(\u001b[0m\u001b[0mbatch\u001b[0m\u001b[0;34m,\u001b[0m \u001b[0mlogs\u001b[0m\u001b[0;34m)\u001b[0m\u001b[0;34m\u001b[0m\u001b[0;34m\u001b[0m\u001b[0m\n\u001b[0m\u001b[1;32m   1035\u001b[0m \u001b[0;34m\u001b[0m\u001b[0m\n\u001b[1;32m   1036\u001b[0m   \u001b[0;32mdef\u001b[0m \u001b[0mon_test_batch_end\u001b[0m\u001b[0;34m(\u001b[0m\u001b[0mself\u001b[0m\u001b[0;34m,\u001b[0m \u001b[0mbatch\u001b[0m\u001b[0;34m,\u001b[0m \u001b[0mlogs\u001b[0m\u001b[0;34m=\u001b[0m\u001b[0;32mNone\u001b[0m\u001b[0;34m)\u001b[0m\u001b[0;34m:\u001b[0m\u001b[0;34m\u001b[0m\u001b[0;34m\u001b[0m\u001b[0m\n",
            "\u001b[0;32m/usr/local/lib/python3.7/dist-packages/keras/callbacks.py\u001b[0m in \u001b[0;36m_batch_update_progbar\u001b[0;34m(self, batch, logs)\u001b[0m\n\u001b[1;32m   1104\u001b[0m     \u001b[0;32mif\u001b[0m \u001b[0mself\u001b[0m\u001b[0;34m.\u001b[0m\u001b[0mverbose\u001b[0m \u001b[0;34m==\u001b[0m \u001b[0;36m1\u001b[0m\u001b[0;34m:\u001b[0m\u001b[0;34m\u001b[0m\u001b[0;34m\u001b[0m\u001b[0m\n\u001b[1;32m   1105\u001b[0m       \u001b[0;31m# Only block async when verbose = 1.\u001b[0m\u001b[0;34m\u001b[0m\u001b[0;34m\u001b[0m\u001b[0;34m\u001b[0m\u001b[0m\n\u001b[0;32m-> 1106\u001b[0;31m       \u001b[0mlogs\u001b[0m \u001b[0;34m=\u001b[0m \u001b[0mtf_utils\u001b[0m\u001b[0;34m.\u001b[0m\u001b[0msync_to_numpy_or_python_type\u001b[0m\u001b[0;34m(\u001b[0m\u001b[0mlogs\u001b[0m\u001b[0;34m)\u001b[0m\u001b[0;34m\u001b[0m\u001b[0;34m\u001b[0m\u001b[0m\n\u001b[0m\u001b[1;32m   1107\u001b[0m       \u001b[0mself\u001b[0m\u001b[0;34m.\u001b[0m\u001b[0mprogbar\u001b[0m\u001b[0;34m.\u001b[0m\u001b[0mupdate\u001b[0m\u001b[0;34m(\u001b[0m\u001b[0mself\u001b[0m\u001b[0;34m.\u001b[0m\u001b[0mseen\u001b[0m\u001b[0;34m,\u001b[0m \u001b[0mlist\u001b[0m\u001b[0;34m(\u001b[0m\u001b[0mlogs\u001b[0m\u001b[0;34m.\u001b[0m\u001b[0mitems\u001b[0m\u001b[0;34m(\u001b[0m\u001b[0;34m)\u001b[0m\u001b[0;34m)\u001b[0m\u001b[0;34m,\u001b[0m \u001b[0mfinalize\u001b[0m\u001b[0;34m=\u001b[0m\u001b[0;32mFalse\u001b[0m\u001b[0;34m)\u001b[0m\u001b[0;34m\u001b[0m\u001b[0;34m\u001b[0m\u001b[0m\n\u001b[1;32m   1108\u001b[0m \u001b[0;34m\u001b[0m\u001b[0m\n",
            "\u001b[0;32m/usr/local/lib/python3.7/dist-packages/keras/utils/tf_utils.py\u001b[0m in \u001b[0;36msync_to_numpy_or_python_type\u001b[0;34m(tensors)\u001b[0m\n\u001b[1;32m    561\u001b[0m     \u001b[0;32mreturn\u001b[0m \u001b[0mt\u001b[0m\u001b[0;34m.\u001b[0m\u001b[0mitem\u001b[0m\u001b[0;34m(\u001b[0m\u001b[0;34m)\u001b[0m \u001b[0;32mif\u001b[0m \u001b[0mnp\u001b[0m\u001b[0;34m.\u001b[0m\u001b[0mndim\u001b[0m\u001b[0;34m(\u001b[0m\u001b[0mt\u001b[0m\u001b[0;34m)\u001b[0m \u001b[0;34m==\u001b[0m \u001b[0;36m0\u001b[0m \u001b[0;32melse\u001b[0m \u001b[0mt\u001b[0m\u001b[0;34m\u001b[0m\u001b[0;34m\u001b[0m\u001b[0m\n\u001b[1;32m    562\u001b[0m \u001b[0;34m\u001b[0m\u001b[0m\n\u001b[0;32m--> 563\u001b[0;31m   \u001b[0;32mreturn\u001b[0m \u001b[0mtf\u001b[0m\u001b[0;34m.\u001b[0m\u001b[0mnest\u001b[0m\u001b[0;34m.\u001b[0m\u001b[0mmap_structure\u001b[0m\u001b[0;34m(\u001b[0m\u001b[0m_to_single_numpy_or_python_type\u001b[0m\u001b[0;34m,\u001b[0m \u001b[0mtensors\u001b[0m\u001b[0;34m)\u001b[0m\u001b[0;34m\u001b[0m\u001b[0;34m\u001b[0m\u001b[0m\n\u001b[0m\u001b[1;32m    564\u001b[0m \u001b[0;34m\u001b[0m\u001b[0m\n\u001b[1;32m    565\u001b[0m \u001b[0;34m\u001b[0m\u001b[0m\n",
            "\u001b[0;32m/usr/local/lib/python3.7/dist-packages/tensorflow/python/util/nest.py\u001b[0m in \u001b[0;36mmap_structure\u001b[0;34m(func, *structure, **kwargs)\u001b[0m\n\u001b[1;32m    912\u001b[0m \u001b[0;34m\u001b[0m\u001b[0m\n\u001b[1;32m    913\u001b[0m   return pack_sequence_as(\n\u001b[0;32m--> 914\u001b[0;31m       \u001b[0mstructure\u001b[0m\u001b[0;34m[\u001b[0m\u001b[0;36m0\u001b[0m\u001b[0;34m]\u001b[0m\u001b[0;34m,\u001b[0m \u001b[0;34m[\u001b[0m\u001b[0mfunc\u001b[0m\u001b[0;34m(\u001b[0m\u001b[0;34m*\u001b[0m\u001b[0mx\u001b[0m\u001b[0;34m)\u001b[0m \u001b[0;32mfor\u001b[0m \u001b[0mx\u001b[0m \u001b[0;32min\u001b[0m \u001b[0mentries\u001b[0m\u001b[0;34m]\u001b[0m\u001b[0;34m,\u001b[0m\u001b[0;34m\u001b[0m\u001b[0;34m\u001b[0m\u001b[0m\n\u001b[0m\u001b[1;32m    915\u001b[0m       expand_composites=expand_composites)\n\u001b[1;32m    916\u001b[0m \u001b[0;34m\u001b[0m\u001b[0m\n",
            "\u001b[0;32m/usr/local/lib/python3.7/dist-packages/tensorflow/python/util/nest.py\u001b[0m in \u001b[0;36m<listcomp>\u001b[0;34m(.0)\u001b[0m\n\u001b[1;32m    912\u001b[0m \u001b[0;34m\u001b[0m\u001b[0m\n\u001b[1;32m    913\u001b[0m   return pack_sequence_as(\n\u001b[0;32m--> 914\u001b[0;31m       \u001b[0mstructure\u001b[0m\u001b[0;34m[\u001b[0m\u001b[0;36m0\u001b[0m\u001b[0;34m]\u001b[0m\u001b[0;34m,\u001b[0m \u001b[0;34m[\u001b[0m\u001b[0mfunc\u001b[0m\u001b[0;34m(\u001b[0m\u001b[0;34m*\u001b[0m\u001b[0mx\u001b[0m\u001b[0;34m)\u001b[0m \u001b[0;32mfor\u001b[0m \u001b[0mx\u001b[0m \u001b[0;32min\u001b[0m \u001b[0mentries\u001b[0m\u001b[0;34m]\u001b[0m\u001b[0;34m,\u001b[0m\u001b[0;34m\u001b[0m\u001b[0;34m\u001b[0m\u001b[0m\n\u001b[0m\u001b[1;32m    915\u001b[0m       expand_composites=expand_composites)\n\u001b[1;32m    916\u001b[0m \u001b[0;34m\u001b[0m\u001b[0m\n",
            "\u001b[0;32m/usr/local/lib/python3.7/dist-packages/keras/utils/tf_utils.py\u001b[0m in \u001b[0;36m_to_single_numpy_or_python_type\u001b[0;34m(t)\u001b[0m\n\u001b[1;32m    555\u001b[0m     \u001b[0;31m# Don't turn ragged or sparse tensors to NumPy.\u001b[0m\u001b[0;34m\u001b[0m\u001b[0;34m\u001b[0m\u001b[0;34m\u001b[0m\u001b[0m\n\u001b[1;32m    556\u001b[0m     \u001b[0;32mif\u001b[0m \u001b[0misinstance\u001b[0m\u001b[0;34m(\u001b[0m\u001b[0mt\u001b[0m\u001b[0;34m,\u001b[0m \u001b[0mtf\u001b[0m\u001b[0;34m.\u001b[0m\u001b[0mTensor\u001b[0m\u001b[0;34m)\u001b[0m\u001b[0;34m:\u001b[0m\u001b[0;34m\u001b[0m\u001b[0;34m\u001b[0m\u001b[0m\n\u001b[0;32m--> 557\u001b[0;31m       \u001b[0mt\u001b[0m \u001b[0;34m=\u001b[0m \u001b[0mt\u001b[0m\u001b[0;34m.\u001b[0m\u001b[0mnumpy\u001b[0m\u001b[0;34m(\u001b[0m\u001b[0;34m)\u001b[0m\u001b[0;34m\u001b[0m\u001b[0;34m\u001b[0m\u001b[0m\n\u001b[0m\u001b[1;32m    558\u001b[0m     \u001b[0;31m# Strings, ragged and sparse tensors don't have .item(). Return them as-is.\u001b[0m\u001b[0;34m\u001b[0m\u001b[0;34m\u001b[0m\u001b[0;34m\u001b[0m\u001b[0m\n\u001b[1;32m    559\u001b[0m     \u001b[0;32mif\u001b[0m \u001b[0;32mnot\u001b[0m \u001b[0misinstance\u001b[0m\u001b[0;34m(\u001b[0m\u001b[0mt\u001b[0m\u001b[0;34m,\u001b[0m \u001b[0;34m(\u001b[0m\u001b[0mnp\u001b[0m\u001b[0;34m.\u001b[0m\u001b[0mndarray\u001b[0m\u001b[0;34m,\u001b[0m \u001b[0mnp\u001b[0m\u001b[0;34m.\u001b[0m\u001b[0mgeneric\u001b[0m\u001b[0;34m)\u001b[0m\u001b[0;34m)\u001b[0m\u001b[0;34m:\u001b[0m\u001b[0;34m\u001b[0m\u001b[0;34m\u001b[0m\u001b[0m\n",
            "\u001b[0;32m/usr/local/lib/python3.7/dist-packages/tensorflow/python/framework/ops.py\u001b[0m in \u001b[0;36mnumpy\u001b[0;34m(self)\u001b[0m\n\u001b[1;32m   1221\u001b[0m     \"\"\"\n\u001b[1;32m   1222\u001b[0m     \u001b[0;31m# TODO(slebedev): Consider avoiding a copy for non-CPU or remote tensors.\u001b[0m\u001b[0;34m\u001b[0m\u001b[0;34m\u001b[0m\u001b[0;34m\u001b[0m\u001b[0m\n\u001b[0;32m-> 1223\u001b[0;31m     \u001b[0mmaybe_arr\u001b[0m \u001b[0;34m=\u001b[0m \u001b[0mself\u001b[0m\u001b[0;34m.\u001b[0m\u001b[0m_numpy\u001b[0m\u001b[0;34m(\u001b[0m\u001b[0;34m)\u001b[0m  \u001b[0;31m# pylint: disable=protected-access\u001b[0m\u001b[0;34m\u001b[0m\u001b[0;34m\u001b[0m\u001b[0m\n\u001b[0m\u001b[1;32m   1224\u001b[0m     \u001b[0;32mreturn\u001b[0m \u001b[0mmaybe_arr\u001b[0m\u001b[0;34m.\u001b[0m\u001b[0mcopy\u001b[0m\u001b[0;34m(\u001b[0m\u001b[0;34m)\u001b[0m \u001b[0;32mif\u001b[0m \u001b[0misinstance\u001b[0m\u001b[0;34m(\u001b[0m\u001b[0mmaybe_arr\u001b[0m\u001b[0;34m,\u001b[0m \u001b[0mnp\u001b[0m\u001b[0;34m.\u001b[0m\u001b[0mndarray\u001b[0m\u001b[0;34m)\u001b[0m \u001b[0;32melse\u001b[0m \u001b[0mmaybe_arr\u001b[0m\u001b[0;34m\u001b[0m\u001b[0;34m\u001b[0m\u001b[0m\n\u001b[1;32m   1225\u001b[0m \u001b[0;34m\u001b[0m\u001b[0m\n",
            "\u001b[0;32m/usr/local/lib/python3.7/dist-packages/tensorflow/python/framework/ops.py\u001b[0m in \u001b[0;36m_numpy\u001b[0;34m(self)\u001b[0m\n\u001b[1;32m   1187\u001b[0m   \u001b[0;32mdef\u001b[0m \u001b[0m_numpy\u001b[0m\u001b[0;34m(\u001b[0m\u001b[0mself\u001b[0m\u001b[0;34m)\u001b[0m\u001b[0;34m:\u001b[0m\u001b[0;34m\u001b[0m\u001b[0;34m\u001b[0m\u001b[0m\n\u001b[1;32m   1188\u001b[0m     \u001b[0;32mtry\u001b[0m\u001b[0;34m:\u001b[0m\u001b[0;34m\u001b[0m\u001b[0;34m\u001b[0m\u001b[0m\n\u001b[0;32m-> 1189\u001b[0;31m       \u001b[0;32mreturn\u001b[0m \u001b[0mself\u001b[0m\u001b[0;34m.\u001b[0m\u001b[0m_numpy_internal\u001b[0m\u001b[0;34m(\u001b[0m\u001b[0;34m)\u001b[0m\u001b[0;34m\u001b[0m\u001b[0;34m\u001b[0m\u001b[0m\n\u001b[0m\u001b[1;32m   1190\u001b[0m     \u001b[0;32mexcept\u001b[0m \u001b[0mcore\u001b[0m\u001b[0;34m.\u001b[0m\u001b[0m_NotOkStatusException\u001b[0m \u001b[0;32mas\u001b[0m \u001b[0me\u001b[0m\u001b[0;34m:\u001b[0m  \u001b[0;31m# pylint: disable=protected-access\u001b[0m\u001b[0;34m\u001b[0m\u001b[0;34m\u001b[0m\u001b[0m\n\u001b[1;32m   1191\u001b[0m       \u001b[0;32mraise\u001b[0m \u001b[0mcore\u001b[0m\u001b[0;34m.\u001b[0m\u001b[0m_status_to_exception\u001b[0m\u001b[0;34m(\u001b[0m\u001b[0me\u001b[0m\u001b[0;34m)\u001b[0m \u001b[0;32mfrom\u001b[0m \u001b[0;32mNone\u001b[0m  \u001b[0;31m# pylint: disable=protected-access\u001b[0m\u001b[0;34m\u001b[0m\u001b[0;34m\u001b[0m\u001b[0m\n",
            "\u001b[0;31mKeyboardInterrupt\u001b[0m: "
          ]
        }
      ]
    }
  ]
}